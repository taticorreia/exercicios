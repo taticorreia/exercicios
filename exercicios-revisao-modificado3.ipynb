{
 "cells": [
  {
   "cell_type": "markdown",
   "metadata": {},
   "source": [
    "# Exercícios de Revisão"
   ]
  },
  {
   "cell_type": "markdown",
   "metadata": {},
   "source": [
    "<div style=\"text-align:justify\">\n",
    "Esta lista de exercícios tem por objetivo revisar todos os conceitos vistos até esse momento. Alguns dos exercícios aqui descritos provavelmente já foram feitos em outra lista, mas vamos fazer novamente para reforçar os conceitos.\n",
    "</div>\n",
    "\n",
    "Os conceitos que vamos revisar, são:\n",
    "- Estrutura condicional (if / else)\n",
    "- Estruturas de repetição (while / for)\n",
    "- Vetores e matrizes\n",
    "- Funções"
   ]
  },
  {
   "cell_type": "markdown",
   "metadata": {},
   "source": [
    "### Exercício 1"
   ]
  },
  {
   "cell_type": "markdown",
   "metadata": {},
   "source": [
    "<div style=\"text-align:justify\">\n",
    "Escreva um programa em Python que receba como entrada dois números: `n1` e `n2`. Como saída, seu programa deve informar se <i>\"n1 é maior que n2\"</i>; <i>\"n2 é maior que n1\"</i> ou se <i>\"n1 e n2 são iguais\"</i>.\n",
    "</div>"
   ]
  },
  {
   "cell_type": "code",
   "execution_count": 4,
   "metadata": {},
   "outputs": [
    {
     "name": "stdout",
     "output_type": "stream",
     "text": [
      "n1:2\n",
      "n2:3\n",
      "2 e menor que 3\n"
     ]
    }
   ],
   "source": [
    "n1 = int(input('n1:'))\n",
    "n2 = int(input('n2:'))\n",
    "\n",
    "if n1 > n2:\n",
    "    print('%d e maior q %d' % (n1, n2))\n",
    "    \n",
    "elif n1 < n2:\n",
    "    print('%d e menor que %d'% (n1, n2))\n",
    "\n",
    "else:\n",
    "    print('os dois sao iguais')\n",
    "\n",
    "\n",
    "\n",
    "        "
   ]
  },
  {
   "cell_type": "markdown",
   "metadata": {},
   "source": [
    "### Exercício 2"
   ]
  },
  {
   "cell_type": "markdown",
   "metadata": {},
   "source": [
    "<div style=\"text-align:justify\">\n",
    "Escreva uma função `def` que receba como entrada três valores, referente aos coeficientes `a`, `b` e `c` de uma equação do segundo grau. Sua função deve ser capaz de calcular as raízes `x1` e `x2` dessa equação e retornar esse resultado para o programa principal. Um ponto de atenção é que a equação de segundo grau pode não ter raízes reais, então caso o valor de `delta` seja negativo, sua função deve retornar uma exceção.<br><br>\n",
    "    \n",
    "Ainda não estudamos exceções em Python. É sua tarefa estudá-las agora.<br><br>\n",
    "\n",
    "Ao concluir o exercício teste todos os fluxos da função, ou seja, experimente fornecer para a função coeficientes que produzam raízes reais e também coeficientes que produzam raízes complexas.\n",
    "</div>"
   ]
  },
  {
   "cell_type": "code",
   "execution_count": 5,
   "metadata": {},
   "outputs": [],
   "source": [
    "def soma(a, b, c):\n",
    "    return a + b + c"
   ]
  },
  {
   "cell_type": "code",
   "execution_count": 6,
   "metadata": {},
   "outputs": [
    {
     "name": "stdout",
     "output_type": "stream",
     "text": [
      "insira a:2\n",
      "insira b:3\n",
      "insira c:1\n",
      "o valor eh 6\n"
     ]
    }
   ],
   "source": [
    "a = int(input('insira a:'))\n",
    "b = int(input('insira b:'))\n",
    "c = int(input('insira c:'))\n",
    "\n",
    "resultado = soma(a, b, c)\n",
    "\n",
    "print('o valor eh %d' % (resultado))"
   ]
  },
  {
   "cell_type": "code",
   "execution_count": 36,
   "metadata": {},
   "outputs": [],
   "source": [
    "def equacao(a, b, c):\n",
    "    delta = (b*b) - (4 * a * c)\n",
    "    \n",
    "    if delta > 0:\n",
    "        \n",
    "        # calcula raizes para numeros positivos\n",
    "        from math import sqrt\n",
    "        x1 = (-b + sqrt(delta)) / (2 * a)\n",
    "        x2 = (-b - sqrt(delta)) / (2 * a)\n",
    "        \n",
    "        return x1, x2\n",
    "    \n",
    "    else:\n",
    "        raise NameError('Impossivel calcular raizes de numeros negativos')"
   ]
  },
  {
   "cell_type": "code",
   "execution_count": 37,
   "metadata": {},
   "outputs": [
    {
     "name": "stdout",
     "output_type": "stream",
     "text": [
      "a:3\n",
      "b:2\n",
      "c:1\n"
     ]
    },
    {
     "ename": "NameError",
     "evalue": "Impossivel calcular raizes de numeros negativos",
     "output_type": "error",
     "traceback": [
      "\u001b[0;31m---------------------------------------------------------------------------\u001b[0m",
      "\u001b[0;31mNameError\u001b[0m                                 Traceback (most recent call last)",
      "\u001b[0;32m<ipython-input-37-667e19591f42>\u001b[0m in \u001b[0;36m<module>\u001b[0;34m()\u001b[0m\n\u001b[1;32m      3\u001b[0m \u001b[0mc\u001b[0m \u001b[0;34m=\u001b[0m \u001b[0mint\u001b[0m\u001b[0;34m(\u001b[0m\u001b[0minput\u001b[0m\u001b[0;34m(\u001b[0m\u001b[0;34m'c:'\u001b[0m\u001b[0;34m)\u001b[0m\u001b[0;34m)\u001b[0m\u001b[0;34m\u001b[0m\u001b[0m\n\u001b[1;32m      4\u001b[0m \u001b[0;34m\u001b[0m\u001b[0m\n\u001b[0;32m----> 5\u001b[0;31m \u001b[0mr1\u001b[0m\u001b[0;34m,\u001b[0m\u001b[0mr2\u001b[0m \u001b[0;34m=\u001b[0m \u001b[0mequacao\u001b[0m\u001b[0;34m(\u001b[0m\u001b[0ma\u001b[0m\u001b[0;34m,\u001b[0m \u001b[0mb\u001b[0m\u001b[0;34m,\u001b[0m \u001b[0mc\u001b[0m\u001b[0;34m)\u001b[0m\u001b[0;34m\u001b[0m\u001b[0m\n\u001b[0m\u001b[1;32m      6\u001b[0m \u001b[0;34m\u001b[0m\u001b[0m\n\u001b[1;32m      7\u001b[0m \u001b[0;32mprint\u001b[0m\u001b[0;34m(\u001b[0m\u001b[0;34m'o valor eh %.1f %.1f'\u001b[0m \u001b[0;34m%\u001b[0m \u001b[0;34m(\u001b[0m\u001b[0mr1\u001b[0m\u001b[0;34m,\u001b[0m\u001b[0mr2\u001b[0m\u001b[0;34m)\u001b[0m\u001b[0;34m)\u001b[0m\u001b[0;34m\u001b[0m\u001b[0m\n",
      "\u001b[0;32m<ipython-input-36-730a07d3113b>\u001b[0m in \u001b[0;36mequacao\u001b[0;34m(a, b, c)\u001b[0m\n\u001b[1;32m     12\u001b[0m \u001b[0;34m\u001b[0m\u001b[0m\n\u001b[1;32m     13\u001b[0m     \u001b[0;32melse\u001b[0m\u001b[0;34m:\u001b[0m\u001b[0;34m\u001b[0m\u001b[0m\n\u001b[0;32m---> 14\u001b[0;31m         \u001b[0;32mraise\u001b[0m \u001b[0mNameError\u001b[0m\u001b[0;34m(\u001b[0m\u001b[0;34m'Impossivel calcular raizes de numeros negativos'\u001b[0m\u001b[0;34m)\u001b[0m\u001b[0;34m\u001b[0m\u001b[0m\n\u001b[0m",
      "\u001b[0;31mNameError\u001b[0m: Impossivel calcular raizes de numeros negativos"
     ]
    }
   ],
   "source": [
    "a = int(input('a:'))\n",
    "b = int(input('b:'))\n",
    "c = int(input('c:'))\n",
    "\n",
    "r1,r2 = equacao(a, b, c)\n",
    "\n",
    "print('o valor eh %.1f %.1f' % (r1,r2))"
   ]
  },
  {
   "cell_type": "markdown",
   "metadata": {},
   "source": [
    "### Exercício 3"
   ]
  },
  {
   "cell_type": "markdown",
   "metadata": {},
   "source": [
    "<div style=\"text-align:justify\">\n",
    "Escreva uma função que receba dois pares de números `i` e `f`, representando o <i>início</i> e o <i>fim</i> de um intervalo. A saída dessa função deve ser a soma de todos os números ímpares desse intervalo.\n",
    "</div>"
   ]
  },
  {
   "cell_type": "code",
   "execution_count": 29,
   "metadata": {},
   "outputs": [],
   "source": [
    "def soma_impares(i, f):\n",
    "    contador = i\n",
    "    soma = 0\n",
    "    \n",
    "    while contador <= f:\n",
    "        if contador % 2 != 0:\n",
    "            soma = soma + contador\n",
    "    \n",
    "        contador = contador + 1\n",
    "        \n",
    "    return soma "
   ]
  },
  {
   "cell_type": "code",
   "execution_count": 30,
   "metadata": {},
   "outputs": [
    {
     "name": "stdout",
     "output_type": "stream",
     "text": [
      "i:3\n",
      "f:11\n",
      "a soma sera 35\n"
     ]
    }
   ],
   "source": [
    "resultado = soma_impares(i = int(input('i:')), f = int(input('f:')))\n",
    "print('a soma sera %d' % (resultado))"
   ]
  },
  {
   "cell_type": "code",
   "execution_count": 38,
   "metadata": {},
   "outputs": [],
   "source": [
    "def somador(i, f):\n",
    "    contador = i\n",
    "    acumulador = 0\n",
    "    while contador <= f:\n",
    "\n",
    "        if contador % 2 == 1:    \n",
    "            acumulador = acumulador + contador\n",
    "\n",
    "        contador = contador + 1\n",
    "    \n",
    "    return acumulador"
   ]
  },
  {
   "cell_type": "code",
   "execution_count": 39,
   "metadata": {},
   "outputs": [
    {
     "name": "stdout",
     "output_type": "stream",
     "text": [
      "insira i:4\n",
      "insira f:8\n",
      "o valor sera 12\n"
     ]
    }
   ],
   "source": [
    "i = int(input('insira i:'))\n",
    "f = int(input('insira f:'))\n",
    "\n",
    "resultado = somador(i, f)\n",
    "\n",
    "print('o valor sera %d'% (resultado))"
   ]
  },
  {
   "cell_type": "markdown",
   "metadata": {},
   "source": [
    "### Exercício 4"
   ]
  },
  {
   "cell_type": "markdown",
   "metadata": {},
   "source": [
    "<div style=\"text-align:justify\">\n",
    "Escreva um programa que pergunte ao usuário quantos alunos tem na sala dele. Em seguida, use um laço while para ler as notas de todos os alunos da sala, um por vez. Por fim, seu programa deve mostrar a média da turma.\n",
    "</div>"
   ]
  },
  {
   "cell_type": "code",
   "execution_count": 8,
   "metadata": {},
   "outputs": [
    {
     "name": "stdout",
     "output_type": "stream",
     "text": [
      "quantidade de alunos:6\n",
      "insira a nota:6\n",
      "insira a nota:7\n",
      "insira a nota:6\n",
      "insira a nota:1\n",
      "insira a nota:10\n",
      "insira a nota:8\n",
      "a media sera 6\n"
     ]
    }
   ],
   "source": [
    "soma_notas = 0 # acumulador\n",
    "notas = [] # vetor para armazenar as notas.\n",
    "\n",
    "a = int(input('quantidade de alunos:')) # numero de alunos == numero de notas\n",
    "\n",
    "contador = 1\n",
    "while contador <= a:\n",
    "    nota = int(input('insira a nota:'))\n",
    "    soma_notas = soma_notas + nota\n",
    "    contador = contador + 1\n",
    "    \n",
    "    notas.append(nota) # armazenando as notas pra não ter que ler novamente.\n",
    "    \n",
    "m = soma_notas / a\n",
    "print('a media sera %d' % (m))"
   ]
  },
  {
   "cell_type": "markdown",
   "metadata": {},
   "source": [
    "\"\"\"\"\"\"\n",
    "O \"m +\" significa ser a soma da variavel \"m\"\n",
    "\"\"\"\"\"\""
   ]
  },
  {
   "cell_type": "markdown",
   "metadata": {},
   "source": [
    "### Exercício 5"
   ]
  },
  {
   "cell_type": "markdown",
   "metadata": {},
   "source": [
    "<div style=\"text-align:justify\">\n",
    "Uma vez calculada a `média` da turma no <i>Exercício 4</i>, calcule o desvio padrão das notas e encontre uma forma de dizer quais alunos estão acima ou abaixo da média da turma.<br><br>\n",
    "</div>"
   ]
  },
  {
   "cell_type": "code",
   "execution_count": 9,
   "metadata": {},
   "outputs": [
    {
     "name": "stdout",
     "output_type": "stream",
     "text": [
      "o valor do desvio padrao eh 3.0\n"
     ]
    }
   ],
   "source": [
    "somador = 0\n",
    "\n",
    "#contador = 1\n",
    "#while contador <= a:\n",
    "for nota in notas: # iterando no vetor de notas já salvas no vetor.\n",
    "    #nota = int(input('insira:')) - não precisa mais pedir para o usuário digitar.\n",
    "    somador = somador + (m - nota) * (m - nota) \n",
    "    contador = contador + 1\n",
    "\n",
    "from math import sqrt\n",
    "\n",
    "d = sqrt(somador / (a - 1))\n",
    "\n",
    "     \n",
    "print('o valor do desvio padrao eh %.1f' %(d))"
   ]
  },
  {
   "cell_type": "code",
   "execution_count": 11,
   "metadata": {},
   "outputs": [
    {
     "name": "stdout",
     "output_type": "stream",
     "text": [
      "Os acima da media sao  [10]  os abaixo sao  [1]  e os na media sao  [6, 7, 6, 8]\n"
     ]
    }
   ],
   "source": [
    "l = []\n",
    "h = []\n",
    "i = []\n",
    "\n",
    "d_maior = m + d\n",
    "d_menor = m - d\n",
    "\n",
    "#contador = 1\n",
    "#while contador <= a:\n",
    "for nota in notas: # iterando no vetor de notas já salvas no vetor.\n",
    "    # nota = int(input('insira:')) - não precisa mais pedir para o usuário digitar.\n",
    "    \n",
    "    if nota > d_maior:\n",
    "        l.append(nota)\n",
    "    \n",
    "    elif nota < d_menor:\n",
    "        h.append(nota)\n",
    "    \n",
    "    else:\n",
    "        i.append(nota)\n",
    "    \n",
    "    contador = contador + 1\n",
    "        \n",
    "print('Os acima da media sao ', l, ' os abaixo sao ', h, ' e os na media sao ', i)"
   ]
  },
  {
   "cell_type": "code",
   "execution_count": 81,
   "metadata": {},
   "outputs": [
    {
     "data": {
      "text/plain": [
       "7"
      ]
     },
     "execution_count": 81,
     "metadata": {},
     "output_type": "execute_result"
    }
   ],
   "source": [
    "nota"
   ]
  },
  {
   "cell_type": "markdown",
   "metadata": {},
   "source": [
    "### Exercício 6"
   ]
  },
  {
   "cell_type": "markdown",
   "metadata": {},
   "source": [
    "<div style=\"text-align:justify\">\n",
    "Escreva um programa em Python que solicite 10 números ao usuário. Ao final, seu programa deve ser capaz de mostrar o maior e o menor número digitado pelo usuário. Faça este exercício utilizando `for range`.\n",
    "</div>"
   ]
  },
  {
   "cell_type": "code",
   "execution_count": 60,
   "metadata": {},
   "outputs": [
    {
     "name": "stdout",
     "output_type": "stream",
     "text": [
      "insira:3\n",
      "insira:1\n",
      "insira:99\n",
      "insira:5\n",
      "insira:6\n",
      "insira:7\n",
      "insira:4\n",
      "insira:3\n",
      "insira:7\n",
      "insira:8\n",
      "o menor numero sera 1, e o maior 99\n"
     ]
    }
   ],
   "source": [
    "m = None\n",
    "g = None\n",
    "\n",
    "for c in range (10):\n",
    "    n = int(input('insira:'))\n",
    "    \n",
    "    if m == None:\n",
    "        m = n\n",
    "        \n",
    "    if n > m:\n",
    "        m = n\n",
    "        \n",
    "    if g == None:\n",
    "        g = n\n",
    "    \n",
    "    if n < g:\n",
    "        g = n\n",
    "        \n",
    "print('o menor numero sera %d, e o maior %d' % (g, m))\n",
    "    \n",
    "        "
   ]
  },
  {
   "cell_type": "markdown",
   "metadata": {},
   "source": [
    "### Exercício 7"
   ]
  },
  {
   "cell_type": "markdown",
   "metadata": {},
   "source": [
    "<div style=\"text-align:justify\">\n",
    "Escreva um algoritmo que multiplique as matrizes `a: [[10, -1, 14],[15, 10, -3]]` e `b:[[-2, 15, -4],[20, 17, 10]]`, armazenando o resultado em uma matriz `c`. Vale lembrar que a multiplicação de matrizes requer a regra da transposta, para compatibilizar o número de linhas e colunas.\n",
    "</div>"
   ]
  },
  {
   "cell_type": "code",
   "execution_count": 14,
   "metadata": {},
   "outputs": [],
   "source": [
    "# Matriz A\n",
    "a = [\n",
    "    [10, -1, 14],\n",
    "    [15, 10, -3]\n",
    "]\n",
    "\n",
    "# Matriz B\n",
    "b = [\n",
    "    [-2, 15, -4],\n",
    "    [20, 17, 10]\n",
    "]\n",
    "\n",
    "# Note que a matriz B tem o mesmo número de linhas e colunas que a matriz A. Para multiplicar A por B, é preciso\n",
    "# transpor uma das duas matrizes.\n",
    "\n",
    "# Vamos transpor B, então vamos declarar uma matriz zerada com o formato que deve ficar a matriz transposta. \n",
    "b2 = [\n",
    "     [0, 0],\n",
    "     [0, 0],\n",
    "     [0, 0]\n",
    "]\n",
    "\n",
    "# Agora precisamos fazer os loops, percorrendo linhas e colunas de B e preenchendo bT.\n",
    "# sua vez :-)"
   ]
  },
  {
   "cell_type": "code",
   "execution_count": 21,
   "metadata": {},
   "outputs": [
    {
     "name": "stdout",
     "output_type": "stream",
     "text": [
      "[[-2, 20], [15, 17], [-4, 10]]\n"
     ]
    }
   ],
   "source": [
    "b = [\n",
    "    [-2, 15, -4],\n",
    "    [20, 17, 10]\n",
    "]\n",
    "\n",
    "linhas = len(b)\n",
    "colunas = len(b[0])\n",
    "\n",
    "bT = [\n",
    "    [0, 0],\n",
    "    [0, 0],#\n",
    "    [0, 0]\n",
    "]\n",
    "\n",
    "linha = 0\n",
    "while linha < linhas:\n",
    "    \n",
    "    coluna = 0\n",
    "    while coluna < colunas:\n",
    "        \n",
    "        bT[coluna][linha] = b[linha][coluna] \n",
    "        \n",
    "        coluna = coluna + 1\n",
    "               \n",
    "    linha = linha + 1\n",
    "     \n",
    "    \n",
    "        \n",
    "print(bT)        "
   ]
  },
  {
   "cell_type": "code",
   "execution_count": 31,
   "metadata": {},
   "outputs": [
    {
     "name": "stdout",
     "output_type": "stream",
     "text": [
      "[[-20, 300], [-15, 170], [-56, -30]]\n"
     ]
    }
   ],
   "source": [
    "a = [\n",
    "    [10, -1, 14],\n",
    "    [15, 10, -3]\n",
    "]\n",
    "\n",
    "bT = [\n",
    "    [-2, 20],\n",
    "    [15, 17],\n",
    "    [-4, 10]\n",
    "]\n",
    "\n",
    "matriz_c = [\n",
    "    [0, 0],\n",
    "    [0, 0],\n",
    "    [0, 0]\n",
    "]\n",
    "\n",
    "l = len(a)\n",
    "c = len(a[0])\n",
    "\n",
    "linha = 0\n",
    "while linha < l:\n",
    "    \n",
    "    coluna = 0\n",
    "    while coluna < c:\n",
    "        \n",
    "        \n",
    "        # matriz_c = a[coluna][linha]*bT[linha][coluna] - como era\n",
    "        \n",
    "        matriz_c[coluna][linha] = a[linha][coluna] * bT[coluna][linha] # como ficou (igual mandei no whats)\n",
    "               \n",
    "        coluna = coluna + 1\n",
    "    linha = linha + 1\n",
    "    \n",
    "print(matriz_c)"
   ]
  },
  {
   "cell_type": "markdown",
   "metadata": {},
   "source": [
    "### Exercício 8"
   ]
  },
  {
   "cell_type": "markdown",
   "metadata": {},
   "source": [
    "<div style=\"text-align:justify\">\n",
    "A Série de Fibonacci é uma das séries mais conhecidas, podendo ser utilizada para descrever diversos fenômenos naturais, incluindo o crescimento populacional.<br><br>\n",
    "\n",
    "Escreva uma função que receba um valor de entrada `n`, correspondente ao número limite da série de fibonacci. Sua função deve ser capaz de retornar todos os elementos dá série menores que o número informado.<br><br>\n",
    "    \n",
    "<b>Exemplo</b>:<br>\n",
    "\n",
    "Se o número informado para a função for 10, sua série deve retornar:`1, 1, 2, 3, 5, 8, 13, 21, 34`.\n",
    "</div>"
   ]
  },
  {
   "cell_type": "code",
   "execution_count": 33,
   "metadata": {},
   "outputs": [
    {
     "name": "stdout",
     "output_type": "stream",
     "text": [
      "numero:30\n",
      "1\n",
      "1\n",
      "2\n",
      "3\n",
      "5\n",
      "8\n",
      "13\n",
      "21\n"
     ]
    }
   ],
   "source": [
    "a, b = 0, 1\n",
    "contador = 1\n",
    "n = int(input('numero:'))\n",
    "while b < n:\n",
    "    \n",
    "   \n",
    "    print(b)\n",
    "    a, b = b, a+b \n",
    "        \n",
    "contador = contador + 1\n",
    "\n",
    "    "
   ]
  },
  {
   "cell_type": "code",
   "execution_count": null,
   "metadata": {},
   "outputs": [],
   "source": []
  },
  {
   "cell_type": "markdown",
   "metadata": {},
   "source": [
    "### Exercício 9"
   ]
  },
  {
   "cell_type": "markdown",
   "metadata": {},
   "source": [
    "<div style=\"text-align:justify\">\n",
    "Escreve um programa em Python que receba um texto informado pelo usuário. Seu programa deve ser capaz de determinar se o texto digitado é ou não um palíndromo. Palíndromo são palavras que possuem o mesmo significado, mesmo quando lidas de trás para frente.<br><br>\n",
    "\n",
    "<b>Exemplo:</b><br>\n",
    "A palavra `ovo` tem o mesmo significado, mesmo quando lida de trás para frente.\n",
    "</div>"
   ]
  },
  {
   "cell_type": "code",
   "execution_count": 101,
   "metadata": {},
   "outputs": [
    {
     "name": "stdout",
     "output_type": "stream",
     "text": [
      "palindromo\n"
     ]
    }
   ],
   "source": [
    "name = 'ovo'\n",
    "if name [0:2] == name [: -1]:\n",
    "    print('palindromo')\n",
    "else:\n",
    "    print('nao eh palindromo')\n"
   ]
  },
  {
   "cell_type": "code",
   "execution_count": 48,
   "metadata": {},
   "outputs": [
    {
     "name": "stdout",
     "output_type": "stream",
     "text": [
      "palavra: radar\n",
      "nao e palindromo\n",
      "nao e palindromo\n",
      "nao e palindromo\n",
      "nao e palindromo\n",
      "nao e palindromo\n"
     ]
    }
   ],
   "source": [
    "nome = raw_input('palavra: ')\n",
    "\n",
    "contador = 0\n",
    "while contador < len(nome):\n",
    "    \n",
    "    if nome [0:2] == nome[: -1]:\n",
    "        print('palindromo')\n",
    "        \n",
    "    else:\n",
    "        print('nao e palindromo')\n",
    "        \n",
    "   \n",
    "    contador = contador + 1\n",
    "    "
   ]
  },
  {
   "cell_type": "code",
   "execution_count": 6,
   "metadata": {},
   "outputs": [
    {
     "name": "stdout",
     "output_type": "stream",
     "text": [
      "texto:pipoca\n",
      "o texto digitado foi pipoca. e o seu texto invertido eh acopip\n",
      "nao eh um palindromo:\n"
     ]
    }
   ],
   "source": [
    "nome = raw_input('texto:')\n",
    "nome_invertido = ''\n",
    "posicao = len(nome) - 1\n",
    "while posicao >= 0:\n",
    "    \n",
    "    nome_invertido = nome_invertido + nome[posicao]\n",
    "    posicao = posicao - 1\n",
    "print('o texto digitado foi %s. e o seu texto invertido eh %s' % (nome, nome_invertido))\n",
    "if (nome == nome_invertido):\n",
    "    print('eh um palindromo')\n",
    "else:\n",
    "    print('nao eh um palindromo:')\n",
    "    \n",
    "\n",
    "    "
   ]
  },
  {
   "cell_type": "markdown",
   "metadata": {},
   "source": [
    "### Exercício 10"
   ]
  },
  {
   "cell_type": "markdown",
   "metadata": {},
   "source": [
    "<div style=\"text-align:justify\">\n",
    "Compreenda o que faz todo o programa a seguir e explique onde ele poderia ser utilizado.\n",
    "</div>"
   ]
  },
  {
   "cell_type": "markdown",
   "metadata": {},
   "source": [
    "#### Carregando Pacotes"
   ]
  },
  {
   "cell_type": "code",
   "execution_count": 1,
   "metadata": {},
   "outputs": [],
   "source": [
    "import numpy\n",
    "import math"
   ]
  },
  {
   "cell_type": "markdown",
   "metadata": {},
   "source": [
    "#### Dicionário de Dados"
   ]
  },
  {
   "cell_type": "code",
   "execution_count": 2,
   "metadata": {},
   "outputs": [],
   "source": [
    "# Titulo de musicas\n",
    "musicas = [\n",
    "    '0 Metallica - Nothing else matters',\n",
    "    '1 MC Kevinho - Tô apaixonado nessa mina',\n",
    "    '2 Chitaozinho & Xororo - Evidencias',\n",
    "    '3 Led Zeppelin - Stairway to heaven',\n",
    "    '4 Bruno Mars - Talking to the moon',\n",
    "    '5 Tim Maia - É primavera',\n",
    "    '6 Pink Floyd - The Wall',\n",
    "    '7 Bruno e Marrone - Amor de balada',\n",
    "    '8 Luan Santana - Na balada das negas',\n",
    "    '9 Chrystian & Ralf - Cheiro de shampoo',\n",
    "    '10 Anitta - Vai malandra'\n",
    "]\n",
    "\n",
    "# Descritores\n",
    "# Nacional | Rock | Sertanejo | Funk | Musica de balada | Raiz | Duracao em minutos\n",
    "descritores = [\n",
    "    [0, 1, 0, 0, 0, 1, 6.25],\n",
    "    [1, 0, 0, 1, 1, 0, 3.19],\n",
    "    [1, 0, 1, 0, 0, 1, 4.40],\n",
    "    [0, 1, 0, 0, 0, 1, 8.09],\n",
    "    [0, 1, 0, 0, 1, 0, 3.40],\n",
    "    [1, 0, 0, 1, 0, 1, 4.03],\n",
    "    [0, 1, 0, 0, 0, 1, 5.32],\n",
    "    [1, 0, 1, 0, 1, 0, 3.08],\n",
    "    [1, 0, 1, 0, 1, 0, 3.00],\n",
    "    [1, 0, 1, 0, 0, 1, 3.27],\n",
    "    [1, 0, 0, 1, 1, 0, 3.13]\n",
    "]"
   ]
  },
  {
   "cell_type": "markdown",
   "metadata": {},
   "source": [
    "#### Função de Similaridade - Distância de Cossenos [https://en.wikipedia.org/wiki/Cosine_similarity]"
   ]
  },
  {
   "cell_type": "code",
   "execution_count": 3,
   "metadata": {},
   "outputs": [],
   "source": [
    "def similaridade(v1, v2):\n",
    "    sumxx, sumxy, sumyy = 0, 0, 0\n",
    "    for i in range(len(v1)):\n",
    "        x = v1[i]; y = v2[i]\n",
    "        sumxx += x*x\n",
    "        sumyy += y*y\n",
    "        sumxy += x*y\n",
    "    return (sumxy / math.sqrt(sumxx*sumyy))"
   ]
  },
  {
   "cell_type": "markdown",
   "metadata": {},
   "source": [
    "#### Selecionando Descritor"
   ]
  },
  {
   "cell_type": "markdown",
   "metadata": {},
   "source": [
    "<div style=\"text-align:justify\">\n",
    "Selecionando uma música e seu descritor, para comparar com as demais.\n",
    "</div>"
   ]
  },
  {
   "cell_type": "code",
   "execution_count": 4,
   "metadata": {},
   "outputs": [
    {
     "name": "stdout",
     "output_type": "stream",
     "text": [
      "('Musica: ', '3 Led Zeppelin - Stairway to heaven', ' Descritores: ', [0, 1, 0, 0, 0, 1, 8.09])\n"
     ]
    }
   ],
   "source": [
    "indice = 3\n",
    "v1 = descritores[indice]\n",
    "\n",
    "print('Musica: ', musicas[indice], ' Descritores: ', v1)"
   ]
  },
  {
   "cell_type": "markdown",
   "metadata": {},
   "source": [
    "#### Calculando Score de Similaridade"
   ]
  },
  {
   "cell_type": "markdown",
   "metadata": {},
   "source": [
    "<div style=\"text-align:justify\">\n",
    "O bloco de código a seguir calcula a similaridade entre a música lecionada anteriormente e todas as outras músicas do dicionário de dados. Quanto mais similar as músicas forem, mais próximo de `1.0` será sua similaridade.\n",
    "</div>"
   ]
  },
  {
   "cell_type": "code",
   "execution_count": 6,
   "metadata": {},
   "outputs": [
    {
     "name": "stdout",
     "output_type": "stream",
     "text": [
      "Score [0] = 0.99878\n",
      "Score [1] = 0.86569\n",
      "Score [2] = 0.94235\n",
      "Score [3] = 1.00000\n",
      "Score [4] = 0.94259\n",
      "Score [5] = 0.93277\n",
      "Score [6] = 0.99624\n",
      "Score [7] = 0.85861\n",
      "Score [8] = 0.85309\n",
      "Score [9] = 0.90340\n",
      "Score [10] = 0.86190\n"
     ]
    }
   ],
   "source": [
    "\n",
    "scores = []\n",
    "\n",
    "for i, v2 in enumerate(descritores):\n",
    "    score = similaridade(v1, v2)\n",
    "    scores.append(score)\n",
    "    print('Score [%d] = %.5f' % (i, score))"
   ]
  },
  {
   "cell_type": "markdown",
   "metadata": {},
   "source": [
    "#### Exibindo Músicas (Mais Similar para Menos Similar)"
   ]
  },
  {
   "cell_type": "code",
   "execution_count": 7,
   "metadata": {},
   "outputs": [
    {
     "name": "stdout",
     "output_type": "stream",
     "text": [
      "Score: 1.00000 Música: 3 Led Zeppelin - Stairway to heaven\n",
      "Score: 0.99878 Música: 0 Metallica - Nothing else matters\n",
      "Score: 0.99624 Música: 6 Pink Floyd - The Wall\n",
      "Score: 0.94259 Música: 4 Bruno Mars - Talking to the moon\n",
      "Score: 0.94235 Música: 2 Chitaozinho & Xororo - Evidencias\n",
      "Score: 0.93277 Música: 5 Tim Maia - É primavera\n",
      "Score: 0.90340 Música: 9 Chrystian & Ralf - Cheiro de shampoo\n",
      "Score: 0.86569 Música: 1 MC Kevinho - Tô apaixonado nessa mina\n",
      "Score: 0.86190 Música: 10 Anitta - Vai malandra\n",
      "Score: 0.85861 Música: 7 Bruno e Marrone - Amor de balada\n",
      "Score: 0.85309 Música: 8 Luan Santana - Na balada das negas\n"
     ]
    }
   ],
   "source": [
    "# ordenando músicas da mais similar para a menos similar.\n",
    "indexes = numpy.argsort(scores)\n",
    "\n",
    "# imprimindo músicas já ordenadas.\n",
    "for i in reversed(indexes):\n",
    "    print('Score: %.5f Música: %s' % (scores[i], musicas[i]))"
   ]
  },
  {
   "cell_type": "code",
   "execution_count": null,
   "metadata": {},
   "outputs": [],
   "source": []
  },
  {
   "cell_type": "code",
   "execution_count": null,
   "metadata": {},
   "outputs": [],
   "source": []
  }
 ],
 "metadata": {
  "kernelspec": {
   "display_name": "Python 2",
   "language": "python",
   "name": "python2"
  },
  "language_info": {
   "codemirror_mode": {
    "name": "ipython",
    "version": 2
   },
   "file_extension": ".py",
   "mimetype": "text/x-python",
   "name": "python",
   "nbconvert_exporter": "python",
   "pygments_lexer": "ipython2",
   "version": "2.7.12"
  }
 },
 "nbformat": 4,
 "nbformat_minor": 2
}
