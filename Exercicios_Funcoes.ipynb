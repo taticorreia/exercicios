{
 "cells": [
  {
   "cell_type": "markdown",
   "metadata": {},
   "source": [
    "[Lista de Exercícios](https://wiki.python.org.br/ExerciciosFuncoes)"
   ]
  },
  {
   "cell_type": "markdown",
   "metadata": {},
   "source": [
    "### Faca um programa para imprimir:\n",
    "<pre>\n",
    "    1\n",
    "    2   2\n",
    "    3   3   3\n",
    "    .....\n",
    "    n   n   n   n   n   n  ... n\n",
    "</pre>"
   ]
  },
  {
   "cell_type": "code",
   "execution_count": 25,
   "metadata": {},
   "outputs": [],
   "source": [
    "def i(e):\n",
    "\n",
    "    c = []\n",
    "    n = int(input('informe um numero: '))\n",
    "    contador = 0\n",
    "    while contador <= n:\n",
    "        c.append(contador)\n",
    "        print(c)  \n",
    "        contador = contador + 1\n",
    "      "
   ]
  },
  {
   "cell_type": "code",
   "execution_count": 28,
   "metadata": {},
   "outputs": [
    {
     "name": "stdout",
     "output_type": "stream",
     "text": [
      "informe um numero: 6\n",
      "[0]\n",
      "[0, 1]\n",
      "[0, 1, 2]\n",
      "[0, 1, 2, 3]\n",
      "[0, 1, 2, 3, 4]\n",
      "[0, 1, 2, 3, 4, 5]\n",
      "[0, 1, 2, 3, 4, 5, 6]\n"
     ]
    }
   ],
   "source": [
    "i(5)"
   ]
  },
  {
   "cell_type": "code",
   "execution_count": 23,
   "metadata": {},
   "outputs": [],
   "source": [
    "def imprimir(valor):\n",
    "    if isinstance(valor, int):\n",
    "        x = 1\n",
    "        while x <= valor:\n",
    "            y = 1\n",
    "            texto = ''\n",
    "            while y <= x:                \n",
    "                texto += str(x) + \"\\t\"\n",
    "                y += 1\n",
    "            print texto\n",
    "            x += 1\n"
   ]
  },
  {
   "cell_type": "code",
   "execution_count": 24,
   "metadata": {
    "scrolled": true
   },
   "outputs": [
    {
     "name": "stdout",
     "output_type": "stream",
     "text": [
      "1\t\n",
      "2\t2\t\n",
      "3\t3\t3\t\n",
      "4\t4\t4\t4\t\n"
     ]
    }
   ],
   "source": [
    "imprimir(4)"
   ]
  },
  {
   "cell_type": "markdown",
   "metadata": {},
   "source": [
    "### Faça um programa, com uma função que necessite de três argumentos, e que forneça a soma desses três argumentos."
   ]
  },
  {
   "cell_type": "code",
   "execution_count": 1,
   "metadata": {},
   "outputs": [],
   "source": [
    "def soma(a, b, c):\n",
    "    \n",
    "    \n",
    "    soma = a + b + c\n",
    "    return soma"
   ]
  },
  {
   "cell_type": "code",
   "execution_count": 2,
   "metadata": {},
   "outputs": [
    {
     "data": {
      "text/plain": [
       "11"
      ]
     },
     "execution_count": 2,
     "metadata": {},
     "output_type": "execute_result"
    }
   ],
   "source": [
    "soma(2,4,5)"
   ]
  },
  {
   "cell_type": "markdown",
   "metadata": {},
   "source": [
    "### Faça um programa, com uma função que necessite de um argumento. A função retorna o valor de caractere ‘P’, se seu argumento for positivo, e ‘N’, se seu argumento for zero ou negativo."
   ]
  },
  {
   "cell_type": "code",
   "execution_count": 48,
   "metadata": {},
   "outputs": [],
   "source": [
    "def neg(num):\n",
    "    if num > 0:\n",
    "        print('P')\n",
    "    elif num <= 0:\n",
    "        print('N')\n"
   ]
  },
  {
   "cell_type": "code",
   "execution_count": 49,
   "metadata": {},
   "outputs": [
    {
     "name": "stdout",
     "output_type": "stream",
     "text": [
      "P\n"
     ]
    }
   ],
   "source": [
    "neg(5)"
   ]
  },
  {
   "cell_type": "markdown",
   "metadata": {},
   "source": [
    "### Faça um programa com uma função chamada somaImposto. A função possui dois parâmetros formais: taxaImposto, que é a quantia de imposto sobre vendas expressa em porcentagem e custo, que é o custo de um item antes do imposto. A função “altera” o valor de custo para incluir o imposto sobre vendas."
   ]
  },
  {
   "cell_type": "code",
   "execution_count": 3,
   "metadata": {},
   "outputs": [],
   "source": [
    "def somaimposto(imposto, custo):  \n",
    "    calculo = custo + (custo*imposto*0.01)\n",
    "    return calculo"
   ]
  },
  {
   "cell_type": "code",
   "execution_count": 7,
   "metadata": {},
   "outputs": [
    {
     "name": "stdout",
     "output_type": "stream",
     "text": [
      "informe o imposto: 45\n",
      "informe o valor:145\n",
      "o valor R$ 145 com 45 de imposto fica R$ 210.250000\n"
     ]
    }
   ],
   "source": [
    "imposto = int(input('informe o imposto: '))\n",
    "custo = int(input('informe o valor:'))\n",
    "calculo = somaimposto(imposto, custo)\n",
    "print('o valor R$ %d com %d de imposto fica R$ %f' % (custo, imposto, calculo))"
   ]
  },
  {
   "cell_type": "markdown",
   "metadata": {},
   "source": [
    "### Faça um programa que use a função valorPagamento para determinar o valor a ser pago por uma prestação de uma conta. O programa deverá solicitar ao usuário o valor da prestação e o número de dias em atraso e passar estes valores para a função valorPagamento, que calculará o valor a ser pago e devolverá este valor ao programa que a chamou. O programa deverá então exibir o valor a ser pago na tela. Após a execução o programa deverá voltar a pedir outro valor de prestação e assim continuar até que seja informado um valor igual a zero para a prestação. Neste momento o programa deverá ser encerrado, exibindo o relatório do dia, que conterá a quantidade e o valor total de prestações pagas no dia. O cálculo do valor a ser pago é feito da seguinte forma. Para pagamentos sem atraso, cobrar o valor da prestação. Quando houver atraso, cobrar 3% de multa, mais 0,1% de juros por dia de atraso."
   ]
  },
  {
   "cell_type": "code",
   "execution_count": 5,
   "metadata": {},
   "outputs": [],
   "source": [
    "def valorpagamento(prestacao, atraso):\n",
    "    while prestacao != 0:\n",
    "        \n",
    "        prestacao = int(input('valor da prestacao: '))\n",
    "        atraso = int(input('numero de dias de atraso: '))\n",
    "        calculo = prestacao+(prestacao*3*0.01)+(atraso)*(prestacao*0.1*0.01)\n",
    "\n",
    "        return ('o valor com os juros sera %d' % (calculo))\n"
   ]
  },
  {
   "cell_type": "code",
   "execution_count": 6,
   "metadata": {},
   "outputs": [
    {
     "name": "stdout",
     "output_type": "stream",
     "text": [
      "valor da prestacao: 5000\n",
      "numero de dias de atraso: 3\n"
     ]
    },
    {
     "data": {
      "text/plain": [
       "'o valor com os juros sera 5165'"
      ]
     },
     "execution_count": 6,
     "metadata": {},
     "output_type": "execute_result"
    }
   ],
   "source": [
    "valorpagamento(5000, 3)"
   ]
  },
  {
   "cell_type": "markdown",
   "metadata": {},
   "source": [
    "### Reverso do número. Faça uma função que retorne o reverso de um número inteiro informado. Por exemplo: 127 -> 721."
   ]
  },
  {
   "cell_type": "code",
   "execution_count": 1,
   "metadata": {},
   "outputs": [],
   "source": [
    "def inverso(numero):    \n",
    "    numero = raw_input('informe um numero: ')\n",
    "    numero = str(numero)\n",
    "    numero_reverso = ''\n",
    "\n",
    "    cont = len(numero) - 1\n",
    "    while (cont > -1):\n",
    "        numero_reverso = numero_reverso + numero[cont]\n",
    "        cont = cont - 1\n",
    "\n",
    "    return numero_reverso"
   ]
  },
  {
   "cell_type": "code",
   "execution_count": 7,
   "metadata": {},
   "outputs": [
    {
     "name": "stdout",
     "output_type": "stream",
     "text": [
      "informe um numero: 567\n"
     ]
    },
    {
     "data": {
      "text/plain": [
       "'765'"
      ]
     },
     "execution_count": 7,
     "metadata": {},
     "output_type": "execute_result"
    }
   ],
   "source": [
    "inverso(567)"
   ]
  },
  {
   "cell_type": "markdown",
   "metadata": {},
   "source": [
    "### Jogo de Craps. Faça um programa de implemente um jogo de Craps. O jogador lança um par de dados, obtendo um valor entre 2 e 12. Se, na primeira jogada, você tirar 7 ou 11, você um \"natural\" e ganhou. Se você tirar 2, 3 ou 12 na primeira jogada, isto é chamado de \"craps\" e você perdeu. Se, na primeira jogada, você fez um 4, 5, 6, 8, 9 ou 10,este é seu \"Ponto\". Seu objetivo agora é continuar jogando os dados até tirar este número novamente. Você perde, no entanto, se tirar um 7 antes de tirar este Ponto novamente."
   ]
  },
  {
   "cell_type": "code",
   "execution_count": 27,
   "metadata": {},
   "outputs": [
    {
     "ename": "SyntaxError",
     "evalue": "invalid syntax (<ipython-input-27-0a0ef6da7cb5>, line 17)",
     "output_type": "error",
     "traceback": [
      "\u001b[0;36m  File \u001b[0;32m\"<ipython-input-27-0a0ef6da7cb5>\"\u001b[0;36m, line \u001b[0;32m17\u001b[0m\n\u001b[0;31m    elif:\u001b[0m\n\u001b[0m        ^\u001b[0m\n\u001b[0;31mSyntaxError\u001b[0m\u001b[0;31m:\u001b[0m invalid syntax\n"
     ]
    }
   ],
   "source": [
    "soma = 0\n",
    "from random import randint\n",
    "primeira = randint(2,12)\n",
    "print('o numero da primeira jogada foi %d' %(primeira))\n",
    "\n",
    "if primeira == 7 and primeira == 11:\n",
    "    print('natura')\n",
    "elif primeira == 2 and primeira == 3 and primeira == 12:\n",
    "    print('craps')\n",
    "else:\n",
    "    soma = soma + primeira\n",
    "    print('Ponto')\n",
    "segunda = randint(2,12)\n",
    "print('o numero da segunda jogada foi %d'% (segunda))\n",
    "if segunda == 7:\n",
    "    break \n",
    "if segunda == :\n",
    "    randint(2,12)\n",
    "    "
   ]
  },
  {
   "cell_type": "code",
   "execution_count": 20,
   "metadata": {},
   "outputs": [
    {
     "name": "stdout",
     "output_type": "stream",
     "text": [
      "10\n"
     ]
    }
   ],
   "source": [
    "print(soma)"
   ]
  },
  {
   "cell_type": "markdown",
   "metadata": {},
   "source": [
    "### Data com mês por extenso. Construa uma função que receba uma data no formato DD/MM/AAAA e devolva uma string no formato D de mesPorExtenso de AAAA. Opcionalmente, valide a data e retorne NULL caso a data seja inválida."
   ]
  },
  {
   "cell_type": "code",
   "execution_count": 46,
   "metadata": {},
   "outputs": [],
   "source": [
    "def data(dia, mes, ano):\n",
    "    dia = int(input('informe o dia: '))\n",
    "    mes = raw_input('informe o mes: ')\n",
    "    ano = int(input('informe o ano: '))\n",
    "\n",
    "    calendario = {\n",
    "        '1': 'janeiro',\n",
    "        '2': 'fevereiro',\n",
    "        '3': 'março',\n",
    "        '4': 'abril',\n",
    "        '5': 'maio',\n",
    "        '6': 'junho',\n",
    "        '7': 'julho',\n",
    "        '8': 'agosto',\n",
    "        '9': 'setembro',\n",
    "        '10': 'outubro',\n",
    "        '11' : 'novembro',\n",
    "        '12': 'dezembro'\n",
    "    }\n",
    "    \n",
    "    if mes != calendario[mes]:\n",
    "        print('Null')\n",
    "        \n",
    "    print('%d ''/''%s''/''%d'%(dia, mes, ano))\n",
    "    print('voce nasceu em %d de %s em %d' % (dia, calendario[mes], ano))"
   ]
  },
  {
   "cell_type": "code",
   "execution_count": 48,
   "metadata": {},
   "outputs": [
    {
     "name": "stdout",
     "output_type": "stream",
     "text": [
      "informe o dia: 18\n",
      "informe o mes: 12\n",
      "informe o ano: 1994\n",
      "Null\n",
      "18 /12/1994\n",
      "voce nasceu em 18 de dezembro em 1994\n"
     ]
    }
   ],
   "source": [
    "data(dia, mes, ano)"
   ]
  },
  {
   "cell_type": "markdown",
   "metadata": {},
   "source": [
    "## Embaralha palavra. Construa uma função que receba uma string como parâmetro e devolva outra string com os carateres embaralhados. Por exemplo: se função receber a palavra python, pode retornar npthyo, ophtyn ou qualquer outra combinação possível, de forma aleatória. Padronize em sua função que todos os caracteres serão devolvidos em caixa alta ou caixa baixa, independentemente de como foram digitados."
   ]
  },
  {
   "cell_type": "code",
   "execution_count": null,
   "metadata": {},
   "outputs": [],
   "source": []
  }
 ],
 "metadata": {
  "kernelspec": {
   "display_name": "Python 2",
   "language": "python",
   "name": "python2"
  },
  "language_info": {
   "codemirror_mode": {
    "name": "ipython",
    "version": 2
   },
   "file_extension": ".py",
   "mimetype": "text/x-python",
   "name": "python",
   "nbconvert_exporter": "python",
   "pygments_lexer": "ipython2",
   "version": "2.7.12"
  }
 },
 "nbformat": 4,
 "nbformat_minor": 2
}
