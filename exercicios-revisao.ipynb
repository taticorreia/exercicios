{
 "cells": [
  {
   "cell_type": "markdown",
   "metadata": {},
   "source": [
    "# Exercícios de Revisão"
   ]
  },
  {
   "cell_type": "markdown",
   "metadata": {},
   "source": [
    "<div style=\"text-align:justify\">\n",
    "Esta lista de exercícios tem por objetivo revisar todos os conceitos vistos até esse momento. Alguns dos exercícios aqui descritos provavelmente já foram feitos em outra lista, mas vamos fazer novamente para reforçar os conceitos.\n",
    "</div>\n",
    "\n",
    "Os conceitos que vamos revisar, são:\n",
    "- Estrutura condicional (if / else)\n",
    "- Estruturas de repetição (while / for)\n",
    "- Vetores e matrizes\n",
    "- Funções"
   ]
  },
  {
   "cell_type": "markdown",
   "metadata": {},
   "source": [
    "### Exercício 1"
   ]
  },
  {
   "cell_type": "markdown",
   "metadata": {},
   "source": [
    "<div style=\"text-align:justify\">\n",
    "Escreva um programa em Python que receba como entrada dois números: `n1` e `n2`. Como saída, seu programa deve informar se <i>\"n1 é maior que n2\"</i>; <i>\"n2 é maior que n1\"</i> ou se <i>\"n1 e n2 são iguais\"</i>.\n",
    "</div>"
   ]
  },
  {
   "cell_type": "code",
   "execution_count": 21,
   "metadata": {},
   "outputs": [
    {
     "name": "stdout",
     "output_type": "stream",
     "text": [
      "n1:2\n",
      "n2:4\n",
      "2 e menor que 4\n"
     ]
    }
   ],
   "source": [
    "n1 = int(input('n1:'))\n",
    "n2 = int(input('n2:'))\n",
    "\n",
    "if n1 > n2:\n",
    "    print('%d e maior q %d' % (n1, n2))\n",
    "    \n",
    "elif n1 < n2:\n",
    "    print('%d e menor que %d'% (n1, n2))\n",
    "\n",
    "else:\n",
    "    print('os dois sao iguais')\n",
    "\n",
    "\n",
    "\n",
    "        "
   ]
  },
  {
   "cell_type": "markdown",
   "metadata": {},
   "source": [
    "### Exercício 2"
   ]
  },
  {
   "cell_type": "markdown",
   "metadata": {},
   "source": [
    "<div style=\"text-align:justify\">\n",
    "Escreva uma função `def` que receba como entrada três valores, referente aos coeficientes `a`, `b` e `c` de uma equação do segundo grau. Sua função deve ser capaz de calcular as raízes `x1` e `x2` dessa equação e retornar esse resultado para o programa principal. Um ponto de atenção é que a equação de segundo grau pode não ter raízes reais, então caso o valor de `delta` seja negativo, sua função deve retornar uma exceção.<br><br>\n",
    "    \n",
    "Ainda não estudamos exceções em Python. É sua tarefa estudá-las agora.<br><br>\n",
    "\n",
    "Ao concluir o exercício teste todos os fluxos da função, ou seja, experimente fornecer para a função coeficientes que produzam raízes reais e também coeficientes que produzam raízes complexas.\n",
    "</div>"
   ]
  },
  {
   "cell_type": "code",
   "execution_count": 7,
   "metadata": {},
   "outputs": [],
   "source": [
    "def soma(a, b, c):\n",
    "    return a + b + c"
   ]
  },
  {
   "cell_type": "code",
   "execution_count": 8,
   "metadata": {},
   "outputs": [
    {
     "name": "stdout",
     "output_type": "stream",
     "text": [
      "insira a:7\n",
      "insira b:9\n",
      "insira c:6\n",
      "o valor eh 22\n"
     ]
    }
   ],
   "source": [
    "a = int(input('insira a:'))\n",
    "b = int(input('insira b:'))\n",
    "c = int(input('insira c:'))\n",
    "\n",
    "resultado = soma(a, b, c)\n",
    "\n",
    "print('o valor eh %d' % (resultado))"
   ]
  },
  {
   "cell_type": "code",
   "execution_count": 32,
   "metadata": {},
   "outputs": [
    {
     "ename": "IndentationError",
     "evalue": "expected an indented block (<ipython-input-32-7418f99a9c42>, line 7)",
     "output_type": "error",
     "traceback": [
      "\u001b[0;36m  File \u001b[0;32m\"<ipython-input-32-7418f99a9c42>\"\u001b[0;36m, line \u001b[0;32m7\u001b[0m\n\u001b[0;31m    from math import sqrt\u001b[0m\n\u001b[0m       ^\u001b[0m\n\u001b[0;31mIndentationError\u001b[0m\u001b[0;31m:\u001b[0m expected an indented block\n"
     ]
    }
   ],
   "source": [
    "def equacao(a, b, c):\n",
    "            \n",
    "    delta = (b*b) - (4 * a * c)\n",
    "    \n",
    "    if delta > 0:\n",
    "    \n",
    "    from math import sqrt\n",
    "    x1 = (-b + sqrt(delta)) / (2 * a)\n",
    "    x2 = (-b - sqrt(delta)) / (2 * a)\n",
    "    return x1, x2\n",
    "    \n",
    "    else: \n",
    "    return ('sem solucao')\n"
   ]
  },
  {
   "cell_type": "code",
   "execution_count": 29,
   "metadata": {},
   "outputs": [
    {
     "name": "stdout",
     "output_type": "stream",
     "text": [
      "a:3\n",
      "b:2\n",
      "c:1\n"
     ]
    },
    {
     "ename": "UnboundLocalError",
     "evalue": "local variable 'delta' referenced before assignment",
     "output_type": "error",
     "traceback": [
      "\u001b[0;31m---------------------------------------------------------------------------\u001b[0m",
      "\u001b[0;31mUnboundLocalError\u001b[0m                         Traceback (most recent call last)",
      "\u001b[0;32m<ipython-input-29-37d1f8f94eff>\u001b[0m in \u001b[0;36m<module>\u001b[0;34m()\u001b[0m\n\u001b[1;32m      3\u001b[0m \u001b[0mc\u001b[0m \u001b[0;34m=\u001b[0m \u001b[0mint\u001b[0m\u001b[0;34m(\u001b[0m\u001b[0minput\u001b[0m\u001b[0;34m(\u001b[0m\u001b[0;34m'c:'\u001b[0m\u001b[0;34m)\u001b[0m\u001b[0;34m)\u001b[0m\u001b[0;34m\u001b[0m\u001b[0m\n\u001b[1;32m      4\u001b[0m \u001b[0;34m\u001b[0m\u001b[0m\n\u001b[0;32m----> 5\u001b[0;31m \u001b[0mr1\u001b[0m\u001b[0;34m,\u001b[0m\u001b[0mr2\u001b[0m \u001b[0;34m=\u001b[0m \u001b[0mequacao\u001b[0m\u001b[0;34m(\u001b[0m\u001b[0ma\u001b[0m\u001b[0;34m,\u001b[0m \u001b[0mb\u001b[0m\u001b[0;34m,\u001b[0m \u001b[0mc\u001b[0m\u001b[0;34m)\u001b[0m\u001b[0;34m\u001b[0m\u001b[0m\n\u001b[0m\u001b[1;32m      6\u001b[0m \u001b[0;32mprint\u001b[0m\u001b[0;34m(\u001b[0m\u001b[0;34m'o valor eh %.1f %.1f'\u001b[0m \u001b[0;34m%\u001b[0m \u001b[0;34m(\u001b[0m\u001b[0mr1\u001b[0m\u001b[0;34m,\u001b[0m\u001b[0mr2\u001b[0m\u001b[0;34m)\u001b[0m\u001b[0;34m)\u001b[0m\u001b[0;34m\u001b[0m\u001b[0m\n",
      "\u001b[0;32m<ipython-input-28-c5c8efde33b4>\u001b[0m in \u001b[0;36mequacao\u001b[0;34m(a, b, c)\u001b[0m\n\u001b[1;32m      1\u001b[0m \u001b[0;32mdef\u001b[0m \u001b[0mequacao\u001b[0m\u001b[0;34m(\u001b[0m\u001b[0ma\u001b[0m\u001b[0;34m,\u001b[0m \u001b[0mb\u001b[0m\u001b[0;34m,\u001b[0m \u001b[0mc\u001b[0m\u001b[0;34m)\u001b[0m\u001b[0;34m:\u001b[0m\u001b[0;34m\u001b[0m\u001b[0m\n\u001b[1;32m      2\u001b[0m \u001b[0;34m\u001b[0m\u001b[0m\n\u001b[0;32m----> 3\u001b[0;31m     \u001b[0;32mif\u001b[0m \u001b[0mdelta\u001b[0m \u001b[0;34m>\u001b[0m \u001b[0;36m0\u001b[0m\u001b[0;34m:\u001b[0m\u001b[0;34m\u001b[0m\u001b[0m\n\u001b[0m\u001b[1;32m      4\u001b[0m \u001b[0;34m\u001b[0m\u001b[0m\n\u001b[1;32m      5\u001b[0m         \u001b[0mdelta\u001b[0m \u001b[0;34m=\u001b[0m \u001b[0;34m(\u001b[0m\u001b[0mb\u001b[0m\u001b[0;34m*\u001b[0m\u001b[0mb\u001b[0m\u001b[0;34m)\u001b[0m \u001b[0;34m-\u001b[0m \u001b[0;34m(\u001b[0m\u001b[0;36m4\u001b[0m \u001b[0;34m*\u001b[0m \u001b[0ma\u001b[0m \u001b[0;34m*\u001b[0m \u001b[0mc\u001b[0m\u001b[0;34m)\u001b[0m\u001b[0;34m\u001b[0m\u001b[0m\n",
      "\u001b[0;31mUnboundLocalError\u001b[0m: local variable 'delta' referenced before assignment"
     ]
    }
   ],
   "source": [
    "a = int(input('a:'))\n",
    "b = int(input('b:'))\n",
    "c = int(input('c:'))\n",
    "\n",
    "r1,r2 = equacao(a, b, c)\n",
    "print('o valor eh %.1f %.1f' % (r1,r2))"
   ]
  },
  {
   "cell_type": "markdown",
   "metadata": {},
   "source": [
    "### Exercício 3"
   ]
  },
  {
   "cell_type": "markdown",
   "metadata": {},
   "source": [
    "<div style=\"text-align:justify\">\n",
    "Escreva uma função que receba dois pares de números `i` e `f`, representando o <i>início</i> e o <i>fim</i> de um intervalo. A saída dessa função deve ser a soma de todos os números ímpares desse intervalo.\n",
    "</div>"
   ]
  },
  {
   "cell_type": "code",
   "execution_count": 3,
   "metadata": {},
   "outputs": [],
   "source": [
    "# Exercício 3."
   ]
  },
  {
   "cell_type": "markdown",
   "metadata": {},
   "source": [
    "### Exercício 4"
   ]
  },
  {
   "cell_type": "markdown",
   "metadata": {},
   "source": [
    "<div style=\"text-align:justify\">\n",
    "Escreva um programa que pergunte ao usuário quantos alunos tem na sala dele. Em seguida, use um laço while para ler as notas de todos os alunos da sala, um por vez. Por fim, seu programa deve mostrar a média da turma.\n",
    "</div>"
   ]
  },
  {
   "cell_type": "code",
   "execution_count": 4,
   "metadata": {},
   "outputs": [],
   "source": [
    "# Exercício 4."
   ]
  },
  {
   "cell_type": "markdown",
   "metadata": {},
   "source": [
    "### Exercício 5"
   ]
  },
  {
   "cell_type": "markdown",
   "metadata": {},
   "source": [
    "<div style=\"text-align:justify\">\n",
    "Uma vez calculada a `média` da turma no <i>Exercício 4</i>, calcule o desvio padrão das notas e encontre uma forma de dizer quais alunos estão acima ou abaixo da média da turma.<br><br>\n",
    "\n",
    "Utilize a biblioteca `matplotlib` para apresentar uma representação gráfica desses dados. Apresente um gráfico de barras, analise e documente sua interpretação dos resultados aqui neste notebook.\n",
    "</div>"
   ]
  },
  {
   "cell_type": "code",
   "execution_count": 5,
   "metadata": {},
   "outputs": [],
   "source": [
    "# Exercício 5."
   ]
  },
  {
   "cell_type": "markdown",
   "metadata": {},
   "source": [
    "### Exercício 6"
   ]
  },
  {
   "cell_type": "markdown",
   "metadata": {},
   "source": [
    "<div style=\"text-align:justify\">\n",
    "Escreva um programa em Python que solicite 10 números ao usuário. Ao final, seu programa deve ser capaz de mostrar o maior e o menor número digitado pelo usuário. Faça este exercício utilizando `for range`.\n",
    "</div>"
   ]
  },
  {
   "cell_type": "code",
   "execution_count": 6,
   "metadata": {},
   "outputs": [],
   "source": [
    "# Exercício 6."
   ]
  },
  {
   "cell_type": "markdown",
   "metadata": {},
   "source": [
    "### Exercício 7"
   ]
  },
  {
   "cell_type": "markdown",
   "metadata": {},
   "source": [
    "<div style=\"text-align:justify\">\n",
    "Escreva um algoritmo que multiplique as matrizes `a: [[10, -1, 14],[15, 10, -3]]` e `b:[[-2, 15, -4],[20, 17, 10]]`, armazenando o resultado em uma matriz `c`. Vale lembrar que a multiplicação de matrizes requer a regra da transposta, para compatibilizar o número de linhas e colunas.\n",
    "</div>"
   ]
  },
  {
   "cell_type": "code",
   "execution_count": 7,
   "metadata": {},
   "outputs": [],
   "source": [
    "# Exercício 7."
   ]
  },
  {
   "cell_type": "markdown",
   "metadata": {},
   "source": [
    "### Exercício 8"
   ]
  },
  {
   "cell_type": "markdown",
   "metadata": {},
   "source": [
    "<div style=\"text-align:justify\">\n",
    "A Série de Fibonacci é uma das séries mais conhecidas, podendo ser utilizada para descrever diversos fenômenos naturais, incluindo o crescimento populacional.<br><br>\n",
    "\n",
    "Escreva uma função que receba um valor de entrada `n`, correspondente ao número limite da série de fibonacci. Sua função deve ser capaz de retornar todos os elementos dá série menores que o número informado.<br><br>\n",
    "    \n",
    "<b>Exemplo</b>:<br>\n",
    "\n",
    "Se o número informado para a função for 10, sua série deve retornar:`1, 1, 2, 3, 5, 8, 13, 21, 34`.\n",
    "</div>"
   ]
  },
  {
   "cell_type": "code",
   "execution_count": 8,
   "metadata": {},
   "outputs": [],
   "source": [
    "# Exercício 8."
   ]
  },
  {
   "cell_type": "markdown",
   "metadata": {},
   "source": [
    "### Exercício 9"
   ]
  },
  {
   "cell_type": "markdown",
   "metadata": {},
   "source": [
    "<div style=\"text-align:justify\">\n",
    "Escreve um programa em Python que receba um texto informado pelo usuário. Seu programa deve ser capaz de determinar se o texto digitado é ou não um palíndromo. Palíndromo são palavras que possuem o mesmo significado, mesmo quando lidas de trás para frente.<br><br>\n",
    "\n",
    "<b>Exemplo:</b><br>\n",
    "A palavra `ovo` tem o mesmo significado, mesmo quando lida de trás para frente.\n",
    "</div>"
   ]
  },
  {
   "cell_type": "code",
   "execution_count": 9,
   "metadata": {},
   "outputs": [],
   "source": [
    "# Exercício 9"
   ]
  },
  {
   "cell_type": "markdown",
   "metadata": {},
   "source": [
    "### Exercício 10"
   ]
  },
  {
   "cell_type": "markdown",
   "metadata": {},
   "source": [
    "<div style=\"text-align:justify\">\n",
    "Compreenda o que faz todo o programa a seguir e explique onde ele poderia ser utilizado.\n",
    "</div>"
   ]
  },
  {
   "cell_type": "markdown",
   "metadata": {},
   "source": [
    "#### Carregando Pacotes"
   ]
  },
  {
   "cell_type": "code",
   "execution_count": 10,
   "metadata": {},
   "outputs": [],
   "source": [
    "import numpy\n",
    "import math"
   ]
  },
  {
   "cell_type": "markdown",
   "metadata": {},
   "source": [
    "#### Dicionário de Dados"
   ]
  },
  {
   "cell_type": "code",
   "execution_count": 11,
   "metadata": {},
   "outputs": [],
   "source": [
    "# Titulo de musicas\n",
    "musicas = [\n",
    "    '0 Metallica - Nothing else matters',\n",
    "    '1 MC Kevinho - Tô apaixonado nessa mina',\n",
    "    '2 Chitaozinho & Xororo - Evidencias',\n",
    "    '3 Led Zeppelin - Stairway to heaven',\n",
    "    '4 Bruno Mars - Talking to the moon',\n",
    "    '5 Tim Maia - É primavera',\n",
    "    '6 Pink Floyd - The Wall',\n",
    "    '7 Bruno e Marrone - Amor de balada',\n",
    "    '8 Luan Santana - Na balada das negas',\n",
    "    '9 Chrystian & Ralf - Cheiro de shampoo',\n",
    "    '10 Anitta - Vai malandra'\n",
    "]\n",
    "\n",
    "# Descritores\n",
    "# Nacional | Rock | Sertanejo | Funk | Musica de balada | Raiz | Duracao em minutos\n",
    "descritores = [\n",
    "    [0, 1, 0, 0, 0, 1, 6.25],\n",
    "    [1, 0, 0, 1, 1, 0, 3.19],\n",
    "    [1, 0, 1, 0, 0, 1, 4.40],\n",
    "    [0, 1, 0, 0, 0, 1, 8.09],\n",
    "    [0, 1, 0, 0, 1, 0, 3.40],\n",
    "    [1, 0, 0, 1, 0, 1, 4.03],\n",
    "    [0, 1, 0, 0, 0, 1, 5.32],\n",
    "    [1, 0, 1, 0, 1, 0, 3.08],\n",
    "    [1, 0, 1, 0, 1, 0, 3.00],\n",
    "    [1, 0, 1, 0, 0, 1, 3.27],\n",
    "    [1, 0, 0, 1, 1, 0, 3.13]\n",
    "]"
   ]
  },
  {
   "cell_type": "markdown",
   "metadata": {},
   "source": [
    "#### Função de Similaridade - Distância de Cossenos [https://en.wikipedia.org/wiki/Cosine_similarity]"
   ]
  },
  {
   "cell_type": "code",
   "execution_count": 12,
   "metadata": {},
   "outputs": [],
   "source": [
    "def similaridade(v1, v2):\n",
    "    sumxx, sumxy, sumyy = 0, 0, 0\n",
    "    for i in range(len(v1)):\n",
    "        x = v1[i]; y = v2[i]\n",
    "        sumxx += x*x\n",
    "        sumyy += y*y\n",
    "        sumxy += x*y\n",
    "    return (sumxy / math.sqrt(sumxx*sumyy))"
   ]
  },
  {
   "cell_type": "markdown",
   "metadata": {},
   "source": [
    "#### Selecionando Descritor"
   ]
  },
  {
   "cell_type": "markdown",
   "metadata": {},
   "source": [
    "<div style=\"text-align:justify\">\n",
    "Selecionando uma música e seu descritor, para comparar com as demais.\n",
    "</div>"
   ]
  },
  {
   "cell_type": "code",
   "execution_count": 13,
   "metadata": {},
   "outputs": [
    {
     "name": "stdout",
     "output_type": "stream",
     "text": [
      "Musica:  3 Led Zeppelin - Stairway to heaven  Descritores:  [0, 1, 0, 0, 0, 1, 8.09]\n"
     ]
    }
   ],
   "source": [
    "indice = 3\n",
    "v1 = descritores[indice]\n",
    "\n",
    "print('Musica: ', musicas[indice], ' Descritores: ', v1)"
   ]
  },
  {
   "cell_type": "markdown",
   "metadata": {},
   "source": [
    "#### Calculando Score de Similaridade"
   ]
  },
  {
   "cell_type": "markdown",
   "metadata": {},
   "source": [
    "<div style=\"text-align:justify\">\n",
    "O bloco de código a seguir calcula a similaridade entre a música lecionada anteriormente e todas as outras músicas do dicionário de dados. Quanto mais similar as músicas forem, mais próximo de `1.0` será sua similaridade.\n",
    "</div>"
   ]
  },
  {
   "cell_type": "code",
   "execution_count": 14,
   "metadata": {},
   "outputs": [
    {
     "name": "stdout",
     "output_type": "stream",
     "text": [
      "Score [0] = 0.99878\n",
      "Score [1] = 0.86569\n",
      "Score [2] = 0.94235\n",
      "Score [3] = 1.00000\n",
      "Score [4] = 0.94259\n",
      "Score [5] = 0.93277\n",
      "Score [6] = 0.99624\n",
      "Score [7] = 0.85861\n",
      "Score [8] = 0.85309\n",
      "Score [9] = 0.90340\n",
      "Score [10] = 0.86190\n"
     ]
    }
   ],
   "source": [
    "\n",
    "scores = []\n",
    "\n",
    "for i, v2 in enumerate(descritores):\n",
    "    score = similaridade(v1, v2)\n",
    "    scores.append(score)\n",
    "    print('Score [%d] = %.5f' % (i, score))"
   ]
  },
  {
   "cell_type": "markdown",
   "metadata": {},
   "source": [
    "#### Exibindo Músicas (Mais Similar para Menos Similar)"
   ]
  },
  {
   "cell_type": "code",
   "execution_count": 15,
   "metadata": {},
   "outputs": [
    {
     "name": "stdout",
     "output_type": "stream",
     "text": [
      "Score: 1.00000 Música: 3 Led Zeppelin - Stairway to heaven\n",
      "Score: 0.99878 Música: 0 Metallica - Nothing else matters\n",
      "Score: 0.99624 Música: 6 Pink Floyd - The Wall\n",
      "Score: 0.94259 Música: 4 Bruno Mars - Talking to the moon\n",
      "Score: 0.94235 Música: 2 Chitaozinho & Xororo - Evidencias\n",
      "Score: 0.93277 Música: 5 Tim Maia - É primavera\n",
      "Score: 0.90340 Música: 9 Chrystian & Ralf - Cheiro de shampoo\n",
      "Score: 0.86569 Música: 1 MC Kevinho - Tô apaixonado nessa mina\n",
      "Score: 0.86190 Música: 10 Anitta - Vai malandra\n",
      "Score: 0.85861 Música: 7 Bruno e Marrone - Amor de balada\n",
      "Score: 0.85309 Música: 8 Luan Santana - Na balada das negas\n"
     ]
    }
   ],
   "source": [
    "# ordenando músicas da mais similar para a menos similar.\n",
    "indexes = numpy.argsort(scores)\n",
    "\n",
    "# imprimindo músicas já ordenadas.\n",
    "for i in reversed(indexes):\n",
    "    print('Score: %.5f Música: %s' % (scores[i], musicas[i]))"
   ]
  },
  {
   "cell_type": "code",
   "execution_count": null,
   "metadata": {},
   "outputs": [],
   "source": []
  }
 ],
 "metadata": {
  "kernelspec": {
   "display_name": "Python 2",
   "language": "python",
   "name": "python2"
  },
  "language_info": {
   "codemirror_mode": {
    "name": "ipython",
    "version": 2
   },
   "file_extension": ".py",
   "mimetype": "text/x-python",
   "name": "python",
   "nbconvert_exporter": "python",
   "pygments_lexer": "ipython2",
   "version": "2.7.12"
  }
 },
 "nbformat": 4,
 "nbformat_minor": 2
}
