{
 "cells": [
  {
   "cell_type": "markdown",
   "metadata": {},
   "source": [
    "### Conhecimento prévio:"
   ]
  },
  {
   "cell_type": "markdown",
   "metadata": {},
   "source": [
    "<div style=\"text-align:justify\">\n",
    "Antes de ver a solução, vamos garantir que seus conhecimentos prévios estão alinhados com as ferramentas necessárias para solucionar esse problema. A ideia por trás dessa solução, é percorrer o valor da última posição até a primeira e acumular em uma nova variável.\n",
    "</div>\n",
    "\n",
    "Veja:"
   ]
  },
  {
   "cell_type": "code",
   "execution_count": 3,
   "metadata": {},
   "outputs": [
    {
     "name": "stdout",
     "output_type": "stream",
     "text": [
      "A palavra tem 7 letras\n",
      "A ultima letra está na posicao 6 do vetor\n",
      "A ultima letra eh: a\n"
     ]
    }
   ],
   "source": [
    "palavra = 'minhoca'\n",
    "\n",
    "print('A palavra tem %d letras' % (len(palavra)))\n",
    "print('A ultima letra está na posicao %d do vetor' % (len(palavra) - 1))\n",
    "print('A ultima letra eh: %s' % (palavra[len(palavra) - 1]))"
   ]
  },
  {
   "cell_type": "markdown",
   "metadata": {},
   "source": [
    "<div style=\"text-align:justify\">\n",
    "Percebemos então que precisamos percorrer a palavra da posicao `6` (ultima letra) ate a posicao `0` (primeira letra). Para isso, vamos utilizar uma estrutrua de loop. Vejamos duas formas de fazer isso:\n",
    "</div>"
   ]
  },
  {
   "cell_type": "markdown",
   "metadata": {},
   "source": [
    "#### Solução 1 - While:"
   ]
  },
  {
   "cell_type": "code",
   "execution_count": 4,
   "metadata": {},
   "outputs": [
    {
     "name": "stdout",
     "output_type": "stream",
     "text": [
      "a\n",
      "c\n",
      "o\n",
      "h\n",
      "n\n",
      "i\n",
      "m\n"
     ]
    }
   ],
   "source": [
    "contador = len(palavra) - 1 # ultima letra\n",
    "while (contador > -1): # porque a ultima letra esta na posicao 0 (zero)\n",
    "    print(palavra[contador])\n",
    "    contador = contador - 1"
   ]
  },
  {
   "cell_type": "markdown",
   "metadata": {},
   "source": [
    "#### Solução 2: For:"
   ]
  },
  {
   "cell_type": "code",
   "execution_count": 7,
   "metadata": {},
   "outputs": [
    {
     "name": "stdout",
     "output_type": "stream",
     "text": [
      "a\n",
      "c\n",
      "o\n",
      "h\n",
      "n\n",
      "i\n",
      "m\n"
     ]
    }
   ],
   "source": [
    "ultima_letra = len(palavra) - 1\n",
    "for contador in range(ultima_letra, -1, -1):\n",
    "    print(palavra[contador])"
   ]
  },
  {
   "cell_type": "markdown",
   "metadata": {},
   "source": [
    "### Declarando a função:"
   ]
  },
  {
   "cell_type": "code",
   "execution_count": 4,
   "metadata": {},
   "outputs": [],
   "source": [
    "def inverso(texto):\n",
    "    texto = str(texto) # garante que qualquer valor que chegue na funcao sera transformado em string.\n",
    "    ultima_letra = len(texto) - 1 # posicao da ultima letra do vetor (toda string eh um vetor)\n",
    "    \n",
    "    texto_invertido = '' # string para acumular o novo texto (texto invertido)\n",
    "    \n",
    "    for posicao_letra in range(ultima_letra, -1, -1): # indo da ultima letra ate a primeira\n",
    "        texto_invertido = texto_invertido + texto[posicao_letra] # acumulando uma letra de cada vez\n",
    "    \n",
    "    return texto_invertido # retornando texto invertido"
   ]
  },
  {
   "cell_type": "markdown",
   "metadata": {},
   "source": [
    "### Testando com números:"
   ]
  },
  {
   "cell_type": "code",
   "execution_count": 5,
   "metadata": {
    "scrolled": true
   },
   "outputs": [
    {
     "name": "stdout",
     "output_type": "stream",
     "text": [
      "721\n"
     ]
    }
   ],
   "source": [
    "texto = 127\n",
    "print(inverso(texto))"
   ]
  },
  {
   "cell_type": "markdown",
   "metadata": {},
   "source": [
    "### Testando com texto:"
   ]
  },
  {
   "cell_type": "code",
   "execution_count": 6,
   "metadata": {},
   "outputs": [
    {
     "name": "stdout",
     "output_type": "stream",
     "text": [
      "uc uem\n"
     ]
    }
   ],
   "source": [
    "texto = 'meu cu'\n",
    "print(inverso(texto))"
   ]
  },
  {
   "cell_type": "code",
   "execution_count": null,
   "metadata": {},
   "outputs": [],
   "source": []
  }
 ],
 "metadata": {
  "kernelspec": {
   "display_name": "Python 2",
   "language": "python",
   "name": "python2"
  },
  "language_info": {
   "codemirror_mode": {
    "name": "ipython",
    "version": 2
   },
   "file_extension": ".py",
   "mimetype": "text/x-python",
   "name": "python",
   "nbconvert_exporter": "python",
   "pygments_lexer": "ipython2",
   "version": "2.7.12"
  }
 },
 "nbformat": 4,
 "nbformat_minor": 2
}
