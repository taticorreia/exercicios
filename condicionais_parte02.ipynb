{
 "cells": [
  {
   "cell_type": "markdown",
   "metadata": {},
   "source": [
    "# Estruturas Condicionais - Parte 2"
   ]
  },
  {
   "cell_type": "markdown",
   "metadata": {},
   "source": [
    "### Variáveis de Entrada"
   ]
  },
  {
   "cell_type": "markdown",
   "metadata": {},
   "source": [
    "<div style=\"text-align:justify\">\n",
    "A seguir são declaradas as variáveis de entrada `a`, `b` e `c`. Altere o valor destas variáveis para testar novos comportamentos para o programa.\n",
    "</div>"
   ]
  },
  {
   "cell_type": "code",
   "execution_count": 65,
   "metadata": {},
   "outputs": [],
   "source": [
    "a = 2\n",
    "b = 3\n",
    "c = 1"
   ]
  },
  {
   "cell_type": "markdown",
   "metadata": {},
   "source": [
    "### Carregando Pacotes Auxiliares"
   ]
  },
  {
   "cell_type": "markdown",
   "metadata": {},
   "source": [
    "<div style=\"text-align:justify\">\n",
    "O trecho de código a seguir serve para carregar um pacote auxiliar que permite calcular a raiz quadrada de um número. Esse pacote pode ser carregado através do comendo `from math import sqrt`.\n",
    "</div>"
   ]
  },
  {
   "cell_type": "code",
   "execution_count": 66,
   "metadata": {},
   "outputs": [
    {
     "name": "stdout",
     "output_type": "stream",
     "text": [
      "Raiz de 9 = 3.0\n"
     ]
    }
   ],
   "source": [
    "from math import sqrt\n",
    "\n",
    "# testando a raiz de 9\n",
    "x = sqrt(9)\n",
    "print('Raiz de 9 = %.1f' % (x))"
   ]
  },
  {
   "cell_type": "markdown",
   "metadata": {},
   "source": [
    "### Função de Báscara"
   ]
  },
  {
   "cell_type": "markdown",
   "metadata": {},
   "source": [
    "#### Calculando Delta."
   ]
  },
  {
   "cell_type": "code",
   "execution_count": 67,
   "metadata": {},
   "outputs": [
    {
     "name": "stdout",
     "output_type": "stream",
     "text": [
      "O valor de Delta: 1.0\n"
     ]
    }
   ],
   "source": [
    "delta = (b*b) - (4 * a * c)\n",
    "print('O valor de Delta: %.1f' % (delta))"
   ]
  },
  {
   "cell_type": "markdown",
   "metadata": {},
   "source": [
    "<div style=\"text-align:justify\">\n",
    "É importante lembrar que só é possível calcular as raízes `x1` e `x2` quando os valores de `delta` são positivos, ou seja, `delta > 0`. Sendo assim, precisamos fazer essa verificação antes de calcular `x1` e `x2`.\n",
    "</div>"
   ]
  },
  {
   "cell_type": "markdown",
   "metadata": {},
   "source": [
    "#### Calculando X1:"
   ]
  },
  {
   "cell_type": "code",
   "execution_count": 68,
   "metadata": {},
   "outputs": [
    {
     "name": "stdout",
     "output_type": "stream",
     "text": [
      "O valor de X1: -0.5\n"
     ]
    }
   ],
   "source": [
    "if delta > 0:\n",
    "    x1 = (-b + sqrt(delta)) / (2 * a)\n",
    "    print('O valor de X1: %.1f' % (x1))\n",
    "else:\n",
    "    print('Sistema de produto complexo')"
   ]
  },
  {
   "cell_type": "markdown",
   "metadata": {},
   "source": [
    "#### Calculando X2:"
   ]
  },
  {
   "cell_type": "code",
   "execution_count": 69,
   "metadata": {},
   "outputs": [
    {
     "name": "stdout",
     "output_type": "stream",
     "text": [
      "O valor de X2: -1.0\n"
     ]
    }
   ],
   "source": [
    "if delta > 0:\n",
    "    x2 = (-b - sqrt(delta)) / (2 * a)\n",
    "    print('O valor de X2: %.1f' % (x2))\n",
    "else:\n",
    "    print('Sistema de produto complexo')"
   ]
  },
  {
   "cell_type": "markdown",
   "metadata": {},
   "source": [
    "### Exercícios"
   ]
  },
  {
   "cell_type": "markdown",
   "metadata": {},
   "source": [
    "> Altere os valores de `a`, `b` e `c` conforme abaixo e verifique o comportamento para cada conjunto de valores:\n",
    "- `a = 2`, `b = 3` e `c = 1``\n",
    "- `a = 5`, `b = 2` e `c = 1``"
   ]
  },
  {
   "cell_type": "markdown",
   "metadata": {},
   "source": [
    "> Crie um novo notebook e refaça o mesmo exercício, mas do zero. Apenas para fixar!"
   ]
  },
  {
   "cell_type": "code",
   "execution_count": null,
   "metadata": {},
   "outputs": [],
   "source": []
  }
 ],
 "metadata": {
  "kernelspec": {
   "display_name": "Python 2",
   "language": "python",
   "name": "python2"
  },
  "language_info": {
   "codemirror_mode": {
    "name": "ipython",
    "version": 2
   },
   "file_extension": ".py",
   "mimetype": "text/x-python",
   "name": "python",
   "nbconvert_exporter": "python",
   "pygments_lexer": "ipython2",
   "version": "2.7.12"
  }
 },
 "nbformat": 4,
 "nbformat_minor": 2
}
