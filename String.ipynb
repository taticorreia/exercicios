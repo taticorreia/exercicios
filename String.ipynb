{
 "cells": [
  {
   "cell_type": "markdown",
   "metadata": {},
   "source": [
    "Nome na vertical. Faça um programa que solicite o nome do usuário e imprima-o na vertical.\n",
    "\n"
   ]
  },
  {
   "cell_type": "code",
   "execution_count": 24,
   "metadata": {},
   "outputs": [
    {
     "name": "stdout",
     "output_type": "stream",
     "text": [
      "nome:tatiane\n",
      "t\n",
      "a\n",
      "t\n",
      "i\n",
      "a\n",
      "n\n",
      "e\n"
     ]
    }
   ],
   "source": [
    "nome = raw_input('nome:')\n",
    "for i in nome:\n",
    "\n",
    "    print(i)\n"
   ]
  },
  {
   "cell_type": "code",
   "execution_count": 49,
   "metadata": {},
   "outputs": [
    {
     "name": "stdout",
     "output_type": "stream",
     "text": [
      "seu nome: tatiane\n",
      "t\n",
      "a\n",
      "t\n",
      "i\n",
      "a\n",
      "n\n",
      "e\n"
     ]
    }
   ],
   "source": [
    "nome = raw_input('seu nome: ')\n",
    "\n",
    "contador = 0\n",
    "while contador < len(nome):\n",
    "    \n",
    "    print(nome[contador])\n",
    "    \n",
    "    contador = contador + 1"
   ]
  },
  {
   "cell_type": "markdown",
   "metadata": {},
   "source": [
    "Nome na vertical em escada. Modifique o programa anterior de forma a mostrar o nome em formato de escada."
   ]
  },
  {
   "cell_type": "code",
   "execution_count": 46,
   "metadata": {},
   "outputs": [
    {
     "name": "stdout",
     "output_type": "stream",
     "text": [
      "nometati\n",
      "t\n",
      "ta\n",
      "tat\n",
      "tati\n"
     ]
    }
   ],
   "source": [
    "nome= raw_input('nome') \n",
    "s = \"\"\n",
    "\n",
    "for letra in nome:\n",
    "\t\ts+=letra\n",
    "\t\tprint(s)"
   ]
  },
  {
   "cell_type": "code",
   "execution_count": 7,
   "metadata": {},
   "outputs": [
    {
     "name": "stdout",
     "output_type": "stream",
     "text": [
      "nometati\n",
      "tamanho do texto: 4\n",
      "primeira letra: t\n",
      "segunda letra: a\n",
      "ultima letra: i\n",
      "contador: 0\n",
      "contador: 1\n",
      "contador: 2\n",
      "contador: 3\n"
     ]
    }
   ],
   "source": [
    "nome= raw_input('nome')\n",
    "\n",
    "print 'tamanho do texto: %d' % (len(nome))\n",
    "print 'primeira letra: %s' % (nome[0])\n",
    "print 'segunda letra: %s' % (nome[1])\n",
    "print 'ultima letra: %s' % (nome[len(nome) - 1])\n",
    "\n",
    "#s = \"\"\n",
    "\n",
    "contador = 0\n",
    "while contador < len(nome):\n",
    "    \n",
    "    #s = s + nome[contador]\n",
    "    \n",
    "    #print s\n",
    "    print 'contador: %d' % (contador)\n",
    "    contador = contador + 1\n",
    "\n"
   ]
  },
  {
   "cell_type": "code",
   "execution_count": 11,
   "metadata": {},
   "outputs": [
    {
     "name": "stdout",
     "output_type": "stream",
     "text": [
      "nome completo: tati\n",
      "primeira letra: t\n",
      "segunda letra: a\n",
      "ultima letra letra: i\n",
      "segunda letra ate a ultima: ati\n",
      "terceira letra ate a ultima: ti\n",
      "primeira e segunda letra: ta\n",
      "penultima letra ate a primeira: tat\n",
      "primeira e segunda letra (do fim pro comeco: ta\n"
     ]
    }
   ],
   "source": [
    "nome = 'tati'\n",
    "print 'nome completo: %s' % (nome[0:4])\n",
    "print 'primeira letra: %s' % (nome[0])\n",
    "print 'segunda letra: %s' % (nome[1])\n",
    "print 'ultima letra letra: %s' % (nome[len(nome) - 1])\n",
    "\n",
    "print 'segunda letra ate a ultima: %s' % (nome[1:])\n",
    "print 'terceira letra ate a ultima: %s' % (nome[2:])\n",
    "print 'primeira e segunda letra: %s' % (nome[0:2])\n",
    "\n",
    "print 'penultima letra ate a primeira: %s' % (nome[:-1])\n",
    "print 'primeira e segunda letra (do fim pro comeco: %s' % (nome[:-2])"
   ]
  },
  {
   "cell_type": "code",
   "execution_count": null,
   "metadata": {},
   "outputs": [],
   "source": [
    "●TGA (2 de x e 1 discursiva) - administração científica, teoria clássica e humanista\n",
    "●Planejamento Estratégico (2 de X 1 discursiva) - plano estrategico,tatico e operacional; cenários;  desenvolvimento geral do planejamento estratégico. (dissertativa).\n"
   ]
  },
  {
   "cell_type": "code",
   "execution_count": null,
   "metadata": {},
   "outputs": [],
   "source": []
  }
 ],
 "metadata": {
  "kernelspec": {
   "display_name": "Python 2",
   "language": "python",
   "name": "python2"
  },
  "language_info": {
   "codemirror_mode": {
    "name": "ipython",
    "version": 2
   },
   "file_extension": ".py",
   "mimetype": "text/x-python",
   "name": "python",
   "nbconvert_exporter": "python",
   "pygments_lexer": "ipython2",
   "version": "2.7.12"
  }
 },
 "nbformat": 4,
 "nbformat_minor": 2
}
