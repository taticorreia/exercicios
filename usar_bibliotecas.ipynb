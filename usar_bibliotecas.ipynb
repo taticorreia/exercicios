{
 "cells": [
  {
   "cell_type": "code",
   "execution_count": 22,
   "metadata": {},
   "outputs": [],
   "source": [
    "from bibliotecas import *"
   ]
  },
  {
   "cell_type": "code",
   "execution_count": 12,
   "metadata": {},
   "outputs": [
    {
     "name": "stdout",
     "output_type": "stream",
     "text": [
      "Informe um numero: 6\n",
      "O fatorial de 6 é: 720\n"
     ]
    }
   ],
   "source": [
    "num = int(input('Informe um numero: '))\n",
    "resultado = calcular_fatorial(num)\n",
    "print('O fatorial de %d é: %d' % (num, resultado))"
   ]
  },
  {
   "cell_type": "code",
   "execution_count": 2,
   "metadata": {},
   "outputs": [
    {
     "ename": "NameError",
     "evalue": "name 'somar_dois_numeros' is not defined",
     "output_type": "error",
     "traceback": [
      "\u001b[0;31m---------------------------------------------------------------------------\u001b[0m",
      "\u001b[0;31mNameError\u001b[0m                                 Traceback (most recent call last)",
      "\u001b[0;32m<ipython-input-2-44c757e412cc>\u001b[0m in \u001b[0;36m<module>\u001b[0;34m()\u001b[0m\n\u001b[0;32m----> 1\u001b[0;31m \u001b[0msomar_dois_numeros\u001b[0m\u001b[0;34m(\u001b[0m\u001b[0;36m10\u001b[0m\u001b[0;34m,\u001b[0m \u001b[0;36m12\u001b[0m\u001b[0;34m)\u001b[0m\u001b[0;34m\u001b[0m\u001b[0m\n\u001b[0m",
      "\u001b[0;31mNameError\u001b[0m: name 'somar_dois_numeros' is not defined"
     ]
    }
   ],
   "source": [
    "somar_dois_numeros(10, 12)"
   ]
  },
  {
   "cell_type": "code",
   "execution_count": 11,
   "metadata": {},
   "outputs": [
    {
     "data": {
      "text/plain": [
       "3650.0"
      ]
     },
     "execution_count": 11,
     "metadata": {},
     "output_type": "execute_result"
    }
   ],
   "source": [
    "salario_descontado_imposto(5000)"
   ]
  },
  {
   "cell_type": "code",
   "execution_count": 24,
   "metadata": {},
   "outputs": [
    {
     "name": "stdout",
     "output_type": "stream",
     "text": [
      "insira:3\n",
      "o fatorial de 3 eh 6\n"
     ]
    }
   ],
   "source": [
    "a = int(input('insira:'))\n",
    "fatorial = calcular_fatorial(a)\n",
    "print('o fatorial de %d eh %d'% (a, fatorial))"
   ]
  },
  {
   "cell_type": "code",
   "execution_count": 78,
   "metadata": {},
   "outputs": [],
   "source": [
    "def hello(meu_nome, idade):\n",
    "    print('Olá %s \\nSua idade é: %d' % ('Fabio', 28))"
   ]
  },
  {
   "cell_type": "code",
   "execution_count": null,
   "metadata": {},
   "outputs": [],
   "source": []
  },
  {
   "cell_type": "code",
   "execution_count": 79,
   "metadata": {},
   "outputs": [
    {
     "name": "stdout",
     "output_type": "stream",
     "text": [
      "Olá Fabio \n",
      "Sua idade é: 28\n"
     ]
    }
   ],
   "source": [
    "hello('fabio', 28)"
   ]
  },
  {
   "cell_type": "code",
   "execution_count": 4,
   "metadata": {},
   "outputs": [],
   "source": [
    "def calcular_pagamento(qtd_horas, valor_hora):\n",
    "    horas = float(qtd_horas)\n",
    "    taxa = float(valor_hora)\n",
    "    if horas <= 40:\n",
    "        salario = horas * taxa\n",
    "    else:\n",
    "        h_excd = horas - 40\n",
    "        salario = 40 * taxa + (h_excd*(1.5*taxa))\n",
    "    return salario"
   ]
  },
  {
   "cell_type": "code",
   "execution_count": 5,
   "metadata": {},
   "outputs": [
    {
     "name": "stdout",
     "output_type": "stream",
     "text": [
      "digite as horas:4\n",
      "digite a taxa:9\n",
      "('o valor de seus rendimentos eh:', 36.0)\n"
     ]
    }
   ],
   "source": [
    "str_horas = int(input('digite as horas:'))\n",
    "str_taxa = int(input('digite a taxa:'))\n",
    "total_salario = calcular_pagamento(str_horas,str_taxa)\n",
    "print('o valor de seus rendimentos eh:', total_salario)"
   ]
  },
  {
   "cell_type": "code",
   "execution_count": 4,
   "metadata": {},
   "outputs": [
    {
     "name": "stdout",
     "output_type": "stream",
     "text": [
      "digite um numero---> 3\n",
      "P\n"
     ]
    }
   ],
   "source": [
    "def pOrN(n):\n",
    "    if n > 0:\n",
    "        print \"P\"\n",
    "    else:\n",
    "        print \"N\"\n",
    " \n",
    "numero = input(\"digite um numero---> \")\n",
    "pOrN(numero)"
   ]
  },
  {
   "cell_type": "code",
   "execution_count": null,
   "metadata": {},
   "outputs": [],
   "source": []
  }
 ],
 "metadata": {
  "kernelspec": {
   "display_name": "Python 2",
   "language": "python",
   "name": "python2"
  },
  "language_info": {
   "codemirror_mode": {
    "name": "ipython",
    "version": 2
   },
   "file_extension": ".py",
   "mimetype": "text/x-python",
   "name": "python",
   "nbconvert_exporter": "python",
   "pygments_lexer": "ipython2",
   "version": "2.7.12"
  }
 },
 "nbformat": 4,
 "nbformat_minor": 2
}
