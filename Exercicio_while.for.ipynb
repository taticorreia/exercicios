{
 "cells": [
  {
   "cell_type": "markdown",
   "metadata": {},
   "source": [
    "https://wiki.python.org.br/EstruturaDeRepeticao"
   ]
  },
  {
   "cell_type": "markdown",
   "metadata": {},
   "source": [
    "### Faça um programa que peça uma nota, entre zero e dez. Mostre uma mensagem caso o valor seja inválido e continue pedindo até que o usuário informe um valor válido."
   ]
  },
  {
   "cell_type": "code",
   "execution_count": 16,
   "metadata": {},
   "outputs": [
    {
     "name": "stdout",
     "output_type": "stream",
     "text": [
      "informe uma nota:11\n",
      "informe um valor de 0 a 102\n",
      "2\n"
     ]
    }
   ],
   "source": [
    "\n",
    "\n",
    "nota = int(input('informe uma nota:'))   \n",
    "contador = 0 \n",
    "while contador <= nota:\n",
    "    \n",
    "    contador = contador + 1\n",
    "\n",
    "if nota >= 0 and nota <= 10:\n",
    "    pass\n",
    "else:\n",
    "    print(int(input('informe um valor de 0 a 10')))\n",
    "\n"
   ]
  },
  {
   "cell_type": "markdown",
   "metadata": {},
   "source": [
    "### Faça um programa que leia um nome de usuário e a sua senha e não aceite a senha igual ao nome do usuário, mostrando uma mensagem de erro e voltando a pedir as informações."
   ]
  },
  {
   "cell_type": "code",
   "execution_count": 40,
   "metadata": {},
   "outputs": [
    {
     "name": "stdout",
     "output_type": "stream",
     "text": [
      "usuario: tati\n",
      "senha: tati\n",
      "informe uma nova senha:tat1\n"
     ]
    }
   ],
   "source": [
    "'login'\n",
    "nome = raw_input('usuario: ')\n",
    "senha = raw_input('senha: ')\n",
    "\n",
    "if nome == senha:\n",
    "    raw_input('informe uma nova senha:')\n",
    "else:\n",
    "    pass\n"
   ]
  },
  {
   "cell_type": "markdown",
   "metadata": {},
   "source": [
    "### Supondo que a população de um país A seja da ordem de 80000 habitantes com uma taxa anual de crescimento de 3% e que a população de B seja 200000 habitantes com uma taxa de crescimento de 1.5%. Faça um programa que calcule e escreva o número de anos necessários para que a população do país A ultrapasse ou iguale a população do país B, mantidas as taxas de crescimento."
   ]
  },
  {
   "cell_type": "code",
   "execution_count": 16,
   "metadata": {},
   "outputs": [
    {
     "name": "stdout",
     "output_type": "stream",
     "text": [
      "\"A\" quantidade de habitantes: 80000\n",
      "\"A\"informe a taxa3\n",
      "\"B\" quantidade de habitantes: 200000\n",
      "\"B\"informe a taxa1.5\n",
      "1\n"
     ]
    }
   ],
   "source": [
    "habitantesA = int(input('\"A\" quantidade de habitantes: '))\n",
    "taxaA = int(input('\"A\"informe a taxa'))\n",
    "                           \n",
    "habitantesB = int(input('\"B\" quantidade de habitantes: '))\n",
    "taxaB = int(input('\"B\"informe a taxa'))                     \n",
    "\n",
    "while (resultadoA <= resultadoB):\n",
    "        ano = ano + 1\n",
    "    \n",
    "        resultadoA = habitantesA + (habitantesA * taxaA * 0.01)\n",
    "        resultadoB = habitantesB + (habitantesB * taxaB * 0.01)\n",
    "\n",
    "print()\n",
    "\n",
    "\n"
   ]
  },
  {
   "cell_type": "code",
   "execution_count": 1,
   "metadata": {},
   "outputs": [
    {
     "name": "stdout",
     "output_type": "stream",
     "text": [
      "Após 63 anos o país A ultrapassou o país B em número de habitantes.\n",
      "País A: 515033\n",
      "País B: 510964\n"
     ]
    }
   ],
   "source": [
    "popA, popB, anos = 80000, 200000, 0\n",
    "cresA, cresB = 0.03, 0.015 # Crescimentos de 3% e 1,5% ao ano\n",
    "while (popA < popB):\n",
    "    anos += 1\n",
    "    popA = popA + (popA * cresA)\n",
    "    popB = popB + (popB * cresB)\n",
    "print(\"Após %i anos o país A ultrapassou o país B em número de habitantes.\" % anos)\n",
    "print(\"País A: %.0f\" % popA)\n",
    "print(\"País B: %.0f\" % popB)"
   ]
  },
  {
   "cell_type": "markdown",
   "metadata": {},
   "source": [
    "### Faça um programa que leia 5 números e informe o maior número."
   ]
  },
  {
   "cell_type": "code",
   "execution_count": 21,
   "metadata": {},
   "outputs": [
    {
     "name": "stdout",
     "output_type": "stream",
     "text": [
      "informe um numero7\n",
      "informe um numero323\n",
      "informe um numero4\n",
      "informe um numero2\n",
      "informe um numero4\n",
      "o maior numero eh 323\n"
     ]
    }
   ],
   "source": [
    "m = None\n",
    "for i in range(0,5):\n",
    "    n = int(input('informe um numero'))\n",
    "    if m == None:\n",
    "        m = n\n",
    "    if n > m:\n",
    "        m = n\n",
    "print('o maior numero eh %d' % (m))"
   ]
  },
  {
   "cell_type": "markdown",
   "metadata": {},
   "source": [
    "### Faça um programa que leia 5 números e informe a soma e a média dos números."
   ]
  },
  {
   "cell_type": "code",
   "execution_count": 40,
   "metadata": {},
   "outputs": [
    {
     "name": "stdout",
     "output_type": "stream",
     "text": [
      "informe um numero: 3\n",
      "informe um numero: 4\n",
      "informe um numero: 4\n",
      "informe um numero: 4\n",
      "informe um numero: 4\n",
      "informe um numero: 4\n",
      "a soma dos numeros eh 23, e a media 5\n"
     ]
    }
   ],
   "source": [
    "o = 0\n",
    "contador = 0\n",
    "while contador <= 5:\n",
    "    num = int(input('informe um numero: '))\n",
    "    \n",
    "    o = o + num     \n",
    "    media = o / num\n",
    "    contador = contador + 1\n",
    "    \n",
    "\n",
    "\n",
    "print('a soma dos numeros eh %d, e a media %d' % (o, media))"
   ]
  },
  {
   "cell_type": "markdown",
   "metadata": {},
   "source": [
    "### Faça um programa que peça dois números, base e expoente, calcule e mostre o primeiro número elevado ao segundo número. Não utilize a função de potência da linguagem."
   ]
  },
  {
   "cell_type": "code",
   "execution_count": 6,
   "metadata": {},
   "outputs": [
    {
     "name": "stdout",
     "output_type": "stream",
     "text": [
      "informe uma base:2\n",
      "informe um expoente2\n",
      "4\n"
     ]
    }
   ],
   "source": [
    "base = int(input('informe uma base:'))\n",
    "expoente = int(input('informe um expoente'))\n",
    "\n",
    "contador = 0 \n",
    "acumulador = 1\n",
    "while contador < expoente:\n",
    "    acumulador = acumulador * base\n",
    "    \n",
    "    contador = contador + 1\n",
    "    \n",
    "print(acumulador)\n",
    "    "
   ]
  },
  {
   "cell_type": "markdown",
   "metadata": {},
   "source": [
    "### Faça um programa que, dado um conjunto de N números, determine o menor valor, o maior valor e a soma dos valores"
   ]
  },
  {
   "cell_type": "code",
   "execution_count": 25,
   "metadata": {},
   "outputs": [
    {
     "name": "stdout",
     "output_type": "stream",
     "text": [
      "informe um numero: 3\n",
      "informe um numero: 4\n",
      "informe um numero: 565\n",
      "informe um numero: 4\n",
      "informe um numero: 1\n",
      "informe um numero: 2\n",
      "informe um numero: 3\n",
      "informe um numero: 4\n",
      "informe um numero: 5\n",
      "informe um numero: 6\n",
      "o menor valor e 9, ja o maior 1, e a soma de todos os valores sao 597\n"
     ]
    }
   ],
   "source": [
    "k = None\n",
    "i = None\n",
    "\n",
    "soma = 0\n",
    "for i in range(0, 10):\n",
    "    nume = int(input('informe um numero: '))\n",
    "    soma = soma + nume\n",
    "    \n",
    "    if k == None:\n",
    "        k = nume\n",
    "        \n",
    "    if k > nume:\n",
    "        k = nume\n",
    "    if i == None:\n",
    "        i = nume\n",
    "    \n",
    "    if i < nume:\n",
    "        i = nume\n",
    "        \n",
    "print('o menor valor e %d, ja o maior %d, e a soma de todos os valores sao %d' % (i, k, soma))"
   ]
  },
  {
   "cell_type": "markdown",
   "metadata": {},
   "source": [
    "### Faça um programa de cálculo do fatorial, permitindo ao usuário calcular o fatorial várias vezes e limitando o fatorial a números inteiros positivos e menores que 16."
   ]
  },
  {
   "cell_type": "code",
   "execution_count": 36,
   "metadata": {},
   "outputs": [
    {
     "name": "stdout",
     "output_type": "stream",
     "text": [
      "informe um fatorial:17\n",
      "informe um numero acima de 0 e maior que 16: 3\n",
      "o fatorial do numero 3 eh 6\n"
     ]
    }
   ],
   "source": [
    "nm = int(input('informe um fatorial:'))\n",
    "\n",
    "if nm < 16 and nm > 0:\n",
    "    pass\n",
    "else:\n",
    "    nm = int(input('informe um numero acima de 0 e maior que 16: '))\n",
    "        \n",
    "fatorial = 1\n",
    "contador = 1\n",
    "while contador <= nm:\n",
    "    fatorial = fatorial * contador\n",
    "\n",
    "    \n",
    "    contador = contador + 1\n",
    "    \n",
    "print('o fatorial do numero %d eh %d' % (nm, fatorial))"
   ]
  },
  {
   "cell_type": "markdown",
   "metadata": {},
   "source": [
    "### Faça um programa que peça para n pessoas a sua idade, ao final o programa devera verificar se a média de idade da turma varia entre 0 e 25,26 e 60 e maior que 60; e então, dizer se a turma é jovem, adulta ou idosa, conforme a média calculada."
   ]
  },
  {
   "cell_type": "code",
   "execution_count": 12,
   "metadata": {},
   "outputs": [
    {
     "name": "stdout",
     "output_type": "stream",
     "text": [
      "informe sua idade45\n",
      "informe sua idade34\n",
      "informe sua idade23\n",
      "informe sua idade46\n",
      "informe sua idade87\n",
      "informe sua idade23\n",
      "informe sua idade34\n",
      "informe sua idade12\n",
      "informe sua idade14\n",
      "informe sua idade18\n",
      "turma adulta\n",
      "A media eh 33.000000 \n"
     ]
    }
   ],
   "source": [
    "soma = 0\n",
    "for i in range(0, 10):\n",
    "    n_pessoas = int(input('informe sua idade'))\n",
    "    soma = soma + n_pessoas\n",
    "    media = soma / 10\n",
    "    \n",
    "if (media > 0) & (media < 26):\n",
    "    print('turma jovem')\n",
    "if (media > 26) & (media < 60):\n",
    "    print('turma adulta')\n",
    "else:\n",
    "    print('turma idosa')\n",
    "        \n",
    "    \n",
    "print('A media eh %f '% (media))\n",
    "    "
   ]
  },
  {
   "cell_type": "markdown",
   "metadata": {},
   "source": [
    "# O cardápio de uma lanchonete é o seguinte:"
   ]
  },
  {
   "cell_type": "markdown",
   "metadata": {},
   "source": [
    "<pre>\n",
    "Especificação   Código  Preço\n",
    "Cachorro Quente 100     R$ 1,20\n",
    "Bauru Simples   101     R$ 1,30\n",
    "Bauru com ovo   102     R$ 1,50\n",
    "Hambúrguer      103     R$ 1,20\n",
    "Cheeseburguer   104     R$ 1,30\n",
    "Refrigerante    105     R$ 1,00\n",
    "</pre>"
   ]
  },
  {
   "cell_type": "markdown",
   "metadata": {},
   "source": [
    "<div style=\"text-align:justify\">\n",
    "Faça um programa que leia o código dos itens pedidos e as quantidades desejadas. Calcule e mostre o valor a ser pago por item (preço * quantidade) e o total geral do pedido. Considere que o cliente deve informar quando o pedido deve ser encerrado.\n",
    "</div>"
   ]
  },
  {
   "cell_type": "code",
   "execution_count": 14,
   "metadata": {},
   "outputs": [
    {
     "name": "stdout",
     "output_type": "stream",
     "text": [
      "informe o numero do seu pedido: 101\n",
      "qual a quantidade?: 3\n",
      "o item 101 custa 3.90\n",
      "informe o numero do seu pedido ou -1 para finalizar: 102\n",
      "qual a quantidade?: 2\n",
      "o item 102 custa 3.00\n",
      "informe o numero do seu pedido ou -1 para finalizar: -1\n",
      "o valor total de sua compra eh 6.90\n"
     ]
    }
   ],
   "source": [
    "\n",
    "\n",
    "cardapio = {\n",
    "    '100' : 1.20,\n",
    "    '101' : 1.30,\n",
    "    '102' : 1.50,\n",
    "    '103' : 1.20,\n",
    "    '104' : 1.30,\n",
    "    '105' : 1.00\n",
    "}\n",
    "\n",
    "\n",
    "\n",
    "pedido = raw_input('informe o numero do seu pedido: ')\n",
    "total = float(0)\n",
    "while pedido != '-1':\n",
    "    if pedido not in cardapio:\n",
    "        raise NameError ('esse item nao esta no cardapio')\n",
    "    else: \n",
    "        quantidade = int(input('qual a quantidade?: '))\n",
    "    \n",
    "        valor = cardapio[pedido] * quantidade\n",
    "        print('o item %s custa %.2f' % (pedido, valor))\n",
    "\n",
    "        total = total + valor\n",
    "        pedido = raw_input('informe o numero do seu pedido ou -1 para finalizar: ')\n",
    "\n",
    "\n",
    "print('o valor total de sua compra eh %.2f' % (total))"
   ]
  },
  {
   "cell_type": "code",
   "execution_count": 17,
   "metadata": {},
   "outputs": [
    {
     "data": {
      "text/plain": [
       "True"
      ]
     },
     "execution_count": 17,
     "metadata": {},
     "output_type": "execute_result"
    }
   ],
   "source": [
    "'103' not in cardapio"
   ]
  },
  {
   "cell_type": "code",
   "execution_count": 29,
   "metadata": {},
   "outputs": [
    {
     "name": "stdout",
     "output_type": "stream",
     "text": [
      "informe o numero do seu pedido: 102\n",
      "qual a quantidade?: 2\n",
      "o item Churrasco de cu Gourmet custa 51.20\n",
      "informe o numero do seu pedido ou -1 para finalizar: 101\n",
      "qual a quantidade?: 2\n",
      "o item Churrasco de cu custa 11.20\n",
      "informe o numero do seu pedido ou -1 para finalizar: -1\n",
      "o valor total de sua compra eh 62.40\n"
     ]
    }
   ],
   "source": [
    "\n",
    "\n",
    "cardapio = {\n",
    "    '100' : {'nome' : 'cachorro quente', 'valor' : 1.20},\n",
    "    '101' : {'nome' : 'Churrasco de cu', 'valor' :5.60},\n",
    "    '102' : {'nome' : 'Churrasco de cu Gourmet', 'valor': 25.60},\n",
    "    '103' : {'nome' : 'angu de bosta', 'valor': 15.00},\n",
    "    '104' : {'nome' : 'angu de bosta com lagostin', 'valor':25.00},\n",
    "    '105' : {'nome' : 'Chuva de prata', 'valor' : 9.50}\n",
    "}\n",
    "    \n",
    "\n",
    "\n",
    "\n",
    "pedido = raw_input('informe o numero do seu pedido: ')\n",
    "total = float(0)\n",
    "while pedido != '-1':\n",
    "    if pedido not in cardapio:\n",
    "        raise NameError ('esse item nao esta no cardapio')\n",
    "    else: \n",
    "        quantidade = int(input('qual a quantidade?: '))\n",
    "    \n",
    "        valor = cardapio[pedido]['valor'] * quantidade\n",
    "        print('o item %s custa %.2f' % (cardapio[pedido]['nome'], valor))\n",
    "        \n",
    "\n",
    "        total = total + valor\n",
    "        pedido = raw_input('informe o numero do seu pedido ou -1 para finalizar: ')\n",
    "\n",
    "\n",
    "print('o valor total de sua compra eh %.2f' % (total))"
   ]
  },
  {
   "cell_type": "code",
   "execution_count": 24,
   "metadata": {},
   "outputs": [
    {
     "name": "stdout",
     "output_type": "stream",
     "text": [
      "{'valor': 9.5, 'nome': 'Chuva de prata'}\n",
      "9.5\n",
      "Chuva de prata\n"
     ]
    }
   ],
   "source": [
    "print cardapio['105']\n",
    "\n",
    "print cardapio['105']['valor']\n",
    "print(cardapio)['105']['nome']"
   ]
  },
  {
   "cell_type": "markdown",
   "metadata": {},
   "source": [
    "###### O Sr. Manoel Joaquim expandiu seus negócios para além dos negócios de 1,99 e agora possui uma loja de conveniências. Faça um programa que implemente uma caixa registradora rudimentar. O programa deverá receber um número desconhecido de valores referentes aos preços das mercadorias. Um valor zero deve ser informado pelo operador para indicar o final da compra. O programa deve então mostrar o total da compra e perguntar o valor em dinheiro que o cliente forneceu, para então calcular e mostrar o valor do troco. Após esta operação, o programa deverá voltar ao ponto inicial, para registrar a próxima compra. A saída deve ser conforme o exemplo abaixo:"
   ]
  },
  {
   "cell_type": "markdown",
   "metadata": {},
   "source": [
    "<pre>\n",
    "Lojas Tabajara \n",
    "Produto 1: R$ 2.20\n",
    "Produto 2: R$ 5.80\n",
    "Produto 3: R$ 0\n",
    "Total: R$ 9.00\n",
    "Dinheiro: R$ 20.00\n",
    "Troco: R$ 11.00\n",
    "...\n",
    "</pre>"
   ]
  },
  {
   "cell_type": "code",
   "execution_count": 2,
   "metadata": {},
   "outputs": [
    {
     "name": "stdout",
     "output_type": "stream",
     "text": [
      "Produto: R$100\n",
      "Produto: R$34\n",
      "Produto: R$5\n",
      "Produto: R$0\n",
      "Total: 139.00\n",
      "dinheiro: R$ 50\n",
      "Mula, ce tah devendo =\\\n"
     ]
    }
   ],
   "source": [
    "total_compra = float(0)\n",
    "produto = float(input('Produto: R$'))\n",
    "\n",
    "while produto != 0:\n",
    "    total_compra = total_compra + produto\n",
    "    produto = float(input('Produto: R$'))\n",
    "    \n",
    "print('Total: %.2f' % (total_compra))\n",
    "pagamento = float(input('dinheiro: R$ '))    \n",
    "troco = pagamento - total_compra\n",
    "if troco >= 0:\n",
    "    print('troco: R$ %.2f' % (troco))\n",
    "else:\n",
    "    print('Mula, ce tah devendo =\\\\')"
   ]
  },
  {
   "cell_type": "markdown",
   "metadata": {},
   "source": [
    "### Um funcionário de uma empresa recebe aumento salarial anualmente: Sabe-se que:\n",
    "<pre>\n",
    "A - Esse funcionário foi contratado em 1995, com salário inicial de R$ 1.000,00;\n",
    "B - Em 1996 recebeu aumento de 1,5% sobre seu salário inicial;\n",
    "C - A partir de 1997 (inclusive), os aumentos salariais sempre correspondem ao dobro do percentual do ano anterior. \n",
    "</pre>\n",
    "Faça um programa que determine o salário atual desse funcionário. Após concluir isto, altere o programa permitindo que o usuário digite o salário inicial do funcionário."
   ]
  },
  {
   "cell_type": "code",
   "execution_count": 73,
   "metadata": {},
   "outputs": [
    {
     "name": "stdout",
     "output_type": "stream",
     "text": [
      "o salario atual sera 1241.158\n"
     ]
    }
   ],
   "source": [
    "\n",
    "salario = 1000\n",
    "percentual = float(1.5)\n",
    "sal1996 = float(salario + (salario * percentual * 0.01))\n",
    "sal_atual = sal1996\n",
    "\n",
    "ano = 0\n",
    "while ano < 3:\n",
    "    percentual = percentual * 2\n",
    "    sal_atual = sal_atual + (sal_atual * percentual * 0.01)\n",
    "    ano = ano + 1\n",
    "print('o salario atual sera %.3f' %(sal_atual))"
   ]
  },
  {
   "cell_type": "code",
   "execution_count": 72,
   "metadata": {},
   "outputs": [
    {
     "data": {
      "text/plain": [
       "1015.0"
      ]
     },
     "execution_count": 72,
     "metadata": {},
     "output_type": "execute_result"
    }
   ],
   "source": [
    "sal1996"
   ]
  },
  {
   "cell_type": "markdown",
   "metadata": {},
   "source": [
    "### Desenvolver um programa para verificar a nota do aluno em uma prova com 10 questões, o programa deve perguntar ao aluno a resposta de cada questão e ao final comparar com o gabarito da prova e assim calcular o total de acertos e a nota (atribuir 1 ponto por resposta certa). Após cada aluno utilizar o sistema deve ser feita uma pergunta se outro aluno vai utilizar o sistema. Após todos os alunos terem respondido informar:\n",
    "<pre>\n",
    "Maior e Menor Acerto;\n",
    "Total de Alunos que utilizaram o sistema;\n",
    "A Média das Notas da Turma.\n",
    "Gabarito da Prova:\n",
    "\n",
    "01 - A\n",
    "02 - B\n",
    "03 - C\n",
    "04 - D\n",
    "05 - E\n",
    "06 - E\n",
    "07 - D\n",
    "08 - C\n",
    "09 - B\n",
    "10 - A\n",
    "\n",
    "</pre>"
   ]
  },
  {
   "cell_type": "code",
   "execution_count": 29,
   "metadata": {
    "scrolled": true
   },
   "outputs": [
    {
     "name": "stdout",
     "output_type": "stream",
     "text": [
      "informe quant. de aluno:3\n",
      "informe sua resposta: 1a\n",
      "informe sua resposta: 2b\n",
      "informe sua resposta: 3c\n",
      "informe sua resposta: 4d\n",
      "informe sua resposta: 5f\n",
      "informe sua resposta: 6f\n",
      "informe sua resposta: 7f\n",
      "informe sua resposta: 8f\n",
      "informe sua resposta: 9f\n",
      "informe sua resposta: 10f\n",
      "informe sua resposta: 1a\n",
      "informe sua resposta: 2b\n",
      "informe sua resposta: 3c\n",
      "informe sua resposta: 4d\n",
      "informe sua resposta: 5e\n",
      "informe sua resposta: 6e\n",
      "informe sua resposta: 7f\n",
      "informe sua resposta: 8f\n",
      "informe sua resposta: 9f\n",
      "informe sua resposta: 10f\n",
      "informe sua resposta: 1a\n",
      "informe sua resposta: 2b\n",
      "informe sua resposta: 3c\n",
      "informe sua resposta: 4d\n",
      "informe sua resposta: 5e\n",
      "informe sua resposta: 6e\n",
      "informe sua resposta: 7e\n",
      "informe sua resposta: 8e\n",
      "informe sua resposta: 9e\n",
      "informe sua resposta: 10e\n",
      "a media da sala foi: 5\n",
      "a quantidade de acertos da sala foi 16\n",
      "a quantidade de erros da sala foi 14\n",
      "a quantidade de pessoas que usaram o sistema foi 3\n"
     ]
    }
   ],
   "source": [
    "gabarito = ['a', 'b', 'c', 'd', 'e', 'e', 'd', 'c', 'b', 'a']\n",
    "len(gabarito)\n",
    "positivo = 0\n",
    "negativo = 0 \n",
    "soma_notas = 0\n",
    "aluno = int(input('informe quant. de aluno:'))\n",
    "\n",
    "\n",
    "for a in range(aluno):\n",
    "    \n",
    "    contador = 0\n",
    "    while contador < len(gabarito):\n",
    "\n",
    "        nota = raw_input('informe sua resposta: %d' % (contador + 1))\n",
    "        if nota == gabarito[contador]:\n",
    "            positivo = positivo + 1\n",
    "        else:\n",
    "            negativo = negativo + 1\n",
    "        \n",
    "        media = positivo / aluno\n",
    "\n",
    "        contador = contador + 1\n",
    "       \n",
    "\n",
    "                \n",
    "print('a media da sala foi: %d' % (media))                      \n",
    "print('a quantidade de acertos da sala foi %d' % (positivo))\n",
    "print('a quantidade de erros da sala foi %d' % (negativo))\n",
    "print(('a quantidade de pessoas que usaram o sistema foi %d' % (aluno))  )"
   ]
  },
  {
   "cell_type": "markdown",
   "metadata": {},
   "source": [
    "### Desenvolva um programa que faça a tabuada de um número qualquer inteiro que será digitado pelo usuário, mas a tabuada não deve necessariamente iniciar em 1 e terminar em 10, o valor inicial e final devem ser informados também pelo usuário, conforme exemplo abaixo:"
   ]
  },
  {
   "cell_type": "markdown",
   "metadata": {},
   "source": [
    "<pre>\n",
    "Montar a tabuada de: 5\n",
    "Começar por: 4\n",
    "Terminar em: 7\n",
    "\n",
    "Vou montar a tabuada de 5 começando em 4 e terminando em 7:\n",
    "5 X 4 = 20\n",
    "5 X 5 = 25\n",
    "5 X 6 = 30\n",
    "5 X 7 = 35\n",
    "</pre>"
   ]
  },
  {
   "cell_type": "code",
   "execution_count": 68,
   "metadata": {},
   "outputs": [
    {
     "name": "stdout",
     "output_type": "stream",
     "text": [
      "Tabuada de: 3\n",
      "Entre com o inicio: 5\n",
      "Entre com o fim: 8\n",
      "3 x 5 = 15\n",
      "3 x 6 = 18\n",
      "3 x 7 = 21\n"
     ]
    }
   ],
   "source": [
    "n = int(input(\"Tabuada de: \")) \n",
    "inicio = int (input (\"Entre com o inicio: \")) \n",
    "fim = int (input (\"Entre com o fim: \")) \n",
    "\n",
    "for i in range(inicio, fim):\n",
    "    fim = fim + 1\n",
    "    \n",
    "    resultado = n * i\n",
    "    print (\"%d x %d = %d\" % (n, i, resultado))\n"
   ]
  },
  {
   "cell_type": "code",
   "execution_count": 183,
   "metadata": {},
   "outputs": [
    {
     "name": "stdout",
     "output_type": "stream",
     "text": [
      "tabuado do numero: 3\n",
      "informe o inicio: 4\n",
      "informe o fim: 7\n",
      "3 * 4 = 12\n",
      "3 * 5 = 15\n",
      "3 * 6 = 18\n",
      "3 * 7 = 21\n"
     ]
    }
   ],
   "source": [
    "n = int(input('tabuado do numero: '))\n",
    "c = int(input('informe o inicio: '))\n",
    "f = int(input('informe o fim: '))\n",
    "\n",
    "\n",
    "while c <= f:\n",
    "    \n",
    "    \n",
    "    resultado = n * c\n",
    "    print('%d * %d = %d' % (n, c, resultado))\n",
    "    c = c + 1\n",
    "\n",
    "    \n"
   ]
  },
  {
   "cell_type": "markdown",
   "metadata": {},
   "source": [
    "### Uma academia deseja fazer um senso entre seus clientes para descobrir o mais alto, o mais baixo, a mais gordo e o mais magro, para isto você deve fazer um programa que pergunte a cada um dos clientes da academia Seu código, sua altura e seu peso. O final da digitação de dados deve ser dada quando o usuário digitar 0 (zero) no campo código. Ao encerrar o programa também deve ser informados os códigos e valores do clente mais alto, do mais baixo, do mais gordo e do mais magro, além da média das alturas e dos pesos dos clientes"
   ]
  },
  {
   "cell_type": "code",
   "execution_count": 17,
   "metadata": {},
   "outputs": [
    {
     "name": "stdout",
     "output_type": "stream",
     "text": [
      "seu nome: tati\n",
      "sua altura: 1.62\n",
      "seu peso: 67\n",
      "seu nome: everton\n",
      "sua altura: 1.65\n",
      "seu peso: 76\n"
     ]
    }
   ],
   "source": [
    "dados = {\n",
    "    '102':{'nome:': raw_input('seu nome: '), 'altura' : float(input('sua altura: ')), 'peso' : float(input('seu peso: ')) },\n",
    "    '103':{'nome:': raw_input('seu nome: '), 'altura' : float(input('sua altura: ')), 'peso' : float(input('seu peso: ')) }\n",
    "}\n",
    "\n"
   ]
  },
  {
   "cell_type": "code",
   "execution_count": 37,
   "metadata": {},
   "outputs": [
    {
     "name": "stdout",
     "output_type": "stream",
     "text": [
      "67.0\n",
      "76.0\n"
     ]
    }
   ],
   "source": [
    "print(dados)['102']['peso']\n",
    "print(dados)['103']['peso']\n"
   ]
  },
  {
   "cell_type": "code",
   "execution_count": 52,
   "metadata": {},
   "outputs": [
    {
     "name": "stdout",
     "output_type": "stream",
     "text": [
      "o maior peso sera 76 do codigo\n"
     ]
    }
   ],
   "source": [
    "m = None\n",
    "    \n",
    "if m == None:\n",
    "    m = dados['102']['peso'] and dados['103']['peso']\n",
    "\n",
    "if m > dados['102']['peso'] and dados['103']['peso']:\n",
    "    m = dados['102']['peso'] and dados['103']['peso']\n",
    "    \n",
    "print('o maior peso sera %d do codigo' %(m))\n",
    "    "
   ]
  },
  {
   "cell_type": "code",
   "execution_count": 50,
   "metadata": {
    "scrolled": true
   },
   "outputs": [
    {
     "name": "stdout",
     "output_type": "stream",
     "text": [
      "seu peso60\n",
      "sua altura:1.62\n",
      "seu nometati\n",
      "seu peso0\n",
      "{1: {'nome': 'tati', 'altura': 1.62, 'peso': 60.0}, 2: {'nome': 'tati', 'altura': 1.62, 'peso': 60.0}}\n"
     ]
    }
   ],
   "source": [
    "d = {}\n",
    "while True:\n",
    "    peso = float(input('seu peso'))\n",
    "    if peso == 0:\n",
    "        break\n",
    "    altura = float(input('sua altura:'))\n",
    "    if altura == 0:\n",
    "        break\n",
    "    nome = raw_input('seu nome')\n",
    "    if nome == 0:\n",
    "        break\n",
    "    d.update({len(d)+1:{'peso':peso, 'altura':altura, 'nome':nome}, +2:{'peso':peso, 'altura':altura, 'nome':nome}})\n",
    "print d"
   ]
  },
  {
   "cell_type": "code",
   "execution_count": 69,
   "metadata": {},
   "outputs": [
    {
     "name": "stdout",
     "output_type": "stream",
     "text": [
      "seu nome: eliane\n",
      "seu peso: 62\n",
      "sua altura: 1.63\n"
     ]
    }
   ],
   "source": [
    "d[2]['nome'] = [raw_input('seu nome: ')]\n",
    "d[2]['peso'] = [float(input('seu peso: '))]\n",
    "d[2]['altura'] = [float(input('sua altura: '))]"
   ]
  },
  {
   "cell_type": "code",
   "execution_count": 70,
   "metadata": {},
   "outputs": [
    {
     "name": "stdout",
     "output_type": "stream",
     "text": [
      "{1: {'nome': 'tati', 'altura': 1.62, 'peso': 60.0}, 2: {'nome': ['eliane'], 'altura': [1.63], 'peso': [62.0]}}\n"
     ]
    }
   ],
   "source": [
    "print(d)"
   ]
  },
  {
   "cell_type": "code",
   "execution_count": 104,
   "metadata": {},
   "outputs": [
    {
     "name": "stdout",
     "output_type": "stream",
     "text": [
      "informe seu codigo: 100\n",
      "seu peso32\n",
      "sua altura:45.5\n",
      "seu nomelari\n",
      "informe seu codigo: 101\n",
      "seu peso54\n",
      "sua altura:54.6\n",
      "seu nometati\n",
      "informe seu codigo: 103\n",
      "seu peso456\n",
      "sua altura:65.4\n",
      "seu nomeeverton\n",
      "informe seu codigo: 104\n",
      "seu peso45.9\n",
      "sua altura:54\n",
      "seu nomesimeia\n",
      "informe seu codigo: 0\n",
      "{104: {'peso': 45.9, 'altura': 54.0, 'nome': 'simeia'}, 100: {'peso': 32.0, 'altura': 45.5, 'nome': 'lari'}, 101: {'peso': 54.0, 'altura': 54.6, 'nome': 'tati'}, 103: {'peso': 456.0, 'altura': 65.4, 'nome': 'everton'}}\n"
     ]
    }
   ],
   "source": [
    "a = {}\n",
    "contador = 0\n",
    "while contador <= a:\n",
    "    \n",
    "    codigo = int(input('informe seu codigo: '))\n",
    "    if codigo == 0:\n",
    "        break\n",
    "    peso = float(input('seu peso'))\n",
    "    if peso == 0:\n",
    "        break\n",
    "    altura = float(input('sua altura:'))\n",
    "    if altura == 0:\n",
    "        break\n",
    "    nome = raw_input('seu nome')\n",
    "    if nome == 0:\n",
    "        break\n",
    "        \n",
    "    contador = contador + 1\n",
    "    a.update({codigo:{'nome':nome, 'peso':peso, 'altura':altura}, codigo:{'nome':nome, 'peso':peso, 'altura':altura}})\n",
    "print a"
   ]
  },
  {
   "cell_type": "code",
   "execution_count": 144,
   "metadata": {},
   "outputs": [
    {
     "name": "stdout",
     "output_type": "stream",
     "text": [
      "4\n"
     ]
    }
   ],
   "source": [
    "c = 0\n",
    "while c < len(a):\n",
    "\n",
    "\n",
    "    c = c + 1\n",
    "print(c)"
   ]
  },
  {
   "cell_type": "code",
   "execution_count": 150,
   "metadata": {},
   "outputs": [
    {
     "name": "stdout",
     "output_type": "stream",
     "text": [
      "{104: {'peso': 45.9, 'altura': 54.0, 'nome': 'simeia'}, 100: {'peso': 32.0, 'altura': 45.5, 'nome': 'lari'}, 101: {'peso': 54.0, 'altura': 54.6, 'nome': 'tati'}, 103: {'peso': 456.0, 'altura': 65.4, 'nome': 'everton'}}\n"
     ]
    }
   ],
   "source": [
    "print(a)"
   ]
  },
  {
   "cell_type": "markdown",
   "metadata": {},
   "source": [
    "### Faca um programa que receba o valor de uma dívida e mostre uma tabela com os seguintes dados: valor da dívida, valor dos juros, quantidade de parcelas e valor da parcela.\n",
    "Os juros e a quantidade de parcelas seguem a tabela abaixo:\n",
    "<pre> Quantidade de Parcelas  % de Juros sobre o valor inicial da dívida\n",
    "1       0\n",
    "3       10\n",
    "6       15\n",
    "9       20\n",
    "12      25\n",
    "Exemplo de saída do programa:\n",
    "Valor da Dívida Valor dos Juros Quantidade de Parcelas  Valor da Parcela\n",
    "R$ 1.000,00     0               1                       R$  1.000,00\n",
    "R$ 1.100,00     100             3                       R$    366,00\n",
    "R$ 1.150,00     150             6                       R$    191,67\n",
    "</pre>"
   ]
  },
  {
   "cell_type": "code",
   "execution_count": 1,
   "metadata": {},
   "outputs": [
    {
     "name": "stdout",
     "output_type": "stream",
     "text": [
      "informe o valor da divida: 100\n",
      "informe a quantidade de parcelas: 3\n",
      "1\t10\n",
      "2\t20\n",
      "3\t30\n",
      "Valor da divida 110.0000, valor do juros 10.0000, quantidade de parcelas 3\n"
     ]
    }
   ],
   "source": [
    "parcela = [1,3,6,9,12]\n",
    "divida = float(input('informe o valor da divida: '))\n",
    "parcelas = int(input('informe a quantidade de parcelas: '))\n",
    "if parcelas == 1:\n",
    "    juros = 0\n",
    "if parcelas == 3:\n",
    "    juros = 10\n",
    "if parcelas == 6:\n",
    "    juros = 15\n",
    "if parcelas == 9:\n",
    "    juros = 20\n",
    "if parcelas == 12:\n",
    "    juros = 25\n",
    "    \n",
    "if parcelas not in parcela: \n",
    "    raise NameError (int(input('as condicoes de parcelamento sao em: 1, 3, 6, 9 e 12: ')))\n",
    "\n",
    "atual = divida + (divida * juros * 0.01)\n",
    "juro = atual - divida\n",
    "print '%d\\t%d' % (1, 10)\n",
    "print '%d\\t%d' % (2, 20)\n",
    "print '%d\\t%d' % (3, 30)\n",
    "print('Valor da divida %.4f, valor do juros %.4f, quantidade de parcelas %d' % (atual, juro, parcelas ))\n",
    "\n"
   ]
  },
  {
   "cell_type": "code",
   "execution_count": 13,
   "metadata": {},
   "outputs": [
    {
     "name": "stdout",
     "output_type": "stream",
     "text": [
      "valor da divida: 4564\n",
      "informe a quantidade de parcelas: 6\n",
      "Valor da divida 5248.60, valor do juros 684.60, quantidade de parcelas 6\n"
     ]
    }
   ],
   "source": [
    "m = {\n",
    "    1 : 0,\n",
    "    3 : 10,\n",
    "    6 : 15,\n",
    "    9 : 20,\n",
    "    12: 25\n",
    "}\n",
    "dividaa = int(input('valor da divida: '))\n",
    "parcelaa = int(input('informe a quantidade de parcelas: '))\n",
    "atuall = dividaa + (dividaa * m[parcelaa] * 0.01)\n",
    "juros = atuall - dividaa\n",
    "\n",
    "print('Valor da divida %.2f, valor do juros %.2f, quantidade de parcelas %d' % (atuall, juros, parcelaa ))\n"
   ]
  },
  {
   "cell_type": "code",
   "execution_count": 9,
   "metadata": {},
   "outputs": [
    {
     "data": {
      "text/plain": [
       "10"
      ]
     },
     "execution_count": 9,
     "metadata": {},
     "output_type": "execute_result"
    }
   ],
   "source": [
    "m['3']"
   ]
  },
  {
   "cell_type": "code",
   "execution_count": null,
   "metadata": {},
   "outputs": [],
   "source": []
  }
 ],
 "metadata": {
  "kernelspec": {
   "display_name": "Python 2",
   "language": "python",
   "name": "python2"
  },
  "language_info": {
   "codemirror_mode": {
    "name": "ipython",
    "version": 2
   },
   "file_extension": ".py",
   "mimetype": "text/x-python",
   "name": "python",
   "nbconvert_exporter": "python",
   "pygments_lexer": "ipython2",
   "version": "2.7.12"
  }
 },
 "nbformat": 4,
 "nbformat_minor": 2
}
