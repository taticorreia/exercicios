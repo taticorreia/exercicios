{
 "cells": [
  {
   "cell_type": "markdown",
   "metadata": {},
   "source": [
    "# Estruturas Condicionais - Parte 1"
   ]
  },
  {
   "cell_type": "markdown",
   "metadata": {},
   "source": [
    "### Variáveis de Entrada"
   ]
  },
  {
   "cell_type": "markdown",
   "metadata": {},
   "source": [
    "<div style=\"text-align:justify\">\n",
    "A seguir são declaradas as variáveis de entrada `a` e `b`. Altere o valor destas variáveis para testar novos comportamentos para o programa.\n",
    "</div>"
   ]
  },
  {
   "cell_type": "code",
   "execution_count": 1,
   "metadata": {},
   "outputs": [],
   "source": [
    "a = 10\n",
    "b = 15"
   ]
  },
  {
   "cell_type": "markdown",
   "metadata": {},
   "source": [
    "### Estrutura Condicional Simples"
   ]
  },
  {
   "cell_type": "markdown",
   "metadata": {},
   "source": [
    "<div style=\"text-align:justify\">\n",
    "O exemplo a seguir mostra um exemplo de estrutura condicional capaz de imprimir duas mensagens, de acordo com os valores de `a` e `b`. É importante notar que esse exemplo não considera a possibilidade das variáveis `a` e `b` terem valores iguais. Se os valores de `a` e `b` forem iguais, a mensagem exibida será incorreta.\n",
    "</div>"
   ]
  },
  {
   "cell_type": "code",
   "execution_count": 6,
   "metadata": {},
   "outputs": [
    {
     "name": "stdout",
     "output_type": "stream",
     "text": [
      "B é maior que A.\n"
     ]
    }
   ],
   "source": [
    "if a > b:\n",
    "    print('A é maior que B.')\n",
    "else:\n",
    "    print('B é maior que A.')"
   ]
  },
  {
   "cell_type": "markdown",
   "metadata": {},
   "source": [
    "### Estrutura Condicional Encadeada"
   ]
  },
  {
   "cell_type": "markdown",
   "metadata": {},
   "source": [
    "<div style=\"text-align:justify\">\n",
    "O exemplo a seguir mostra um exemplo de estrutura condicional encadeada, capaz de exibir a mensagem correta mesmo quando os valores de `a` e `b`são iguais. Note que nesse exemplo a estrutura `else` possuí uma nova estrutura condicional dentro dela, de modo que:\n",
    "</div>"
   ]
  },
  {
   "cell_type": "markdown",
   "metadata": {},
   "source": [
    "<pre>\n",
    "verifica se A é maior que B:\n",
    "    \"se chegar aqui é porque o valor A > B\"\n",
    "caso contrário:\n",
    "    \n",
    "    verifica se A é menor que B:\n",
    "        \"se chegar aqui é porque B > A\"\n",
    "    caso contrário:\n",
    "        \"os valores só podem ser iguais\"\n",
    "</pre>"
   ]
  },
  {
   "cell_type": "code",
   "execution_count": 8,
   "metadata": {},
   "outputs": [
    {
     "name": "stdout",
     "output_type": "stream",
     "text": [
      "B é maior que A.\n"
     ]
    }
   ],
   "source": [
    "if a > b:\n",
    "    print('A é maior que B.')\n",
    "else:\n",
    "    if a < b:\n",
    "        print('B é maior que A.')\n",
    "    else:\n",
    "        print(\"A e B são iguais.\")"
   ]
  },
  {
   "cell_type": "markdown",
   "metadata": {},
   "source": [
    "Uma simplificação desse exemplo pode ser feita com o `elif`. Veja:"
   ]
  },
  {
   "cell_type": "code",
   "execution_count": 5,
   "metadata": {},
   "outputs": [
    {
     "name": "stdout",
     "output_type": "stream",
     "text": [
      "B é maior que A.\n"
     ]
    }
   ],
   "source": [
    "if a > b:\n",
    "    print('A é maior que B.')\n",
    "elif a < b:\n",
    "    print('B é maior que A.')\n",
    "else:\n",
    "    print(\"A e B são iguais.\")"
   ]
  },
  {
   "cell_type": "markdown",
   "metadata": {},
   "source": [
    "### Exercícios"
   ]
  },
  {
   "cell_type": "markdown",
   "metadata": {},
   "source": [
    "> Altere os valores de `a`e `b` conforme abaixo e verifique o comportamento para cada par de valores:\n",
    "- `a = 10` e `b = 15`\n",
    "- `a = 15` e `b = 10`\n",
    "- `a = 10` e `b = 10`"
   ]
  },
  {
   "cell_type": "markdown",
   "metadata": {},
   "source": [
    "> Crie um novo notebook e refaça o mesmo exercício, mas do zero. Apenas para fixar!"
   ]
  },
  {
   "cell_type": "code",
   "execution_count": null,
   "metadata": {},
   "outputs": [],
   "source": [
    "\n",
    "\n"
   ]
  },
  {
   "cell_type": "code",
   "execution_count": null,
   "metadata": {},
   "outputs": [],
   "source": []
  }
 ],
 "metadata": {
  "kernelspec": {
   "display_name": "Python 2",
   "language": "python",
   "name": "python2"
  },
  "language_info": {
   "codemirror_mode": {
    "name": "ipython",
    "version": 2
   },
   "file_extension": ".py",
   "mimetype": "text/x-python",
   "name": "python",
   "nbconvert_exporter": "python",
   "pygments_lexer": "ipython2",
   "version": "2.7.12"
  }
 },
 "nbformat": 4,
 "nbformat_minor": 2
}
