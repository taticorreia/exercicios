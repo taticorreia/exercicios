{
 "cells": [
  {
   "cell_type": "code",
   "execution_count": 11,
   "metadata": {},
   "outputs": [
    {
     "name": "stdout",
     "output_type": "stream",
     "text": [
      "insira a:45\n",
      "insira b:67\n",
      "B maior que a\n"
     ]
    }
   ],
   "source": [
    "a = int(input('insira a:'))\n",
    "b = int(input('insira b:'))\n",
    "\n",
    "if a > b:\n",
    "    print('A maior que b')\n",
    "else:\n",
    "    print('B maior que a')\n",
    "    \n",
    "        "
   ]
  },
  {
   "cell_type": "code",
   "execution_count": 14,
   "metadata": {},
   "outputs": [
    {
     "name": "stdout",
     "output_type": "stream",
     "text": [
      " 1\n",
      "3\n",
      "5\n",
      "7\n",
      "9\n"
     ]
    }
   ],
   "source": [
    "contador = 1\n",
    "while contador <= 10:\n",
    "    print(contador)\n",
    "    contador = contador + 2"
   ]
  },
  {
   "cell_type": "code",
   "execution_count": 32,
   "metadata": {},
   "outputs": [
    {
     "name": "stdout",
     "output_type": "stream",
     "text": [
      "insira um numero: 1\n",
      "insira um numero: 2\n",
      "insira um numero: 3\n",
      "insira um numero: 4\n",
      "insira um numero: 5\n",
      "insira um numero: 6\n",
      "insira um numero: 7\n",
      "insira um numero: 8\n",
      "insira um numero: 10\n",
      "insira um numero: 11\n",
      "insira um numero: 12\n",
      "insira um numero: 13\n",
      "insira um numero: 14\n",
      "insira um numero: 15\n",
      "insira um numero: 16\n",
      "insira um numero: 17\n",
      " o maior numero 17\n"
     ]
    }
   ],
   "source": [
    "m = None\n",
    "\n",
    "contador = 1\n",
    "while contador <= 15:\n",
    "    n = int(input('insira um numero: '))\n",
    "    \n",
    "    if m == None:\n",
    "        m = n\n",
    "        \n",
    "    if n > m:\n",
    "        m = n\n",
    "        \n",
    "        contador = contador + 1\n",
    "        \n",
    "print(' o maior numero %d'% (m))"
   ]
  },
  {
   "cell_type": "code",
   "execution_count": 1,
   "metadata": {},
   "outputs": [
    {
     "name": "stdout",
     "output_type": "stream",
     "text": [
      "[1]\n",
      "[1, 2]\n",
      "[1, 2, 3]\n",
      "[1, 2, 3, 4]\n",
      "[1, 2, 3, 4, 5]\n",
      "[1, 2, 3, 4, 5, 6]\n",
      "[1, 2, 3, 4, 5, 6, 7]\n",
      "[1, 2, 3, 4, 5, 6, 7, 8]\n",
      "[1, 2, 3, 4, 5, 6, 7, 8, 9]\n",
      "[1, 2, 3, 4, 5, 6, 7, 8, 9, 10]\n"
     ]
    }
   ],
   "source": [
    "vetor = []\n",
    "contador = 1\n",
    "\n",
    "while contador <= 10:\n",
    "    vetor.append(contador)\n",
    "    contador = contador + 1\n",
    "    \n",
    "    print(vetor)"
   ]
  },
  {
   "cell_type": "markdown",
   "metadata": {},
   "source": []
  },
  {
   "cell_type": "code",
   "execution_count": 76,
   "metadata": {},
   "outputs": [
    {
     "name": "stdout",
     "output_type": "stream",
     "text": [
      "[1, 2, 3, 4, 5, 6, 7, 8, 9, 10]\n"
     ]
    }
   ],
   "source": [
    "vetor = []\n",
    "contador = 1\n",
    "\n",
    "while contador <= 10:\n",
    "    vetor.append(contador)\n",
    "    contador = contador + 1\n",
    "    \n",
    "print(vetor)"
   ]
  },
  {
   "cell_type": "code",
   "execution_count": 91,
   "metadata": {},
   "outputs": [
    {
     "name": "stdout",
     "output_type": "stream",
     "text": [
      "Informe um numero: 34\n",
      "Informe um numero: 23\n",
      "Informe um numero: 47\n",
      "Informe um numero: 59\n",
      "Informe um numero: 58\n",
      "Informe um numero: 33\n",
      "Informe um numero: 331\n",
      "Informe um numero: 45\n",
      "Informe um numero: 47\n",
      "Informe um numero: 48\n",
      "('Os numeros positivos sao:', [34, 58, 48])\n"
     ]
    }
   ],
   "source": [
    "vetor = [] \n",
    "\n",
    "contador = \n",
    "while contador <= 10:\n",
    "    num = int(input('Informe um numero: ')) \n",
    "    \n",
    "    if num % 2 == 0:\n",
    "        vetor.append(num) \n",
    "    \n",
    "    contador = contador + 1 \n",
    "\n",
    "print('Os numeros positivos sao:', vetor) "
   ]
  },
  {
   "cell_type": "markdown",
   "metadata": {},
   "source": [
    "### "
   ]
  },
  {
   "cell_type": "code",
   "execution_count": 141,
   "metadata": {},
   "outputs": [
    {
     "name": "stdout",
     "output_type": "stream",
     "text": [
      "insira um numero:7\n",
      "insira um numero:8\n",
      "insira um numero:13\n",
      "insira um numero:2\n",
      "('os numeros serao: ', [2, 8])\n"
     ]
    }
   ],
   "source": [
    "vetor = []\n",
    "contador = 1\n",
    "while contador <= 4:\n",
    "    num = int(input('insira um numero:'))\n",
    "    \n",
    "    if num % 2 == 0:\n",
    "        vetor.append(num)\n",
    "    \n",
    "    contador = contador +1\n",
    "    \n",
    "ord= sorted(vetor)    \n",
    "\n",
    "    \n",
    "print('os numeros serao: ', ord)"
   ]
  },
  {
   "cell_type": "code",
   "execution_count": 116,
   "metadata": {},
   "outputs": [
    {
     "name": "stdout",
     "output_type": "stream",
     "text": [
      "Fatorial de 5 é = 120.0\n"
     ]
    }
   ],
   "source": [
    "from math import factorial\n",
    "x = factorial (5)\n",
    "print('Fatorial de 5 é = %.1f' % (x))\n"
   ]
  },
  {
   "cell_type": "code",
   "execution_count": 124,
   "metadata": {},
   "outputs": [
    {
     "name": "stdout",
     "output_type": "stream",
     "text": [
      "insira um valor:6\n"
     ]
    },
    {
     "ename": "AttributeError",
     "evalue": "'int' object has no attribute 'append'",
     "output_type": "error",
     "traceback": [
      "\u001b[0;31m---------------------------------------------------------------------------\u001b[0m",
      "\u001b[0;31mAttributeError\u001b[0m                            Traceback (most recent call last)",
      "\u001b[0;32m<ipython-input-124-418694306a50>\u001b[0m in \u001b[0;36m<module>\u001b[0;34m()\u001b[0m\n\u001b[1;32m      6\u001b[0m \u001b[0;34m\u001b[0m\u001b[0m\n\u001b[1;32m      7\u001b[0m     \u001b[0;32mif\u001b[0m \u001b[0mnum\u001b[0m \u001b[0;34m>\u001b[0m \u001b[0;36m0\u001b[0m\u001b[0;34m:\u001b[0m\u001b[0;34m\u001b[0m\u001b[0m\n\u001b[0;32m----> 8\u001b[0;31m         \u001b[0mfactorial\u001b[0m\u001b[0;34m.\u001b[0m\u001b[0mappend\u001b[0m\u001b[0;34m(\u001b[0m\u001b[0mnum\u001b[0m\u001b[0;34m)\u001b[0m\u001b[0;34m\u001b[0m\u001b[0m\n\u001b[0m\u001b[1;32m      9\u001b[0m     \u001b[0mcontador\u001b[0m \u001b[0;34m=\u001b[0m \u001b[0;34m+\u001b[0m \u001b[0;36m1\u001b[0m\u001b[0;34m\u001b[0m\u001b[0m\n\u001b[1;32m     10\u001b[0m \u001b[0;34m\u001b[0m\u001b[0m\n",
      "\u001b[0;31mAttributeError\u001b[0m: 'int' object has no attribute 'append'"
     ]
    }
   ],
   "source": [
    "from math import factorial\n",
    "factorial = 0\n",
    "contador = 1\n",
    "while contador <= 10:\n",
    "    num = int(input('insira um valor:'))\n",
    "    \n",
    "    if num > 0:\n",
    "        factorial.append(num)\n",
    "    contador = + 1\n",
    "    \n",
    "print('Fatorial é = %.1f' % (0))"
   ]
  },
  {
   "cell_type": "code",
   "execution_count": 130,
   "metadata": {},
   "outputs": [
    {
     "name": "stdout",
     "output_type": "stream",
     "text": [
      "iforme um numero:5\n",
      "a soma acumulada e: 15\n"
     ]
    }
   ],
   "source": [
    "num = int(input('iforme um numero:'))\n",
    "contador = 1\n",
    "acumulador_soma = 0\n",
    "\n",
    "while contador <= num:\n",
    "    acumulador_soma = acumulador_soma + contador\n",
    "    contador = contador + 1\n",
    "    \n",
    "print('a soma acumulada e: %d' % (acumulador_soma))\n"
   ]
  },
  {
   "cell_type": "code",
   "execution_count": 1,
   "metadata": {},
   "outputs": [
    {
     "name": "stdout",
     "output_type": "stream",
     "text": [
      "iforme um numero:9\n",
      "o fatorial e: 362880\n"
     ]
    }
   ],
   "source": [
    "num = int(input('iforme um numero:'))\n",
    "contador = 1\n",
    "acumulador = 1\n",
    "\n",
    "while contador <= num:\n",
    "    acumulador = acumulador * contador\n",
    "    contador = contador + 1\n",
    "    \n",
    "print('o fatorial e: %d' % (acumulador))"
   ]
  },
  {
   "cell_type": "code",
   "execution_count": 137,
   "metadata": {},
   "outputs": [],
   "source": []
  },
  {
   "cell_type": "code",
   "execution_count": null,
   "metadata": {},
   "outputs": [],
   "source": []
  }
 ],
 "metadata": {
  "kernelspec": {
   "display_name": "Python 2",
   "language": "python",
   "name": "python2"
  },
  "language_info": {
   "codemirror_mode": {
    "name": "ipython",
    "version": 2
   },
   "file_extension": ".py",
   "mimetype": "text/x-python",
   "name": "python",
   "nbconvert_exporter": "python",
   "pygments_lexer": "ipython2",
   "version": "2.7.12"
  }
 },
 "nbformat": 4,
 "nbformat_minor": 2
}
