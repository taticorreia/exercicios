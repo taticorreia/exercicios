{
 "cells": [
  {
   "cell_type": "markdown",
   "metadata": {},
   "source": [
    "# Estrutura de Repetição While"
   ]
  },
  {
   "cell_type": "markdown",
   "metadata": {},
   "source": [
    "<div style=\"text-align:justify\">\n",
    "A estrutura de repetição <i>while</i> é utilizada para repetir um determinado conjunto de instruções (comandos), de modo a simplificar alguns soluções. Vejamos um exemplo:\n",
    "</div>"
   ]
  },
  {
   "cell_type": "markdown",
   "metadata": {},
   "source": [
    "## Exemplo 1"
   ]
  },
  {
   "cell_type": "markdown",
   "metadata": {},
   "source": [
    "<div style=\"text-align:justify\">\n",
    "Imagine uma situação onde seja necessário imprimir todos os número inteiros entre `1`e `10`. Como você faria? Uma forma bem simples de resolver esse problema seria:\n",
    "</div>"
   ]
  },
  {
   "cell_type": "code",
   "execution_count": 1,
   "metadata": {},
   "outputs": [
    {
     "name": "stdout",
     "output_type": "stream",
     "text": [
      "1\n",
      "2\n",
      "3\n",
      "4\n",
      "5\n",
      "6\n",
      "7\n",
      "8\n",
      "9\n",
      "10\n"
     ]
    }
   ],
   "source": [
    "print(1)\n",
    "print(2)\n",
    "print(3)\n",
    "print(4)\n",
    "print(5)\n",
    "print(6)\n",
    "print(7)\n",
    "print(8)\n",
    "print(9)\n",
    "print(10)"
   ]
  },
  {
   "cell_type": "markdown",
   "metadata": {},
   "source": [
    "<div style=\"text-align:justify\">\n",
    "Essa solução funciona, porém é muito trabalhosa e pouco eficiente. Não acha? Uma solução baseada em uma `estrutura de repetição` pode solucionar esse problema de uma forma mais fácil e eficiente. Veja:\n",
    "</div>"
   ]
  },
  {
   "cell_type": "code",
   "execution_count": 2,
   "metadata": {},
   "outputs": [
    {
     "name": "stdout",
     "output_type": "stream",
     "text": [
      "1\n",
      "2\n",
      "3\n",
      "4\n",
      "5\n",
      "6\n",
      "7\n",
      "8\n",
      "9\n",
      "10\n"
     ]
    }
   ],
   "source": [
    "contador = 1\n",
    "while contador <= 10:\n",
    "    print(contador)\n",
    "    contador = contador + 1"
   ]
  },
  {
   "cell_type": "markdown",
   "metadata": {},
   "source": [
    "Vamos observar algumas coisas importantes:\n",
    "- Toda estrutura de repetição precisa de uma condição de parada, caso contrário o algoritmo pode executar para sempre e nunca parar (até o computador travar).\n",
    "- A variável `contador` serve como condição de parada. Note que ela começa com o valor `1` e repete `enquanto contador for menor ou igual a 10`. Dentro da estrutura de loop (while) a variável `contador` tem seu valor incrementado `contador = contador + 1`, ou seja, contador recebe o valor que ele tem mais 1.\n",
    "- Esse incremento é necessário, caso contrário a variável `contador`nunca atigiria o valor `10`e o loop nunca terminaria.\n",
    "- A cada vez que o algoritmo passar pelo loop a variável `contador`tem seu valor incrementado em uma unidade, passando por todos os números entre 1 e 10."
   ]
  },
  {
   "cell_type": "markdown",
   "metadata": {},
   "source": [
    "### Teste"
   ]
  },
  {
   "cell_type": "markdown",
   "metadata": {},
   "source": [
    "- No exemplo acima, tente alterar o limite do loop de `10`para outro número qualquer. Veja o que acontece."
   ]
  },
  {
   "cell_type": "markdown",
   "metadata": {},
   "source": [
    "## Exemplo 2"
   ]
  },
  {
   "cell_type": "markdown",
   "metadata": {},
   "source": [
    "Será que conseguimos apresentar todos os números pares entre 1 e 10? É fácil modificar o programa acima para fazer isso. Veja:"
   ]
  },
  {
   "cell_type": "code",
   "execution_count": 3,
   "metadata": {},
   "outputs": [
    {
     "name": "stdout",
     "output_type": "stream",
     "text": [
      "2\n",
      "4\n",
      "6\n",
      "8\n",
      "10\n"
     ]
    }
   ],
   "source": [
    "contador = 2\n",
    "while contador <= 10:\n",
    "    print(contador)\n",
    "    contador = contador + 2"
   ]
  },
  {
   "cell_type": "markdown",
   "metadata": {},
   "source": [
    "Veja que mudamos duas coisas bem simples:\n",
    "- O contador inicia no menor número par\n",
    "- O incremento da variável acontece de duas em duas unidades `contador = contador + 2`"
   ]
  },
  {
   "cell_type": "markdown",
   "metadata": {},
   "source": [
    "### Teste"
   ]
  },
  {
   "cell_type": "markdown",
   "metadata": {},
   "source": [
    "- No exemplo acima, tente alterar o limite do loop de 10 para um número qualquer\n",
    "- Como poderíamos alterar o exemplo acima para imprimir os números ímpares?"
   ]
  },
  {
   "cell_type": "markdown",
   "metadata": {},
   "source": [
    "## Exemplo 3"
   ]
  },
  {
   "cell_type": "markdown",
   "metadata": {},
   "source": [
    "Conseguimos fazer um algoritmo que recebe 10 números inteiros e encontra o maior? Veja:\n",
    "\n",
    "**Execute aqui mesmo, o `input`vai funcionar!**"
   ]
  },
  {
   "cell_type": "code",
   "execution_count": 1,
   "metadata": {},
   "outputs": [
    {
     "name": "stdout",
     "output_type": "stream",
     "text": [
      "Informe um numero: 3\n",
      "Informe um numero: 5\n",
      "Informe um numero: 77\n",
      "Informe um numero: 5\n",
      "Informe um numero: 2\n",
      "Informe um numero: 4\n",
      "Informe um numero: 6\n",
      "Informe um numero: 8\n",
      "Informe um numero: 9\n",
      "Informe um numero: 1\n",
      "O maior numero digitado foi: 77\n"
     ]
    }
   ],
   "source": [
    "maior = None # variavel para armazenar o maior valor\n",
    "\n",
    "contador = 1 # contador e criterio de parada do loop\n",
    "while contador <= 10:\n",
    "    num = int(input('Informe um numero: ')) # le um numero a cada iteracao do loop\n",
    "    \n",
    "    if maior == None: # se a variavel maior for None, eh porque estamos na primeira execucao\n",
    "        maior = num # entao guarda o primeiro numero digitado na variavel maior\n",
    "    \n",
    "    if num > maior: # se o numero lido for maior que o numero guardado\n",
    "        maior = num # entao armazena o numero lido como sendo o maior\n",
    "    \n",
    "    contador = contador + 1 # incrementa o contador, caso contrario o loop nunca termina\n",
    "\n",
    "print('O maior numero digitado foi: %d' % (maior)) # fora do loop (recuamos o espaco) imprimimos o maior."
   ]
  },
  {
   "cell_type": "markdown",
   "metadata": {},
   "source": [
    "### Teste"
   ]
  },
  {
   "cell_type": "markdown",
   "metadata": {},
   "source": [
    "- Tente colocar o `print` dentro do loop e veja o que acontece.\n",
    "- Como faríamos para encontrar o maior entre 15 números?"
   ]
  },
  {
   "cell_type": "markdown",
   "metadata": {},
   "source": [
    "## Exemplo 4"
   ]
  },
  {
   "cell_type": "markdown",
   "metadata": {},
   "source": [
    "Que tal fazer um algoritmo que receba 10 numeros inteiros e guarde em um vetor somente os números positivos? Vamos testar:"
   ]
  },
  {
   "cell_type": "code",
   "execution_count": 5,
   "metadata": {},
   "outputs": [
    {
     "name": "stdout",
     "output_type": "stream",
     "text": [
      "Informe um numero: 6\n",
      "Informe um numero: 8\n",
      "Informe um numero: 13\n",
      "Informe um numero: -1\n",
      "('Os numeros positivos sao:  maior', [6, 8, 13])\n"
     ]
    }
   ],
   "source": [
    "vetor = [] # vetor vazio\n",
    "\n",
    "contador = 1 # contador e criterio de parada do loop\n",
    "while contador <= 4:\n",
    "    num = int(input('Informe um numero: ')) # le um numero a cada iteracao do loop\n",
    "    \n",
    "    if num > 0:\n",
    "        vetor.append(num) # adiciona o numero lido no vetor\n",
    "    \n",
    "    contador = contador + 1 # incrementa o contador, caso contrario o loop nunca termina\n",
    "\n",
    "print('Os numeros positivos sao:  maior', vetor) # fora do loop (recuamos o espaco) imprimimos o vetor."
   ]
  },
  {
   "cell_type": "markdown",
   "metadata": {},
   "source": [
    "### Teste"
   ]
  },
  {
   "cell_type": "markdown",
   "metadata": {},
   "source": [
    "- Como podemos modificar o exercicio anterior para imprimir o vetor de positivos ordenado?\n",
    "- Seria possível guardar no vetor somente os números pares? Como?"
   ]
  },
  {
   "cell_type": "code",
   "execution_count": 1,
   "metadata": {},
   "outputs": [
    {
     "name": "stdout",
     "output_type": "stream",
     "text": [
      "0\n",
      "1\n",
      "2\n",
      "3\n",
      "4\n",
      "5\n",
      "6\n",
      "7\n",
      "8\n",
      "9\n"
     ]
    }
   ],
   "source": [
    "for c in range(10):\n",
    "    print(c)"
   ]
  },
  {
   "cell_type": "code",
   "execution_count": 2,
   "metadata": {},
   "outputs": [
    {
     "name": "stdout",
     "output_type": "stream",
     "text": [
      "[1, 2, 3, 4, 5, 6, 7, 8, 9, 10]\n"
     ]
    }
   ],
   "source": [
    "print range(1, 11)"
   ]
  },
  {
   "cell_type": "code",
   "execution_count": null,
   "metadata": {},
   "outputs": [],
   "source": []
  }
 ],
 "metadata": {
  "kernelspec": {
   "display_name": "Python 2",
   "language": "python",
   "name": "python2"
  },
  "language_info": {
   "codemirror_mode": {
    "name": "ipython",
    "version": 2
   },
   "file_extension": ".py",
   "mimetype": "text/x-python",
   "name": "python",
   "nbconvert_exporter": "python",
   "pygments_lexer": "ipython2",
   "version": "2.7.12"
  }
 },
 "nbformat": 4,
 "nbformat_minor": 2
}
