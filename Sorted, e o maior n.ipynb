{
 "cells": [
  {
   "cell_type": "code",
   "execution_count": 3,
   "metadata": {},
   "outputs": [
    {
     "name": "stdout",
     "output_type": "stream",
     "text": [
      "Informe um numero: 56\n",
      "Informe um numero: 74\n",
      "Informe um numero: 76\n",
      "Informe um numero: 87\n",
      "Informe um numero: 89\n",
      "Informe um numero: 80\n",
      "Informe um numero: 98\n",
      "Informe um numero: 56\n",
      "Informe um numero: 45\n",
      "Informe um numero: 34\n",
      "Informe um numero: 52\n",
      "Informe um numero: 13\n",
      "Informe um numero: 43\n",
      "Informe um numero: 53\n",
      "Informe um numero: 647\n",
      "O maior numero digitado foi: 647\n"
     ]
    }
   ],
   "source": [
    "maior = None # variavel para armazenar o maior valor\n",
    "\n",
    "contador = 1 # contador e criterio de parada do loop\n",
    "while contador <= 15:\n",
    "    num = int(input('Informe um numero: ')) # le um numero a cada iteracao do loop\n",
    "    \n",
    "    if maior == None: # se a variavel maior for None, eh porque estamos na primeira execucao\n",
    "        maior = num # entao guarda o primeiro numero digitado na variavel maior\n",
    "    \n",
    "    if num > maior: # se o numero lido for maior que o numero guardado\n",
    "        maior = num # entao armazena o numero lido como sendo o maior\n",
    "    \n",
    "    contador = contador + 1 # incrementa o contador, caso contrario o loop nunca termina\n",
    "\n",
    "print('O maior numero digitado foi: %d' % (maior)) # fora do loop (recuamos o espaco) imprimimos o maior.\n",
    "        "
   ]
  },
  {
   "cell_type": "code",
   "execution_count": 15,
   "metadata": {},
   "outputs": [
    {
     "name": "stdout",
     "output_type": "stream",
     "text": [
      "('em ordem:', [1, 3, 8, 76])\n"
     ]
    }
   ],
   "source": [
    "l = [1, 76 ,3 ,8 ]\n",
    "ord = sorted(l)\n",
    "print('em ordem:',ord)"
   ]
  },
  {
   "cell_type": "code",
   "execution_count": null,
   "metadata": {},
   "outputs": [],
   "source": []
  }
 ],
 "metadata": {
  "kernelspec": {
   "display_name": "Python 2",
   "language": "python",
   "name": "python2"
  },
  "language_info": {
   "codemirror_mode": {
    "name": "ipython",
    "version": 2
   },
   "file_extension": ".py",
   "mimetype": "text/x-python",
   "name": "python",
   "nbconvert_exporter": "python",
   "pygments_lexer": "ipython2",
   "version": "2.7.12"
  }
 },
 "nbformat": 4,
 "nbformat_minor": 2
}
