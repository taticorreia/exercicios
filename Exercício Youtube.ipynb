{
 "cells": [
  {
   "cell_type": "code",
   "execution_count": 13,
   "metadata": {},
   "outputs": [
    {
     "name": "stdout",
     "output_type": "stream",
     "text": [
      "1\n",
      "2\n",
      "3\n",
      "4\n",
      "5\n",
      "6\n",
      "7\n",
      "8\n",
      "9\n",
      "10\n",
      "Te amo\n"
     ]
    }
   ],
   "source": [
    "for cont in range(1, 11):\n",
    "    from time import sleep\n",
    "    sleep(0.5)\n",
    "    \n",
    "\n",
    "    print(cont)\n",
    "print('Te amo')"
   ]
  },
  {
   "cell_type": "markdown",
   "metadata": {},
   "source": [
    "### Crie um programa que mostre na tela todos os números pares que estão no intervalo entre 1 e 50"
   ]
  },
  {
   "cell_type": "code",
   "execution_count": 28,
   "metadata": {},
   "outputs": [
    {
     "name": "stdout",
     "output_type": "stream",
     "text": [
      "[2, 4, 6, 8, 10, 12, 14, 16, 18, 20, 22, 24, 26, 28, 30, 32, 34, 36, 38, 40, 42, 44, 46, 48, 50]\n"
     ]
    }
   ],
   "source": [
    "n = []\n",
    "\n",
    "for cont in range(1, 51):\n",
    "    \n",
    "    if cont % 2 == 0:\n",
    "        n.append(cont)\n",
    "            \n",
    "print(n)"
   ]
  },
  {
   "cell_type": "markdown",
   "metadata": {},
   "source": [
    "### Faça um programa que calcule a soma entre todos os números ímpares que são múltiplos de três e que se encontram no intervalo de 1 até 500."
   ]
  },
  {
   "cell_type": "code",
   "execution_count": 67,
   "metadata": {},
   "outputs": [
    {
     "name": "stdout",
     "output_type": "stream",
     "text": [
      "20667\n"
     ]
    }
   ],
   "source": [
    "soma = 0\n",
    "for cont in range(1, 501, 2):\n",
    "    if cont % 3 == 0:\n",
    "        soma = soma + cont\n",
    "\n",
    "print(soma)\n",
    "        "
   ]
  },
  {
   "cell_type": "markdown",
   "metadata": {},
   "source": [
    "### Refaça o DESAFIO 009, mostrando a tabuada de um número queo usuário escolher, só que agora utilizando um laço for."
   ]
  },
  {
   "cell_type": "code",
   "execution_count": 90,
   "metadata": {},
   "outputs": [
    {
     "name": "stdout",
     "output_type": "stream",
     "text": [
      "insira um numero:4\n",
      "\n",
      "\n",
      "4 * 0 = 0\n",
      "\n",
      "\n",
      "4 * 1 = 4\n",
      "\n",
      "\n",
      "4 * 2 = 8\n",
      "\n",
      "\n",
      "4 * 3 = 12\n",
      "\n",
      "\n",
      "4 * 4 = 16\n",
      "\n",
      "\n",
      "4 * 5 = 20\n",
      "\n",
      "\n",
      "4 * 6 = 24\n",
      "\n",
      "\n",
      "4 * 7 = 28\n",
      "\n",
      "\n",
      "4 * 8 = 32\n",
      "\n",
      "\n",
      "4 * 9 = 36\n",
      "\n",
      "\n",
      "4 * 10 = 40\n"
     ]
    }
   ],
   "source": [
    "n = int(input('insira um numero:'))\n",
    "\n",
    "for tabuada in range(11):\n",
    "    print('\\n')\n",
    "       \n",
    "    resultado = n * tabuada\n",
    "        \n",
    "        \n",
    "    print('%d * %d = %d'% (n, tabuada, resultado))\n",
    "    \n",
    "\n",
    "    "
   ]
  },
  {
   "cell_type": "markdown",
   "metadata": {},
   "source": [
    "### Desenvolva um programa que leia seis números inteiros e mostre a soma apenas daqueles que forem pares. Se o valor digitado for ímpar, desconsidere-o."
   ]
  },
  {
   "cell_type": "code",
   "execution_count": null,
   "metadata": {},
   "outputs": [],
   "source": []
  }
 ],
 "metadata": {
  "kernelspec": {
   "display_name": "Python 2",
   "language": "python",
   "name": "python2"
  },
  "language_info": {
   "codemirror_mode": {
    "name": "ipython",
    "version": 2
   },
   "file_extension": ".py",
   "mimetype": "text/x-python",
   "name": "python",
   "nbconvert_exporter": "python",
   "pygments_lexer": "ipython2",
   "version": "2.7.12"
  }
 },
 "nbformat": 4,
 "nbformat_minor": 2
}
