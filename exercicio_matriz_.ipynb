{
 "cells": [
  {
   "cell_type": "markdown",
   "metadata": {},
   "source": [
    "\n",
    "http://www.galirows.com.br/meublog/programacao/exercicios-resolvidos-python/\n"
   ]
  },
  {
   "cell_type": "markdown",
   "metadata": {},
   "source": [
    "### Exercício 1: \n",
    "\n",
    "faça um algoritmo que solicite ao usuário números e os armazene em um vetor de 5 posições. Crie uma função que recebe o vetor preenchido e substitua todas as ocorrência de valores positivos por 1 e todos os valores negativos por 0."
   ]
  },
  {
   "cell_type": "code",
   "execution_count": 10,
   "metadata": {},
   "outputs": [
    {
     "name": "stdout",
     "output_type": "stream",
     "text": [
      "insira:5\n",
      "insira:7\n",
      "insira:-9\n",
      "insira:-8\n",
      "insira:4\n",
      "insira:2\n",
      "[1, 1, 0, 0, 1, 1]\n"
     ]
    }
   ],
   "source": [
    "m = []\n",
    "\n",
    "i = 0\n",
    "while i <= 5:\n",
    "    n = int(input('insira:'))\n",
    "    \n",
    "    \n",
    "    if n > 0:\n",
    "        n = 1\n",
    "    \n",
    "    if n < 0:\n",
    "        n = 0\n",
    "        \n",
    "    m.append(n)   \n",
    "\n",
    "    i = i + 1\n",
    "        \n",
    "print(m)"
   ]
  },
  {
   "cell_type": "markdown",
   "metadata": {},
   "source": [
    "### Exercício 2: \n",
    "crie uma função que retorne o valor da expressão: 2/3 + 3/5 + 4/7 + 5/9 + … + n/m, para um valor de n definido pelo usuário. Verifique se o valor de n definido pelo usuário é positivo e, caso não seja, solicite outro valor até ser fornecido um valor positivo."
   ]
  },
  {
   "cell_type": "code",
   "execution_count": 44,
   "metadata": {},
   "outputs": [
    {
     "name": "stdout",
     "output_type": "stream",
     "text": [
      "valor:3\n"
     ]
    },
    {
     "ename": "NameError",
     "evalue": "name 'linhas' is not defined",
     "output_type": "error",
     "traceback": [
      "\u001b[0;31m---------------------------------------------------------------------------\u001b[0m",
      "\u001b[0;31mNameError\u001b[0m                                 Traceback (most recent call last)",
      "\u001b[0;32m<ipython-input-44-f36e2c25e658>\u001b[0m in \u001b[0;36m<module>\u001b[0;34m()\u001b[0m\n\u001b[1;32m     13\u001b[0m \u001b[0mcoluna\u001b[0m \u001b[0;34m=\u001b[0m \u001b[0mlen\u001b[0m\u001b[0;34m(\u001b[0m\u001b[0mb\u001b[0m\u001b[0;34m[\u001b[0m\u001b[0;36m0\u001b[0m\u001b[0;34m]\u001b[0m\u001b[0;34m)\u001b[0m\u001b[0;34m\u001b[0m\u001b[0m\n\u001b[1;32m     14\u001b[0m \u001b[0;34m\u001b[0m\u001b[0m\n\u001b[0;32m---> 15\u001b[0;31m \u001b[0;32mwhile\u001b[0m \u001b[0mlinhas\u001b[0m \u001b[0;34m<=\u001b[0m \u001b[0mlinha\u001b[0m\u001b[0;34m:\u001b[0m\u001b[0;34m\u001b[0m\u001b[0m\n\u001b[0m\u001b[1;32m     16\u001b[0m     \u001b[0;32mwhile\u001b[0m \u001b[0mcolunas\u001b[0m \u001b[0;34m<=\u001b[0m \u001b[0mcoluna\u001b[0m\u001b[0;34m:\u001b[0m\u001b[0;34m\u001b[0m\u001b[0m\n\u001b[1;32m     17\u001b[0m \u001b[0;34m\u001b[0m\u001b[0m\n",
      "\u001b[0;31mNameError\u001b[0m: name 'linhas' is not defined"
     ]
    }
   ],
   "source": [
    "n = int(input('valor:'))\n",
    "\n",
    "for n in range(n < 0):\n",
    "    n = int(input('digite um valor positivo:'))\n",
    "\n",
    "\n",
    "b = [\n",
    "    [2, 3, 4, 5, n]\n",
    "    \n",
    "]\n",
    "\n",
    "c = [\n",
    "    [3, 5, 7, 9, 11]\n",
    "\n",
    "]\n",
    "\n",
    "            "
   ]
  },
  {
   "cell_type": "markdown",
   "metadata": {},
   "source": []
  },
  {
   "cell_type": "markdown",
   "metadata": {},
   "source": [
    "### Exercício 5\n",
    "faça um algoritmo que solicite ao usuário números e os armazene em uma matriz 2×2. Em seguida, crie um vetor que armazene os elementos da diagonal principal da matriz."
   ]
  },
  {
   "cell_type": "code",
   "execution_count": 1,
   "metadata": {},
   "outputs": [
    {
     "name": "stdout",
     "output_type": "stream",
     "text": [
      "valor:4\n",
      "valor:7\n",
      "valor:98\n",
      "valor:6\n",
      "[[4, 7], [98, 6]]\n"
     ]
    }
   ],
   "source": [
    "b = [\n",
    "    [0, 0],\n",
    "    [0, 0]\n",
    "]\n",
    "\n",
    "for i in range(0,2):\n",
    "    for j in range(0,2):\n",
    "        \n",
    "        b[i][j] = int(input('valor:'))\n",
    "        \n",
    "print(b)    "
   ]
  },
  {
   "cell_type": "code",
   "execution_count": 2,
   "metadata": {},
   "outputs": [
    {
     "data": {
      "text/plain": [
       "[[4, 7], [98, 6]]"
      ]
     },
     "execution_count": 2,
     "metadata": {},
     "output_type": "execute_result"
    }
   ],
   "source": [
    "b"
   ]
  },
  {
   "cell_type": "code",
   "execution_count": 10,
   "metadata": {},
   "outputs": [
    {
     "name": "stdout",
     "output_type": "stream",
     "text": [
      "[4, 6]\n"
     ]
    }
   ],
   "source": [
    "v = []\n",
    "\n",
    "for i in range(0,2): # esse loop vai iterar de 0 a 1, ou seja, 0 é a primeira linha e 1 é a segunda\n",
    "    for j in range(0,2): # esse loop vai iterar de 0 a 1, ou seja, 0 é a primeira coluna e 1 é a segunda\n",
    "        if i == j: # se o número da linha é igual ao número da coluna\n",
    "            v.append(b[i][j]) # adiciona o valor (linha e coluna) no vetor v\n",
    "            \n",
    "print(v)"
   ]
  },
  {
   "cell_type": "markdown",
   "metadata": {},
   "source": [
    "#### Exercício 7:\n",
    "tendo uma matriz 4x4 preenchida com valores aleatórios entre 10 e 50, mostre qual é o maior valor existente na matriz desconsiderando os elementos da diagonal principal."
   ]
  },
  {
   "cell_type": "code",
   "execution_count": 50,
   "metadata": {},
   "outputs": [
    {
     "name": "stdout",
     "output_type": "stream",
     "text": [
      "Informe um numero: 4567\n",
      "Informe um numero: 6\n",
      "Informe um numero: 8\n",
      "Informe um numero: 6\n",
      "Informe um numero: 4\n",
      "Informe um numero: 3\n",
      "Informe um numero: 2\n",
      "Informe um numero: 3435\n",
      "Informe um numero: 65\n",
      "Informe um numero: 7\n",
      "Informe um numero: 545\n",
      "Informe um numero: 675\n",
      "Informe um numero: 678\n",
      "Informe um numero: 86\n",
      "Informe um numero: 44\n",
      "Informe um numero: 34\n",
      "O maior numero é: 4567\n"
     ]
    }
   ],
   "source": [
    "m = None\n",
    "\n",
    "for i in range(0, 4):\n",
    "    for j in range(0, 4):\n",
    "        num = int(input('Informe um numero: '))\n",
    "        \n",
    "        if m == None:\n",
    "            m = num\n",
    "        \n",
    "        if (i != j) & (num > m):\n",
    "            m = num\n",
    "\n",
    "print('O maior numero é: %d' % (m))\n",
    "\n",
    "            "
   ]
  },
  {
   "cell_type": "code",
   "execution_count": 51,
   "metadata": {},
   "outputs": [
    {
     "name": "stdout",
     "output_type": "stream",
     "text": [
      "Informe um numero: 456\n",
      "Informe um numero: 534\n",
      "Informe um numero: 7\n",
      "Informe um numero: 56\n",
      "Informe um numero: 786\n",
      "Informe um numero: 54\n",
      "Informe um numero: 34\n",
      "Informe um numero: 4567\n",
      "Informe um numero: 45\n",
      "Informe um numero: 342\n",
      "Informe um numero: 346\n",
      "Informe um numero: 8\n",
      "Informe um numero: 5\n",
      "Informe um numero: 44\n",
      "Informe um numero: 8\n",
      "Informe um numero: 6\n",
      "O maior numero é: 4567\n",
      "('Matriz:', [[5, 44, 8, 6], [5, 44, 8, 6], [5, 44, 8, 6], [5, 44, 8, 6]])\n"
     ]
    }
   ],
   "source": [
    "m = None\n",
    "\n",
    "a = [[0] * 4] * 4 # declarando uma matriz 4x4 preenchida com zeros\n",
    "\n",
    "for i in range(0, 4):\n",
    "    for j in range(0, 4):\n",
    "        num = int(input('Informe um numero: '))\n",
    "        \n",
    "        a[i][j] = num\n",
    "        \n",
    "        if m == None:\n",
    "            m = num\n",
    "        \n",
    "        if (i != j) & (num > m):\n",
    "            m = num\n",
    "\n",
    "print('O maior numero é: %d' % (m))\n",
    "print('Matriz:', a)"
   ]
  },
  {
   "cell_type": "markdown",
   "metadata": {},
   "source": [
    "#### Exercício 8:\n",
    "tendo uma matriz 5×5 preenchida com valores aleatórios entre 0 e 99, mostre qual é o segundo maior valor existente na matriz."
   ]
  },
  {
   "cell_type": "code",
   "execution_count": 41,
   "metadata": {},
   "outputs": [
    {
     "name": "stdout",
     "output_type": "stream",
     "text": [
      "insira:345\n",
      "insira:346\n",
      "insira:1\n",
      "insira:1\n",
      "insira:1\n",
      "insira:1\n",
      "insira:1\n",
      "insira:1\n",
      "insira:1\n",
      "insira:1\n",
      "insira:1\n",
      "insira:1\n",
      "insira:1\n",
      "insira:1\n",
      "insira:1\n",
      "insira:1\n",
      "insira:1\n",
      "insira:1\n",
      "insira:1\n",
      "insira:1\n",
      "insira:1\n",
      "insira:1\n",
      "insira:1\n",
      "insira:1\n",
      "insira:1\n",
      "o maior valor eh 345\n"
     ]
    }
   ],
   "source": [
    "d = [[0] * 5] * 5\n",
    "\n",
    "m = None\n",
    "segundo_m = None\n",
    "\n",
    "import random\n",
    "\n",
    "for i in range(0, 5):\n",
    "    for j in range(0, 5):\n",
    "        \n",
    "        d[i][j] = int(input('insira:'))\n",
    "        \n",
    "        if m == None:\n",
    "            m = d[i][j]\n",
    "        \n",
    "        if d[i][j] > m:\n",
    "            m = d[i][j]\n",
    "            \n",
    "        if segundo_m == None:\n",
    "            segundo_m = d[i][j]\n",
    "            \n",
    "        if d[i][j] > segundo_m and d[i][j] != m:            \n",
    "            segundo_m = d[i][j]\n",
    "               \n",
    "print('o maior valor eh %d' % (segundo_m))"
   ]
  },
  {
   "cell_type": "markdown",
   "metadata": {},
   "source": [
    "# Exercício 9: \n",
    "crie um algoritmo que leia um valor e a partir disso faça: (1) se o valor for 1, 2 ou 3, mostre o valor elevado ao quadrado; (2) se o valor for o número 4 ou 9, mostre a raiz quadrada do número; (3) se for os valores 6, 7 e 8, mostre o valor dividido 9."
   ]
  },
  {
   "cell_type": "code",
   "execution_count": 88,
   "metadata": {},
   "outputs": [
    {
     "name": "stdout",
     "output_type": "stream",
     "text": [
      "informe um valor:6\n",
      "a divisao de 6 / 9 = 0.666667\n"
     ]
    }
   ],
   "source": [
    "import math\n",
    "n = int(input('informe um valor:')) \n",
    "\n",
    "if n == 1 or n == 2 or n== 3:\n",
    "    resultado = n*n\n",
    "    print('o valor de %d * %d = %d' % (n, n, resultado))\n",
    "    \n",
    "elif n == 4 or n == 9:\n",
    "    from math import sqrt\n",
    "    x = sqrt(n)\n",
    "    print('A raiz quadrada de %d =  %1.f' %(n, x))\n",
    "        \n",
    "elif n == 6  or n == 7 or n == 8:        \n",
    "    resultado = n / 9.0\n",
    "    print('a divisao de %d / 9 = %f'%(n, resultado) )\n",
    "       \n",
    "    "
   ]
  },
  {
   "cell_type": "markdown",
   "metadata": {},
   "source": [
    "#### Exercício 11:\n",
    "crie um algoritmo que leia um valor e a partir disso faça: (1) se o valor for 1 e 2, mostre o valor elevado ao cubo; (2) se o valor for múltiplo de 3 mostre o fatorial desse número; (3) se o valor for os valores 4, 5, 7 ou 8, mostre o valor dividido 9. Caso não seja nenhum dos valores, informe como “valor inválido”."
   ]
  },
  {
   "cell_type": "code",
   "execution_count": 121,
   "metadata": {},
   "outputs": [
    {
     "name": "stdout",
     "output_type": "stream",
     "text": [
      "informe um numero9\n",
      "o fatorial e: 362880\n"
     ]
    }
   ],
   "source": [
    "n = int(input('informe um numero'))\n",
    "\n",
    "if n == 1 or n == 2:\n",
    "    resultado = n*n*n\n",
    "    print('o valor de %d ao cubo sera = %f'% (n, resultado))\n",
    "    \n",
    "elif n >= 4 and n <= 8:\n",
    "    resultado = n / 9.0\n",
    "    print('o resultado de %d / 9 = %f' % (n, resultado))\n",
    "    \n",
    "elif n % 3 == 0:\n",
    "    \n",
    "    contador = 1\n",
    "    fatorial = 1\n",
    "\n",
    "    while contador <= n:\n",
    "        fatorial = fatorial * contador\n",
    "        contador = contador + 1\n",
    "\n",
    "    print('o fatorial e: %d' % (fatorial))\n",
    "    \n",
    "else:\n",
    "    print('valor invalido')"
   ]
  },
  {
   "cell_type": "code",
   "execution_count": 119,
   "metadata": {},
   "outputs": [
    {
     "ename": "SyntaxError",
     "evalue": "invalid syntax (<ipython-input-119-6cc30d96c4bd>, line 12)",
     "output_type": "error",
     "traceback": [
      "\u001b[0;36m  File \u001b[0;32m\"<ipython-input-119-6cc30d96c4bd>\"\u001b[0;36m, line \u001b[0;32m12\u001b[0m\n\u001b[0;31m    for i in range(n)\u001b[0m\n\u001b[0m                     ^\u001b[0m\n\u001b[0;31mSyntaxError\u001b[0m\u001b[0;31m:\u001b[0m invalid syntax\n"
     ]
    }
   ],
   "source": []
  },
  {
   "cell_type": "code",
   "execution_count": null,
   "metadata": {},
   "outputs": [],
   "source": []
  }
 ],
 "metadata": {
  "kernelspec": {
   "display_name": "Python 2",
   "language": "python",
   "name": "python2"
  },
  "language_info": {
   "codemirror_mode": {
    "name": "ipython",
    "version": 2
   },
   "file_extension": ".py",
   "mimetype": "text/x-python",
   "name": "python",
   "nbconvert_exporter": "python",
   "pygments_lexer": "ipython2",
   "version": "2.7.12"
  }
 },
 "nbformat": 4,
 "nbformat_minor": 2
}
