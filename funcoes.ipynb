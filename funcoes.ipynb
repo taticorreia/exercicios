{
 "cells": [
  {
   "cell_type": "markdown",
   "metadata": {},
   "source": [
    "# Funções / Métodos"
   ]
  },
  {
   "cell_type": "markdown",
   "metadata": {},
   "source": [
    "<div style=\"text-align:justify\">\n",
    "Função (ou Método) são formas de `encapsular` seu código e isolar o funcionamento em uma forma fechada. Dentre as principais vantagens em encapsular seu código, podemos destacar o reuso e a ocultação da complexidade envolvida no problema.\n",
    "</div>\n",
    "\n",
    "<b>Por exemplo</b>:<br>\n",
    "\n",
    "Uma função que calcule o fatorial de um número."
   ]
  },
  {
   "cell_type": "code",
   "execution_count": 7,
   "metadata": {},
   "outputs": [],
   "source": [
    "def calcular_fatorial(numero):\n",
    "\n",
    "    contador = 1\n",
    "    fatorial = 1\n",
    "    \n",
    "    while contador <= numero:\n",
    "        fatorial = fatorial * contador\n",
    "        contador = contador + 1\n",
    "\n",
    "    return fatorial"
   ]
  },
  {
   "cell_type": "markdown",
   "metadata": {},
   "source": [
    "Uma vez que a função está declarada, podemos utilizá-la.<br>\n",
    "\n",
    "<b>Veja um exemplo</b>:"
   ]
  },
  {
   "cell_type": "code",
   "execution_count": 9,
   "metadata": {},
   "outputs": [
    {
     "name": "stdout",
     "output_type": "stream",
     "text": [
      "Informe um numero: 5\n",
      "O fatorial de 5 é: 120\n"
     ]
    }
   ],
   "source": [
    "num = int(input('Informe um numero: '))\n",
    "resultado = calcular_fatorial(num)\n",
    "print('O fatorial de %d é: %d' % (num, resultado))"
   ]
  },
  {
   "cell_type": "markdown",
   "metadata": {},
   "source": [
    "Uma função pode receber 1 ou mais parâmetros. Não existem limites para o número de parâmetros recebidos ou retornados.<br>\n",
    "\n",
    "<b>Por exemplo</b>:"
   ]
  },
  {
   "cell_type": "code",
   "execution_count": 12,
   "metadata": {},
   "outputs": [],
   "source": [
    "def soma(a, b):\n",
    "    resultado = a + b\n",
    "    return resultado"
   ]
  },
  {
   "cell_type": "code",
   "execution_count": 13,
   "metadata": {},
   "outputs": [
    {
     "data": {
      "text/plain": [
       "25"
      ]
     },
     "execution_count": 13,
     "metadata": {},
     "output_type": "execute_result"
    }
   ],
   "source": [
    "soma(10, 15)"
   ]
  },
  {
   "cell_type": "code",
   "execution_count": null,
   "metadata": {},
   "outputs": [],
   "source": []
  }
 ],
 "metadata": {
  "kernelspec": {
   "display_name": "Python 2",
   "language": "python",
   "name": "python2"
  },
  "language_info": {
   "codemirror_mode": {
    "name": "ipython",
    "version": 2
   },
   "file_extension": ".py",
   "mimetype": "text/x-python",
   "name": "python",
   "nbconvert_exporter": "python",
   "pygments_lexer": "ipython2",
   "version": "2.7.12"
  }
 },
 "nbformat": 4,
 "nbformat_minor": 2
}
