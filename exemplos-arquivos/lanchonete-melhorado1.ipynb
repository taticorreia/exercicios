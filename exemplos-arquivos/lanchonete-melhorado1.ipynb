{
 "cells": [
  {
   "cell_type": "markdown",
   "metadata": {},
   "source": [
    "## Resolução\n",
    "\n",
    "A seguir, a resolução do exercício da lanchonete:"
   ]
  },
  {
   "cell_type": "code",
   "execution_count": 3,
   "metadata": {},
   "outputs": [
    {
     "name": "stdout",
     "output_type": "stream",
     "text": [
      "Informe o codigo do item ou -1 para sair: 100\n",
      "Informe a quantidade de Cachorro quente: 2\n",
      "Cachorro quente: R$ 2.40\n",
      "Informe o codigo do item ou -1 para sair: 105\n",
      "Informe a quantidade de Refrigerante: 1\n",
      "Refrigerante: R$ 1.00\n",
      "Informe o codigo do item ou -1 para sair: -1\n",
      "O total da sua conta e: R$ 3.40\n"
     ]
    }
   ],
   "source": [
    "# cardapio\n",
    "cardapio = {\n",
    "    '100': {'nome': 'Cachorro quente', 'valor': 1.20},\n",
    "    '101': {'nome': 'Bauru simples', 'valor': 1.30},\n",
    "    '102': {'nome': 'Bauru com ovo', 'valor': 1.50},\n",
    "    '103': {'nome': 'Hamburguer', 'valor': 1.20},\n",
    "    '104': {'nome': 'Cheeseburguer', 'valor': 1.30},\n",
    "    '105': {'nome': 'Refrigerante', 'valor': 1.00}\n",
    "}\n",
    "\n",
    "codigo_item = str(input('Informe o codigo do item ou -1 para sair: '))\n",
    "total_geral = float(0)\n",
    "\n",
    "while codigo_item != '-1':\n",
    "    if codigo_item not in cardapio:\n",
    "        raise NameError('O item informado nao existe no cardapio. Reinicie a operacao.')\n",
    "    else:\n",
    "        qtde = int(input('Informe a quantidade de %s: ' % (cardapio[codigo_item]['nome']))) # mudei aqui\n",
    "        \n",
    "        valor_item = cardapio[codigo_item]['valor'] * qtde # mudei aqui\n",
    "        print('%s: R$ %.2f' % (cardapio[codigo_item]['nome'], valor_item)) # mudei aqui\n",
    "        total_geral = total_geral + valor_item\n",
    "        \n",
    "        codigo_item = str(input('Informe o codigo do item ou -1 para sair: '))\n",
    "\n",
    "# quando o loop terminar (depois do usuário digitar -1) mostra a quantidade de itens\n",
    "print('O total da sua conta e: R$ %.2f' % (total_geral))"
   ]
  },
  {
   "cell_type": "code",
   "execution_count": 8,
   "metadata": {},
   "outputs": [
    {
     "name": "stdout",
     "output_type": "stream",
     "text": [
      "Item:  {'valor': 1.2, 'nome': 'Hamburguer'}\n",
      "Nome: Hamburguer Valor R$ 1.20\n"
     ]
    }
   ],
   "source": [
    "item = cardapio['103']\n",
    "print 'Item: ', item\n",
    "print 'Nome: %s Valor R$ %.2f' % (item['nome'], item['valor'])"
   ]
  },
  {
   "cell_type": "code",
   "execution_count": null,
   "metadata": {},
   "outputs": [],
   "source": []
  }
 ],
 "metadata": {
  "kernelspec": {
   "display_name": "Python 2",
   "language": "python",
   "name": "python2"
  },
  "language_info": {
   "codemirror_mode": {
    "name": "ipython",
    "version": 2
   },
   "file_extension": ".py",
   "mimetype": "text/x-python",
   "name": "python",
   "nbconvert_exporter": "python",
   "pygments_lexer": "ipython2",
   "version": "2.7.12"
  }
 },
 "nbformat": 4,
 "nbformat_minor": 2
}
