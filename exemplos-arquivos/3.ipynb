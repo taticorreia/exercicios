{
 "cells": [
  {
   "cell_type": "markdown",
   "metadata": {},
   "source": [
    "\n",
    "### Usando o arquivo texto estudantes.text escreva um programa que calcula a nota mínima e máxima de cada estudante e imprima o nome de cada aluno junto com a suam notá máxima e mínima.\n"
   ]
  },
  {
   "cell_type": "code",
   "execution_count": 1,
   "metadata": {},
   "outputs": [
    {
     "name": "stdout",
     "output_type": "stream",
     "text": [
      "Aluno: jose, suas notas ['5', '3', '20\\n'], sua maior nota foi: 5\n",
      "Aluno: pedro, suas notas ['1', '3'], sua maior nota foi: 3\n",
      "Aluno: suzana, suas notas ['10', '9', '8\\n'], sua maior nota foi: 9\n",
      "Aluno: gisela, suas notas ['7', '5'], sua maior nota foi: 7\n",
      "Aluno: joao, suas notas ['10', '3', '1'], sua maior nota foi: 3\n"
     ]
    }
   ],
   "source": [
    "def m(notas):\n",
    "    v = []\n",
    "    for i in notas:\n",
    "        if int(i) > 0:\n",
    "            v.append(i)\n",
    "    return v\n",
    "\n",
    "def maior(notas):\n",
    "    m = None\n",
    "    for posicao in range(len(notas)):\n",
    "\n",
    "        if m == None:\n",
    "            m = notas[posicao]\n",
    "\n",
    "        if notas[posicao] > m:\n",
    "            m = notas[posicao]\n",
    "\n",
    "    return int(m)\n",
    "    \n",
    "\n",
    "arq = open('estudantes.txt','r')\n",
    "for r in arq:\n",
    "    nome, n1, n2, n3 = r.split(';')\n",
    "    notas = m([n1, n2, n3])\n",
    "    \n",
    "    maior_nota = maior(notas)\n",
    "    \n",
    "    print 'Aluno: %s, suas notas %s, sua maior nota foi: %d' % (nome, notas, maior_nota)"
   ]
  },
  {
   "cell_type": "code",
   "execution_count": 2,
   "metadata": {},
   "outputs": [
    {
     "name": "stdout",
     "output_type": "stream",
     "text": [
      "54\n"
     ]
    }
   ],
   "source": [
    "def maior(notas):\n",
    "    m = None\n",
    "    for posicao in range(len(notas)):\n",
    "\n",
    "        if m == None:\n",
    "            m = notas[posicao]\n",
    "\n",
    "        if notas[posicao] > m:\n",
    "            m = notas[posicao]\n",
    "\n",
    "    return m\n",
    "\n",
    "n = [1,54,2]\n",
    "maior = maior(n)\n",
    "print(maior)\n"
   ]
  },
  {
   "cell_type": "code",
   "execution_count": null,
   "metadata": {},
   "outputs": [],
   "source": []
  }
 ],
 "metadata": {
  "kernelspec": {
   "display_name": "Python 2",
   "language": "python",
   "name": "python2"
  },
  "language_info": {
   "codemirror_mode": {
    "name": "ipython",
    "version": 2
   },
   "file_extension": ".py",
   "mimetype": "text/x-python",
   "name": "python",
   "nbconvert_exporter": "python",
   "pygments_lexer": "ipython2",
   "version": "2.7.12"
  }
 },
 "nbformat": 4,
 "nbformat_minor": 2
}
