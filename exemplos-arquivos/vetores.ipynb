{
 "cells": [
  {
   "cell_type": "code",
   "execution_count": 11,
   "metadata": {},
   "outputs": [],
   "source": [
    "# funcao que compara dois vetores\n",
    "def comparar(v1, v2):\n",
    "    iguais = True # variavel de tipo booleano (verdadeiro ou falso)\n",
    "    p = 0 # indicador de posicao do vetor\n",
    "    if len(v1) == len(v2): # se os vetores tem o mesmo tamanho\n",
    "        while p < len(v1):\n",
    "            if v1[p] != v2[p]: # testa cada posicao do vetor, se for diferente atribui falso para variavel\n",
    "                iguais = False # variavel que indica se os vetores sao iguais\n",
    "                break # para o loop pq ja sabe que nao sao iguais.\n",
    "                \n",
    "            p = p + 1 # incrementa posicao do contador\n",
    "    else:\n",
    "        iguais = False\n",
    "    \n",
    "    return iguais # retornando resultado"
   ]
  },
  {
   "cell_type": "code",
   "execution_count": 12,
   "metadata": {},
   "outputs": [
    {
     "name": "stdout",
     "output_type": "stream",
     "text": [
      "Iguais\n"
     ]
    }
   ],
   "source": [
    "# teste 1\n",
    "v1 = [10, 20, 30]\n",
    "v2 = [10, 20, 30]\n",
    "resultado = comparar(v1, v2)\n",
    "if resultado:\n",
    "    print('Iguais')\n",
    "else:\n",
    "    print('Diferentes')"
   ]
  },
  {
   "cell_type": "code",
   "execution_count": 13,
   "metadata": {},
   "outputs": [
    {
     "name": "stdout",
     "output_type": "stream",
     "text": [
      "Diferentes\n"
     ]
    }
   ],
   "source": [
    "# teste 2\n",
    "v1 = [10, 20, 30]\n",
    "v2 = [20, 20, 40]\n",
    "resultado = comparar(v1, v2)\n",
    "if resultado:\n",
    "    print('Iguais')\n",
    "else:\n",
    "    print('Diferentes')"
   ]
  },
  {
   "cell_type": "code",
   "execution_count": 14,
   "metadata": {},
   "outputs": [
    {
     "name": "stdout",
     "output_type": "stream",
     "text": [
      "Diferentes\n"
     ]
    }
   ],
   "source": [
    "# teste 1\n",
    "v1 = [10, 20, 30, 50]\n",
    "v2 = [10, 20, 30]\n",
    "resultado = comparar(v1, v2)\n",
    "if resultado:\n",
    "    print('Iguais')\n",
    "else:\n",
    "    print('Diferentes')"
   ]
  },
  {
   "cell_type": "code",
   "execution_count": null,
   "metadata": {},
   "outputs": [],
   "source": []
  }
 ],
 "metadata": {
  "kernelspec": {
   "display_name": "Python 2",
   "language": "python",
   "name": "python2"
  },
  "language_info": {
   "codemirror_mode": {
    "name": "ipython",
    "version": 2
   },
   "file_extension": ".py",
   "mimetype": "text/x-python",
   "name": "python",
   "nbconvert_exporter": "python",
   "pygments_lexer": "ipython2",
   "version": "2.7.12"
  }
 },
 "nbformat": 4,
 "nbformat_minor": 2
}
