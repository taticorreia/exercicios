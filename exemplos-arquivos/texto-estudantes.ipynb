{
 "cells": [
  {
   "cell_type": "markdown",
   "metadata": {},
   "source": [
    "https://panda.ime.usp.br/pensepy/static/pensepy/10-Arquivos/files.html"
   ]
  },
  {
   "cell_type": "markdown",
   "metadata": {},
   "source": [
    "## Usando o arquivo texto notas_estudantes.dat escreva um programa que imprime o nome dos alunos que têm mais de 3 notas."
   ]
  },
  {
   "cell_type": "code",
   "execution_count": 54,
   "metadata": {},
   "outputs": [
    {
     "name": "stdout",
     "output_type": "stream",
     "text": [
      "{'jose': ['5', '3', '20\\n'], 'suzana': ['10', '9', '8\\n'], 'pedro': ['1', '3'], 'gisela': ['7', '5'], 'joao': ['10', '3', '1']}\n",
      "Os alunos com notas iguais a 3 são:\n",
      "jose\n",
      "suzana\n",
      "joao\n"
     ]
    }
   ],
   "source": [
    "def criar_vetor(notas):\n",
    "    vetor = []\n",
    "    for k in notas:\n",
    "        if int(k) > 0:\n",
    "            vetor.append(k)\n",
    "    \n",
    "    return vetor\n",
    "\n",
    "dados = {}\n",
    "arquivo = open('notas.txt','r')\n",
    "for i in arquivo:\n",
    "    nome, n1, n2, n3 = i.split(';')\n",
    "    notas_validas = criar_vetor([n1, n2, n3])\n",
    "    dados[nome] = notas_validas\n",
    "print(dados)\n",
    "\n",
    "print('Os alunos com notas iguais a 3 são:')\n",
    "for t in dados.keys():\n",
    "    quantidade = len(dados[t])\n",
    "    if quantidade == 3:\n",
    "        print('%s' % (t))\n"
   ]
  },
  {
   "cell_type": "code",
   "execution_count": 55,
   "metadata": {},
   "outputs": [
    {
     "name": "stdout",
     "output_type": "stream",
     "text": [
      "[1, 2, 4]\n"
     ]
    }
   ],
   "source": [
    "r = []\n",
    "i = 0, 1, 2, 4, 0\n",
    "for k in i:\n",
    "    if k > 0:\n",
    "        r.append(k)\n",
    "    \n",
    "print r"
   ]
  },
  {
   "cell_type": "code",
   "execution_count": 83,
   "metadata": {},
   "outputs": [
    {
     "name": "stdout",
     "output_type": "stream",
     "text": [
      "{'jose': ['5', '3', '20\\n'], 'suzana': ['10', '9', '8\\n'], 'pedro': ['1', '3'], 'gisela': ['7', '5'], 'joao': ['10', '3', '1']}\n",
      "A quantidade de alunos com 3 notas sao:\n",
      "aluno: jose\n",
      "aluno: suzana\n",
      "aluno: joao\n"
     ]
    }
   ],
   "source": [
    "def selecionador(notas):\n",
    "    v = []\n",
    "    for i in notas:\n",
    "        if int(i) > 0:\n",
    "            v.append(i)\n",
    "    return v\n",
    "\n",
    "nota = {}\n",
    "arq = open('estudantes.txt','r')\n",
    "for r in arq:\n",
    "    nome, n1, n2, n3 = r.split(';')\n",
    "    notas = selecionador([n1, n2, n3])\n",
    "    nota[nome] = notas\n",
    "    \n",
    "print(nota)\n",
    "print('A quantidade de alunos com 3 notas sao:')\n",
    "for l in nota.keys():\n",
    "    quantidade = len(nota[l])\n",
    "    if quantidade == 3:\n",
    "        print('aluno: %s' % (l))"
   ]
  },
  {
   "cell_type": "markdown",
   "metadata": {},
   "source": [
    "### Usando o arquivo texto estudantes.txt escreva um programa que calcula a média das notas de cada estudante e imprime o nome e a média de cada estudante."
   ]
  },
  {
   "cell_type": "code",
   "execution_count": 26,
   "metadata": {},
   "outputs": [
    {
     "name": "stdout",
     "output_type": "stream",
     "text": [
      "{'jose': None, 'suzana': None, 'pedro': None, 'gisela': None, 'joao': None}\n"
     ]
    }
   ],
   "source": [
    "def m(notas):\n",
    "    c = []\n",
    "    for y in notas:\n",
    "        if notas > 0:\n",
    "            c.append(y)\n",
    "            \n",
    "    \n",
    "historico = {}\n",
    "abrir = open('estudantes.txt','r')\n",
    "for i in abrir:\n",
    "    nome, n1, n2, n3 = i.split(';')\n",
    "    notas = m([n1, n2, n3])\n",
    "    historico[nome] = notas\n",
    "\n",
    "\n",
    "\n",
    "print(historico)\n"
   ]
  },
  {
   "cell_type": "code",
   "execution_count": 1,
   "metadata": {},
   "outputs": [
    {
     "name": "stdout",
     "output_type": "stream",
     "text": [
      "Aluno: jose Media: 9.3\n",
      "Aluno: suzana Media: 9.0\n",
      "Aluno: pedro Media: 1.3\n",
      "Aluno: gisela Media: 4.0\n",
      "Aluno: joao Media: 4.7\n",
      "{'jose': ['5', '3', '20\\n'], 'suzana': ['10', '9', '8\\n'], 'pedro': ['1', '3'], 'gisela': ['7', '5'], 'joao': ['10', '3', '1']}\n"
     ]
    }
   ],
   "source": [
    "def m(notas):\n",
    "    v = []\n",
    "    for i in notas:\n",
    "        if int(i) > 0:\n",
    "            v.append(i)\n",
    "    return v\n",
    "\n",
    "def media(notas):\n",
    "    soma = float(0)\n",
    "    for n in notas:\n",
    "        soma = soma + float(n)\n",
    "    \n",
    "    return soma / float(3)\n",
    "    \n",
    "\n",
    "dicionario = {}\n",
    "id = 1\n",
    "arq = open('estudantes.txt','r')\n",
    "for r in arq:\n",
    "    nome, n1, n2, n3 = r.split(';')\n",
    "    notas = m([n1, n2, n3])\n",
    "    dicionario[nome] = notas\n",
    "\n",
    "for k in dicionario.keys():\n",
    "    notas_aluno = dicionario[k]\n",
    "    valor_media = media(notas_aluno)\n",
    "    print 'Aluno: %s Media: %.1f' % (k, valor_media)\n",
    "\n",
    "print dicionario\n",
    "\n",
    "\n",
    "#total = float(0)\n",
    "#for j in nota.keys():\n",
    "#    total = total + int(nota[j]['notas'])\n",
    "\n",
    "    \n",
    "#print(nota)\n",
    "\n",
    "\n",
    "    "
   ]
  },
  {
   "cell_type": "code",
   "execution_count": 1,
   "metadata": {},
   "outputs": [
    {
     "name": "stdout",
     "output_type": "stream",
     "text": [
      "Aluno: jose Media: 9.3\n",
      "Aluno: pedro Media: 1.3\n",
      "Aluno: suzana Media: 9.0\n",
      "Aluno: gisela Media: 4.0\n",
      "Aluno: joao Media: 4.7\n"
     ]
    }
   ],
   "source": [
    "def m(notas):\n",
    "    v = []\n",
    "    for i in notas:\n",
    "        if int(i) > 0:\n",
    "            v.append(i)\n",
    "    return v\n",
    "\n",
    "def media(notas):\n",
    "    soma = float(0)\n",
    "    for n in notas:\n",
    "        soma = soma + float(n)\n",
    "    \n",
    "    return soma / float(3)\n",
    "    \n",
    "\n",
    "arq = open('estudantes.txt','r')\n",
    "for r in arq:\n",
    "    nome, n1, n2, n3 = r.split(';')\n",
    "    notas = m([n1, n2, n3])\n",
    "    \n",
    "    valor_media = media(notas)\n",
    "    print 'Aluno: %s Media: %.1f' % (nome, valor_media)"
   ]
  },
  {
   "cell_type": "code",
   "execution_count": 9,
   "metadata": {},
   "outputs": [
    {
     "name": "stdout",
     "output_type": "stream",
     "text": [
      "6.0\n"
     ]
    }
   ],
   "source": [
    "nota = [1,2,3]\n",
    "\n",
    "soma = float(0)\n",
    "for i in nota:\n",
    "    \n",
    "    soma = soma + float(i)\n",
    "    \n",
    "print(soma)"
   ]
  },
  {
   "cell_type": "code",
   "execution_count": 6,
   "metadata": {},
   "outputs": [
    {
     "name": "stdout",
     "output_type": "stream",
     "text": [
      "Aluno: jose Media: 9.3\n",
      "Aluno: pedro Media: 1.3\n",
      "Aluno: suzana Media: 9.0\n",
      "Aluno: gisela Media: 4.0\n",
      "Aluno: joao Media: 4.7\n"
     ]
    }
   ],
   "source": [
    "def m(notas):\n",
    "    v = []\n",
    "    for i in notas:\n",
    "        if int(i) > 0:\n",
    "            v.append(i)\n",
    "    return v\n",
    "\n",
    "def media(notas):\n",
    "    soma = float(0)\n",
    "    for n in notas:\n",
    "        soma = soma + float(n)\n",
    "    \n",
    "    return soma / float(3)\n",
    "    \n",
    "\n",
    "arq = open('estudantes.txt','r')\n",
    "for r in arq:\n",
    "    nome, n1, n2, n3 = r.split(';')\n",
    "    notas = m([n1, n2, n3])\n",
    "    \n",
    "    valor_media = media(notas)\n",
    "    print 'Aluno: %s Media: %.1f' % (nome, valor_media)"
   ]
  },
  {
   "cell_type": "markdown",
   "metadata": {},
   "source": [
    "### Usando o arquivo texto estudantes.txt escreva um programa que imprime o nome dos alunos que têm 3 notas."
   ]
  },
  {
   "cell_type": "code",
   "execution_count": 20,
   "metadata": {},
   "outputs": [
    {
     "name": "stdout",
     "output_type": "stream",
     "text": [
      "{'jose': ['5', '3', '20\\n'], 'suzana': ['10', '9', '8\\n'], 'pedro': ['1', '3'], 'gisela': ['7', '5'], 'joao': ['10', '3', '1']}\n",
      "aluno: jose \n",
      "aluno: suzana \n",
      "aluno: joao \n"
     ]
    }
   ],
   "source": [
    "def vetor(notas):\n",
    "    v = []\n",
    "    for i in notas:\n",
    "         if int(i) > 0:\n",
    "            v.append(i)\n",
    "    return v\n",
    "\n",
    "dic ={}\n",
    "arq = open('estudantes.txt', 'r')\n",
    "for i in arq:\n",
    "    nome, n1, n2, n3 = i.split(';')\n",
    "    notas = vetor([n1, n2, n3])\n",
    "    dic[nome] = notas\n",
    "    \n",
    "print(dic)    \n",
    "\n",
    "for n in dic.keys():\n",
    "    quant = len(dic[n])\n",
    "    if quant >= 3:\n",
    "        print('aluno: %s '%(n))"
   ]
  },
  {
   "cell_type": "markdown",
   "metadata": {},
   "source": [
    "\n",
    "### Usando o arquivo texto estudantes.text escreva um programa que calcula a nota mínima e máxima de cada estudante e imprima o nome de cada aluno junto com a suam notá máxima e mínima.\n"
   ]
  },
  {
   "cell_type": "code",
   "execution_count": 60,
   "metadata": {},
   "outputs": [
    {
     "name": "stdout",
     "output_type": "stream",
     "text": [
      "Aluno: jose, suas notas ['5', '3', '20\\n'], sua maior nota foi: 5\n",
      "Aluno: pedro, suas notas ['1', '3'], sua maior nota foi: 3\n",
      "Aluno: suzana, suas notas ['10', '9', '8\\n'], sua maior nota foi: 9\n",
      "Aluno: gisela, suas notas ['7', '5'], sua maior nota foi: 7\n",
      "Aluno: joao, suas notas ['10', '3', '1'], sua maior nota foi: 3\n"
     ]
    }
   ],
   "source": [
    "def m(notas):\n",
    "    v = []\n",
    "    for i in notas:\n",
    "        if int(i) > 0:\n",
    "            v.append(i)\n",
    "    return v\n",
    "\n",
    "def maior(notas):\n",
    "    m = None\n",
    "    for posicao in range(len(notas)):\n",
    "\n",
    "        if m == None:\n",
    "            m = notas[posicao]\n",
    "\n",
    "        if notas[posicao] > m:\n",
    "            m = notas[posicao]\n",
    "\n",
    "    return int(m)\n",
    "    \n",
    "\n",
    "arq = open('estudantes.txt','r')\n",
    "for r in arq:\n",
    "    nome, n1, n2, n3 = r.split(';')\n",
    "    notas = m([n1, n2, n3])\n",
    "    \n",
    "    maior_nota = maior(notas)\n",
    "    \n",
    "    print 'Aluno: %s, suas notas %s, sua maior nota foi: %d' % (nome, notas, maior_nota)"
   ]
  },
  {
   "cell_type": "code",
   "execution_count": 52,
   "metadata": {},
   "outputs": [
    {
     "name": "stdout",
     "output_type": "stream",
     "text": [
      "54\n"
     ]
    }
   ],
   "source": [
    "def maior(notas):\n",
    "    m = None\n",
    "    for posicao in range(len(notas)):\n",
    "\n",
    "        if m == None:\n",
    "            m = notas[posicao]\n",
    "\n",
    "        if notas[posicao] > m:\n",
    "            m = notas[posicao]\n",
    "\n",
    "    return m\n",
    "\n",
    "n = [1,54,2]\n",
    "maior = maior(n)\n",
    "print(maior)\n"
   ]
  },
  {
   "cell_type": "code",
   "execution_count": null,
   "metadata": {},
   "outputs": [],
   "source": []
  },
  {
   "cell_type": "code",
   "execution_count": null,
   "metadata": {},
   "outputs": [],
   "source": []
  },
  {
   "cell_type": "code",
   "execution_count": null,
   "metadata": {},
   "outputs": [],
   "source": []
  },
  {
   "cell_type": "code",
   "execution_count": null,
   "metadata": {},
   "outputs": [],
   "source": []
  },
  {
   "cell_type": "code",
   "execution_count": null,
   "metadata": {},
   "outputs": [],
   "source": []
  }
 ],
 "metadata": {
  "kernelspec": {
   "display_name": "Python 2",
   "language": "python",
   "name": "python2"
  },
  "language_info": {
   "codemirror_mode": {
    "name": "ipython",
    "version": 2
   },
   "file_extension": ".py",
   "mimetype": "text/x-python",
   "name": "python",
   "nbconvert_exporter": "python",
   "pygments_lexer": "ipython2",
   "version": "2.7.12"
  }
 },
 "nbformat": 4,
 "nbformat_minor": 2
}
