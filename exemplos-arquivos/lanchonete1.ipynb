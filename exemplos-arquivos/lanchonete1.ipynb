{
 "cells": [
  {
   "cell_type": "markdown",
   "metadata": {},
   "source": [
    "## Resolução\n",
    "\n",
    "A seguir, a resolução do exercício da lanchonete:"
   ]
  },
  {
   "cell_type": "code",
   "execution_count": 6,
   "metadata": {},
   "outputs": [
    {
     "name": "stdout",
     "output_type": "stream",
     "text": [
      "Informe o codigo do item ou -1 para sair: 100\n",
      "Informe a quantidade: 2\n",
      "Codigo do item: 100 Preco: R$ 2.40\n",
      "Informe o codigo do item ou -1 para sair: -1\n",
      "O total da sua conta eh: R$ 2.40\n"
     ]
    }
   ],
   "source": [
    "# cardapio\n",
    "cardapio = {\n",
    "    '100': 1.20,\n",
    "    '101': 1.30,\n",
    "    '102': 1.50,\n",
    "    '103': 1.20,\n",
    "    '104': 1.30,\n",
    "    '105': 1.00\n",
    "}\n",
    "\n",
    "codigo_item = str(input('Informe o codigo do item ou -1 para sair: ')) # lê o código do item\n",
    "total_geral = float(0) # acumula o valor total da conta\n",
    "\n",
    "while codigo_item != '-1': # enquanto o usuário não digitar -1\n",
    "    if codigo_item not in cardapio: # se o item não existe no cardário, lança uma exceção\n",
    "        raise NameError('O item informado não existe no cardapio. Reinicie a operacao.')\n",
    "    else: # caso contrário, lê a quantidade desejada e continua com o fluxo do programa\n",
    "        qtde = int(input('Informe a quantidade: '))\n",
    "        \n",
    "        valor_item = cardapio[codigo_item] * qtde # multiplica o valor do item pela quantidade\n",
    "        print('Codigo do item: %s Preco: R$ %.2f' % (codigo_item, valor_item)) # mostra o item e quanto ele vai custar\n",
    "        total_geral = total_geral + valor_item # acumula o valor total\n",
    "        \n",
    "        codigo_item = str(input('Informe o codigo do item ou -1 para sair: ')) # lê novo item até digitar -1\n",
    "\n",
    "# quando o loop terminar (depois do usuário digitar -1) mostra a quantidade de itens\n",
    "print('O total da sua conta eh: R$ %.2f' % (total_geral))"
   ]
  },
  {
   "cell_type": "code",
   "execution_count": 7,
   "metadata": {},
   "outputs": [
    {
     "name": "stdout",
     "output_type": "stream",
     "text": [
      "Valor R$ 1.20\n"
     ]
    }
   ],
   "source": [
    "print 'Valor R$ %.2f' % (cardapio['103'])"
   ]
  },
  {
   "cell_type": "code",
   "execution_count": 11,
   "metadata": {},
   "outputs": [
    {
     "name": "stdout",
     "output_type": "stream",
     "text": [
      "1.3\n"
     ]
    }
   ],
   "source": [
    "print (cardapio['101'])"
   ]
  },
  {
   "cell_type": "code",
   "execution_count": null,
   "metadata": {},
   "outputs": [],
   "source": []
  }
 ],
 "metadata": {
  "kernelspec": {
   "display_name": "Python 2",
   "language": "python",
   "name": "python2"
  },
  "language_info": {
   "codemirror_mode": {
    "name": "ipython",
    "version": 2
   },
   "file_extension": ".py",
   "mimetype": "text/x-python",
   "name": "python",
   "nbconvert_exporter": "python",
   "pygments_lexer": "ipython2",
   "version": "2.7.12"
  }
 },
 "nbformat": 4,
 "nbformat_minor": 2
}
