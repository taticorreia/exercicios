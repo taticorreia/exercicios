{
 "cells": [
  {
   "cell_type": "markdown",
   "metadata": {},
   "source": [
    "#### Tamanho de strings.\n",
    "Faça um programa que leia 2 strings e informe o conteúdo delas seguido do seu comprimento. Informe também se as duas strings possuem o mesmo comprimento e são iguais ou diferentes no conteúdo."
   ]
  },
  {
   "cell_type": "code",
   "execution_count": 42,
   "metadata": {},
   "outputs": [
    {
     "name": "stdout",
     "output_type": "stream",
     "text": [
      "informe uma palavra: tatiane\n",
      "informe outra palavra: tai\n",
      "as palavras sao diferentes\n",
      "as palavras sao diferentes\n",
      "as palavras sao diferentes\n",
      "as palavras sao diferentes\n",
      "as palavras sao diferentes\n",
      "as palavras sao diferentes\n",
      "as palavras sao diferentes\n",
      "as palavras sao diferentes\n"
     ]
    }
   ],
   "source": [
    "str1 = raw_input('informe uma palavra: ')\n",
    "str2 = raw_input('informe outra palavra: ')\n",
    "\n",
    "\n",
    "contador1 = 0\n",
    "while contador1 <= len(str1):\n",
    "    contador2 = 0\n",
    "    while contador2 <= len(str2):\n",
    "                    \n",
    "        contador2 = contador2 + 1\n",
    "    \n",
    "    contador1 = contador1 + 1 \n",
    "\n",
    "    if str1 == str2:\n",
    "        print('sao iguais')\n",
    "    else:\n",
    "        print('as palavras sao diferentes')\n",
    "    \n",
    "            "
   ]
  },
  {
   "cell_type": "code",
   "execution_count": 49,
   "metadata": {},
   "outputs": [
    {
     "name": "stdout",
     "output_type": "stream",
     "text": [
      "informe uma palavra: ble ble bli\n",
      "informe outra palavra: ble blu bla\n",
      "letras iguais\n",
      "letras iguais\n",
      "letras iguais\n",
      "letras iguais\n",
      "letras iguais\n",
      "letras iguais\n",
      "letras diferentes\n",
      "letras iguais\n",
      "letras iguais\n",
      "letras iguais\n",
      "letras diferentes\n"
     ]
    }
   ],
   "source": [
    "str1 = raw_input('informe uma palavra: ')\n",
    "str2 = raw_input('informe outra palavra: ')\n",
    "\n",
    "if len(str1) == len(str2): # se strings de mesmo tamanho\n",
    "    \n",
    "    # comparando letra por letra\n",
    "    contador = 0\n",
    "    while contador < len(str1):\n",
    "\n",
    "        if str1[contador] == str2[contador]:\n",
    "            print('letras iguais')\n",
    "        else:\n",
    "            print('letras diferentes')\n",
    "\n",
    "        contador = contador + 1\n",
    "else:\n",
    "    print('As strings tem tamanhos diferentes e não podem ser comparadas letra a letra.')"
   ]
  },
  {
   "cell_type": "markdown",
   "metadata": {},
   "source": [
    "### Nome na vertical em escada.\n",
    "Modifique o programa anterior de forma a mostrar o nome em formato de escada."
   ]
  },
  {
   "cell_type": "code",
   "execution_count": 58,
   "metadata": {},
   "outputs": [
    {
     "name": "stdout",
     "output_type": "stream",
     "text": [
      "informe um nome: tati\n",
      "t\n",
      "ta\n",
      "tat\n",
      "tati\n"
     ]
    }
   ],
   "source": [
    "str1 = raw_input('informe um nome: ')\n",
    "s = \"\"\n",
    "contador = 0\n",
    "while contador < len(str1):\n",
    "    \n",
    "    s = s + str1[contador]\n",
    "    print s\n",
    "    \n",
    "    contador = contador + 1\n"
   ]
  },
  {
   "cell_type": "markdown",
   "metadata": {},
   "source": [
    "### Nome na vertical em escada invertida.\n",
    "Altere o programa anterior de modo que a escada seja invertida.\n",
    "\n"
   ]
  },
  {
   "cell_type": "code",
   "execution_count": 99,
   "metadata": {},
   "outputs": [
    {
     "name": "stdout",
     "output_type": "stream",
     "text": [
      "informe um nome: tatiane\n",
      "t\n"
     ]
    }
   ],
   "source": [
    "str1 = raw_input('informe um nome: ')\n",
    "s = \"\"\n",
    "contador = 0\n",
    "while contador < len(str1):\n",
    "    \n",
    "    s = s + str1[contador]\n",
    "    \n",
    "    numero = len(s)\n",
    "       \n",
    "    i = s[0:numero-contador]  \n",
    "    \n",
    "    contador = contador + 1\n",
    "        \n",
    "print(i)"
   ]
  },
  {
   "cell_type": "code",
   "execution_count": 22,
   "metadata": {},
   "outputs": [
    {
     "name": "stdout",
     "output_type": "stream",
     "text": [
      "informe ua palavra:tatiane\n",
      "tatiane\n",
      "tatian\n",
      "tatia\n",
      "tati\n",
      "tat\n",
      "ta\n",
      "t\n",
      "\n"
     ]
    }
   ],
   "source": [
    "palavra = raw_input('informe ua palavra:')\n",
    "contador = len(palavra)\n",
    "while contador >= 0:\n",
    "    \n",
    "    print(palavra[0:contador])\n",
    "    \n",
    "    contador = contador - 1\n"
   ]
  },
  {
   "cell_type": "markdown",
   "metadata": {},
   "source": [
    "### Data por extenso\n",
    "Faça um programa que solicite a data de nascimento (dd/mm/aaaa) do usuário e imprima a data com o nome do mês por extenso."
   ]
  },
  {
   "cell_type": "code",
   "execution_count": 4,
   "metadata": {},
   "outputs": [
    {
     "name": "stdout",
     "output_type": "stream",
     "text": [
      "informe sua data de nascimento:18/2/1994\n",
      "Voce nasceu em 18 de fevereiro no ano de 1994\n"
     ]
    }
   ],
   "source": [
    "data = raw_input('informe sua data de nascimento:')\n",
    "\n",
    "meses = {\n",
    "    \n",
    "    '1' : 'janeiro',\n",
    "    '2' : 'fevereiro'\n",
    "}\n",
    "\n",
    "\n",
    "dia, mes, ano = data.split('/')\n",
    "\n",
    "\n",
    "print('Voce nasceu em %s de %s no ano de %s' % (dia, meses[mes], ano))\n",
    "    \n",
    "           \n"
   ]
  },
  {
   "cell_type": "markdown",
   "metadata": {},
   "source": [
    "# Palíndromo.\n",
    "Um palíndromo é uma seqüência de caracteres cuja leitura é idêntica se feita da direita para esquerda ou vice−versa. Por exemplo: OSSO e OVO são palíndromos. Em textos mais complexos os espaços e pontuação são ignorados. A frase SUBI NO ONIBUS é o exemplo de uma frase palíndroma onde os espaços foram ignorados. Faça um programa que leia uma seqüência de caracteres, mostre−a e diga se é um palíndromo ou não.\n"
   ]
  },
  {
   "cell_type": "code",
   "execution_count": 18,
   "metadata": {},
   "outputs": [
    {
     "name": "stdout",
     "output_type": "stream",
     "text": [
      "informe uma palavra: ovo\n",
      "o texto invertido da palavra ovo eh ovo \n",
      "e um palindromo\n"
     ]
    }
   ],
   "source": [
    "p = raw_input('informe uma palavra: ')\n",
    "p_i = ''\n",
    "\n",
    "contador = len(p) - 1\n",
    "while contador >= 0:\n",
    "    p_i = p_i + p[contador]\n",
    "    \n",
    "    contador = contador - 1\n",
    "print('o texto invertido da palavra %s eh %s '% (p, p_i))\n",
    "\n",
    "if p == p_i:\n",
    "    print('e um palindromo')\n",
    "else:\n",
    "    print('nao e um palindromo')"
   ]
  },
  {
   "cell_type": "markdown",
   "metadata": {},
   "source": [
    "### Verificação de CPF. \n",
    "Desenvolva um programa que solicite a digitação de um número de CPF no formato xxx.xxx.xxx-xx e indique se é um número válido ou inválido através da validação dos dígitos verificadores edos caracteres de formatação."
   ]
  },
  {
   "cell_type": "code",
   "execution_count": 30,
   "metadata": {},
   "outputs": [
    {
     "ename": "SyntaxError",
     "evalue": "invalid syntax (<ipython-input-30-52cedfa01d88>, line 5)",
     "output_type": "error",
     "traceback": [
      "\u001b[0;36m  File \u001b[0;32m\"<ipython-input-30-52cedfa01d88>\"\u001b[0;36m, line \u001b[0;32m5\u001b[0m\n\u001b[0;31m    if cpf =! int or float:\u001b[0m\n\u001b[0m           ^\u001b[0m\n\u001b[0;31mSyntaxError\u001b[0m\u001b[0;31m:\u001b[0m invalid syntax\n"
     ]
    }
   ],
   "source": [
    "cpf = raw_input('informe seu cpf:')\n",
    "\n",
    "cpf = cpf.split('., -')\n",
    "\n",
    "if cpf =! int or float:\n",
    "    print('insira um numero')\n"
   ]
  },
  {
   "cell_type": "code",
   "execution_count": null,
   "metadata": {},
   "outputs": [],
   "source": []
  }
 ],
 "metadata": {
  "kernelspec": {
   "display_name": "Python 2",
   "language": "python",
   "name": "python2"
  },
  "language_info": {
   "codemirror_mode": {
    "name": "ipython",
    "version": 2
   },
   "file_extension": ".py",
   "mimetype": "text/x-python",
   "name": "python",
   "nbconvert_exporter": "python",
   "pygments_lexer": "ipython2",
   "version": "2.7.12"
  }
 },
 "nbformat": 4,
 "nbformat_minor": 2
}
