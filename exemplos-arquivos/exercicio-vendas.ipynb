{
 "cells": [
  {
   "cell_type": "markdown",
   "metadata": {},
   "source": [
    "O arquivo é composto pelas seguintes informações\n",
    "- Código do produto\n",
    "- Nome do produto\n",
    "- Valor do produto\n",
    "- Quantidade vendida\n",
    "- Margem de lucro.\n",
    "\n",
    "Faça um programa em Python que leia os dados arquivo e dê as seguintes saídas:\n",
    "- Produto mais vendido\n",
    "- Produto menos vendido\n",
    "- Valor total por produto\n",
    "- Lucratividade total por produto\n",
    "- Valor todas das vendas"
   ]
  },
  {
   "cell_type": "code",
   "execution_count": 15,
   "metadata": {},
   "outputs": [
    {
     "name": "stdout",
     "output_type": "stream",
     "text": [
      "{'1': {'quantidade': 5, 'margem': '10.0\\n', 'produto': 'celular', 'valor': 920.52}, '3': {'quantidade': 8, 'margem': '4.0\\n', 'produto': 'batedeira', 'valor': 320.0}, '2': {'quantidade': 2, 'margem': '14.2\\n', 'produto': 'televisor', 'valor': 3479.0}, '5': {'quantidade': 15, 'margem': '12.0\\n', 'produto': 'fogao', 'valor': 600.0}, '4': {'quantidade': 1, 'margem': '22.1\\n', 'produto': 'geladeira', 'valor': 2018.14}}\n",
      "('Produto 4: ', 320.0)\n",
      "5;fogao;600.0;15;12.0\n",
      "\n"
     ]
    }
   ],
   "source": [
    "m = None\n",
    "#print('\\tcodigo\\tproduto\\tvalor\\tquantidade\\tmargem')\n",
    "abrir = open('vendas.txt','r')\n",
    "\n",
    "dados = {}\n",
    "\n",
    "for linha in abrir:\n",
    "    codigo, produto, valor, quantidade, margem = linha.split(';')\n",
    "    \n",
    "    dados[codigo] = {}\n",
    "    \n",
    "    dados[codigo]['produto'] = produto\n",
    "    dados[codigo]['valor'] = float(valor)\n",
    "    dados[codigo]['quantidade'] = int(quantidade)\n",
    "    dados[codigo]['margem'] = margem\n",
    "    \n",
    "print(dados)\n",
    "\n",
    "print('Produto 4: ', dados['3']['valor'])\n",
    "print linha\n"
   ]
  },
  {
   "cell_type": "code",
   "execution_count": 4,
   "metadata": {},
   "outputs": [
    {
     "name": "stdout",
     "output_type": "stream",
     "text": [
      "5\n",
      "8\n",
      "2\n",
      "15\n",
      "1\n",
      "o maior sera 15\n"
     ]
    }
   ],
   "source": [
    "n = None\n",
    "i = []\n",
    "for k in dados:\n",
    "    \n",
    "    print (dados)[k]['quantidade']\n",
    "         \n",
    "    #if (dados)[k]['quantidade'] >= 0:\n",
    "    #    i.append((dados)[k]['quantidade'])\n",
    "    if n == None:\n",
    "        n = (dados)[k]['quantidade']\n",
    "    \n",
    "    if (dados)[k]['quantidade'] > n:\n",
    "        n = (dados)[k]['quantidade']         \n",
    "\n",
    "print('o maior sera %d'% (n))\n",
    "        \n",
    "    "
   ]
  },
  {
   "cell_type": "code",
   "execution_count": 51,
   "metadata": {},
   "outputs": [
    {
     "name": "stdout",
     "output_type": "stream",
     "text": [
      "1;celular;920.52;5;10.0\n",
      "\n",
      "2;televisor;3479.0;2;14.2\n",
      "\n",
      "3;batedeira;320.0;8;4.0\n",
      "\n",
      "4;geladeira;2018.14;1;22.1\n",
      "\n",
      "5;fogao;600.0;15;12.0\n",
      "\n",
      "5\n",
      "2\n"
     ]
    }
   ],
   "source": [
    "m = None\n",
    "#print('\\tcodigo\\tproduto\\tvalor\\tquantidade\\tmargem')\n",
    "abrir = open('vendas.txt','r')\n",
    "\n",
    "dados = {}\n",
    "\n",
    "for linha in abrir:\n",
    "    codigo, produto, valor, quantidade, margem = linha.split(';')\n",
    "    \n",
    "    dados[codigo] = {}\n",
    "    \n",
    "    dados[codigo]['produto'] = produto\n",
    "    dados[codigo]['valor'] = float(valor)\n",
    "    dados[codigo]['quantidade'] = int(quantidade)\n",
    "    dados[codigo]['margem'] = margem\n",
    "    \n",
    "    print linha\n",
    "\n",
    "print dados['1']['quantidade'] \n",
    "print dados['2']['quantidade']    \n",
    "\n",
    "\n"
   ]
  },
  {
   "cell_type": "code",
   "execution_count": 5,
   "metadata": {},
   "outputs": [
    {
     "name": "stdout",
     "output_type": "stream",
     "text": [
      "o maior sera 15\n"
     ]
    }
   ],
   "source": [
    "m = None\n",
    "#print('\\tcodigo\\tproduto\\tvalor\\tquantidade\\tmargem')\n",
    "abrir = open('vendas.txt','r')\n",
    "\n",
    "dados = {}\n",
    "\n",
    "for linha in abrir:\n",
    "    codigo, produto, valor, quantidade, margem = linha.split(';')\n",
    "    \n",
    "    dados[codigo] = {}\n",
    "    \n",
    "    dados[codigo]['produto'] = produto\n",
    "    dados[codigo]['valor'] = float(valor)\n",
    "    dados[codigo]['quantidade'] = int(quantidade)\n",
    "    dados[codigo]['margem'] = margem\n",
    "    \n",
    "n = None \n",
    "for k in dados.keys():\n",
    "\n",
    "    if n == None:\n",
    "        n = (dados)[k]['quantidade']\n",
    "    \n",
    "    if (dados)[k]['quantidade'] > n:\n",
    "        n = (dados)[k]['quantidade']         \n",
    "\n",
    "print('o maior sera %d'% (n))\n",
    "        \n",
    "    "
   ]
  },
  {
   "cell_type": "code",
   "execution_count": null,
   "metadata": {},
   "outputs": [],
   "source": []
  }
 ],
 "metadata": {
  "kernelspec": {
   "display_name": "Python 2",
   "language": "python",
   "name": "python2"
  },
  "language_info": {
   "codemirror_mode": {
    "name": "ipython",
    "version": 2
   },
   "file_extension": ".py",
   "mimetype": "text/x-python",
   "name": "python",
   "nbconvert_exporter": "python",
   "pygments_lexer": "ipython2",
   "version": "2.7.12"
  }
 },
 "nbformat": 4,
 "nbformat_minor": 2
}
