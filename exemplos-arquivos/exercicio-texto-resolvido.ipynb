{
 "cells": [
  {
   "cell_type": "markdown",
   "metadata": {},
   "source": [
    "### A ACME Inc., uma empresa de 500 funcionários, está tendo problemas de espaço em disco no seu servidor de arquivos. Para tentar resolver este problema, o Administrador de Rede precisa saber qual o espaço ocupado pelos usuários, e identificar os usuários com maior espaço ocupado. Através de um programa, baixado da Internet, ele conseguiu gerar o seguinte arquivo, chamado \"usuarios.txt\":\n",
    "<pre>\n",
    "alexandre       456123789\n",
    "anderson        1245698456\n",
    "antonio         123456456\n",
    "carlos          91257581\n",
    "cesar           987458\n",
    "rosemary        789456125\n",
    "</pre>\n",
    "Neste arquivo, o nome do usuário possui 15 caracteres. A partir deste arquivo, você deve criar um programa que gere um relatório, chamado \"relatório.txt\", no seguinte formato:\n",
    "<pre>\n",
    "ACME Inc.               Uso do espaço em disco pelos usuários\n",
    "------------------------------------------------------------------------\n",
    "Nr.  Usuário        Espaço utilizado     % do uso\n",
    "\n",
    "1    alexandre       434,99 MB             16,85%\n",
    "2    anderson       1187,99 MB             46,02%\n",
    "3    antonio         117,73 MB              4,56%\n",
    "4    carlos           87,03 MB              3,37%\n",
    "5    cesar             0,94 MB              0,04%\n",
    "6    rosemary        752,88 MB             29,16%\n",
    "\n",
    "Espaço total ocupado: 2581,57 MB\n",
    "Espaço médio ocupado: 430,26 MB\n",
    "</pre>\n",
    "O arquivo de entrada deve ser lido uma única vez, e os dados armazenados em memória, caso sejam necessários, de forma a agilizar a execução do programa. A conversão da espaço ocupado em disco, de bytes para megabytes deverá ser feita através de uma função separada, que será chamada pelo programa principal. O cálculo do percentual de uso também deverá ser feito através de uma função, que será chamada pelo programa principal.\n"
   ]
  },
  {
   "cell_type": "code",
   "execution_count": 29,
   "metadata": {},
   "outputs": [],
   "source": [
    "def conhecendo(linha):\n",
    "    codigo, nome, dados, porcentagem = linha.split(';')\n",
    "    codigo = int(codigo)\n",
    "    dados = float(dados)\n",
    "    porcentagem = float(porcentagem)\n",
    "    print('o codigo %d pertencente ao funcionario %s usou %d mb significando %.1f da armazenagem total'% (codigo, nome, dados, porcentagem))"
   ]
  },
  {
   "cell_type": "code",
   "execution_count": 31,
   "metadata": {},
   "outputs": [
    {
     "name": "stdout",
     "output_type": "stream",
     "text": [
      "o codigo 1 pertencente ao funcionario lexandre usou 434 mb significando 16.9 da armazenagem total\n",
      "o codigo 2 pertencente ao funcionario derson usou 1187 mb significando 46.0 da armazenagem total\n",
      "o codigo 3 pertencente ao funcionario Antonio usou 117 mb significando 4.6 da armazenagem total\n",
      "o codigo 4 pertencente ao funcionario carlos usou 87 mb significando 3.4 da armazenagem total\n",
      "o codigo 5 pertencente ao funcionario cesar usou 0 mb significando 0.0 da armazenagem total\n",
      "o codigo 6 pertencente ao funcionario rosemary usou 752 mb significando 29.2 da armazenagem total\n"
     ]
    }
   ],
   "source": [
    "uso_dados = open('empresa.txt', 'r')\n",
    "for linha in uso_dados:\n",
    "    conhecendo(linha)"
   ]
  },
  {
   "cell_type": "code",
   "execution_count": 61,
   "metadata": {},
   "outputs": [
    {
     "name": "stdout",
     "output_type": "stream",
     "text": [
      "id\tnome\tespaço\t\tmega\tpercentual\n",
      "1\tdunha\t38482939.000000\t36.70\t13\n",
      "2\tpionho\t48428283.000000\t46.18\t16\n",
      "3\tcueca\t98347474.000000\t93.79\t33\n",
      "4\tsteve\t93747474.000000\t89.40\t32\n",
      "5\testerco\t17492929.000000\t16.68\t 6\n"
     ]
    }
   ],
   "source": [
    "def calcular_mega(dados):\n",
    "    for k in dados.keys(): # percorre dicionario\n",
    "        dados[k]['mega'] = '%.2f' % ((dados[k]['espaco'] / 1024) / 1024) # cria uma chave 'mega' e adiciona a informacao em MB.\n",
    "        \n",
    "def calcular_percentual(dados):\n",
    "    total = float(0) # acumulador de total\n",
    "    for k in dados.keys(): # percorre o dicionario\n",
    "        total += float(dados[k]['mega']) # soma todas as informacoes em MB, obtendo o total.\n",
    "        \n",
    "    # esse loop não está dentro do outro, ou seja, sera executado apos o loop de cima terminar\n",
    "        \n",
    "    for k in dados.keys(): # percorre o dicionario outra vez\n",
    "        dados[k]['percentual']= '%2.f' % (float(dados[k]['mega']) / total * 100) # calcula o percentual e adiciona no dicionario\n",
    "\n",
    "def imprimir_formatado(dados):\n",
    "    print('id\\tnome\\tespaço\\t\\tmega\\tpercentual') # imprime o cabecalho da tabela separado por TAB\n",
    "    for k in dados.keys(): # percorre o dicionario\n",
    "        \n",
    "        # imprime os dados separados por TAB\n",
    "        print('%d\\t%s\\t%f\\t%s\\t%s' % (k, dados[k]['nome'], dados[k]['espaco'], dados[k]['mega'], dados[k]['percentual']))\n",
    "\n",
    "dados = {}\n",
    "id = 1 # identificador do registro (chave)\n",
    "arquivo = open('novo.txt', 'r') # lendo arquivo\n",
    "for linha in arquivo: # percorrendo linhas\n",
    "    nome, espaco = linha.split(';') # quebrando em ponto-virgula e retornando vetor de 2 posicoes\n",
    "    \n",
    "    dados[id] = {} # cria a primeira chave do dicionario com o numero do usuario\n",
    "    \n",
    "    dados[id]['nome'] = nome # nessa chave criada, adiciona o nome\n",
    "    dados[id]['espaco'] = float(espaco) # e adiciona o espaco utilizado\n",
    "    \n",
    "    id += 1 # incrementa a chave do usuario\n",
    "\n",
    "calcular_mega(dados) # passa o dicionario pra quem vai calcular a informacao em MB.\n",
    "calcular_percentual(dados) # passa o dicionario pra quem vai calcular o percentual\n",
    "imprimir_formatado(dados) # passa o dicionario para imprimir em formato de tabela"
   ]
  },
  {
   "cell_type": "code",
   "execution_count": 103,
   "metadata": {},
   "outputs": [
    {
     "name": "stdout",
     "output_type": "stream",
     "text": [
      "id\tnome\tespaço\t\tmega\tpercentual\n",
      "1\tdunha\t38482939.000\t36.700\t12.98\n",
      "2\tpionho\t48428283.000\t46.185\t16.33\n",
      "3\tcueca\t98347474.000\t93.791\t33.17\n",
      "4\tsteve\t93747474.000\t89.405\t31.62\n",
      "5\testerco\t17492929.000\t16.683\t5.90\n"
     ]
    }
   ],
   "source": [
    "nome = ['dunha', 'pionho', 'cueca', 'steve', 'esterco']\n",
    "espaco = [38482939.0, 48428283.0, 98347474.0, 93747474.0, 17492929.0]\n",
    "\n",
    "# calculando valor em mega\n",
    "i = 0\n",
    "mega = []\n",
    "while i < 5:\n",
    "    mega.append((espaco[i] / 1024) / 1024)\n",
    "    i += 1\n",
    "\n",
    "# calculando soma\n",
    "total = float(0)\n",
    "for valor in espaco:\n",
    "    total += valor\n",
    "\n",
    "# calculando percentual\n",
    "i = 0\n",
    "percentual = []\n",
    "while i < 5:\n",
    "    percentual.append('%.2f' % (espaco[i] / total * 100))\n",
    "    i += 1\n",
    "    \n",
    "# imprimindo dados\n",
    "i = 0\n",
    "print('id\\tnome\\tespaço\\t\\tmega\\tpercentual') # imprime o cabecalho da tabela separado por TAB\n",
    "while i < 5:\n",
    "    print('%d\\t%s\\t%.3f\\t%.3f\\t%s' % (i + 1, nome[i], espaco[i], mega[i], percentual[i]))\n",
    "    #print('%d\\t%s\\t%f\\t%f\\t%s' % (i, nome[i], espaco[i], mega[i], percentual[i]))\n",
    "    i += 1"
   ]
  },
  {
   "cell_type": "code",
   "execution_count": 58,
   "metadata": {},
   "outputs": [
    {
     "name": "stdout",
     "output_type": "stream",
     "text": [
      "{1: {'nome': 'Tati', 'letras': 4}, 2: {'nome': 'Everton', 'letras': 7}, 3: {'nome': 'Felipe', 'letras': 6}}\n"
     ]
    }
   ],
   "source": [
    "dicionario = {\n",
    "    1: {'nome':'Tati'},\n",
    "    2: {'nome':'Everton'},\n",
    "    3: {'nome':'Felipe'}\n",
    "}\n",
    "\n",
    "for k in dicionario.keys():\n",
    "    dicionario[k]['letras'] = len(dicionario[k]['nome'])\n",
    "\n",
    "print(dicionario)"
   ]
  },
  {
   "cell_type": "code",
   "execution_count": 119,
   "metadata": {},
   "outputs": [
    {
     "data": {
      "text/plain": [
       "29.181218471090414"
      ]
     },
     "execution_count": 119,
     "metadata": {},
     "output_type": "execute_result"
    }
   ],
   "source": [
    "porcentagem "
   ]
  },
  {
   "cell_type": "code",
   "execution_count": 83,
   "metadata": {},
   "outputs": [
    {
     "name": "stdout",
     "output_type": "stream",
     "text": [
      "[434, 1187, 117, 87, 752]\n"
     ]
    }
   ],
   "source": [
    "print(a)"
   ]
  },
  {
   "cell_type": "code",
   "execution_count": null,
   "metadata": {},
   "outputs": [],
   "source": []
  },
  {
   "cell_type": "code",
   "execution_count": null,
   "metadata": {},
   "outputs": [],
   "source": []
  }
 ],
 "metadata": {
  "kernelspec": {
   "display_name": "Python 2",
   "language": "python",
   "name": "python2"
  },
  "language_info": {
   "codemirror_mode": {
    "name": "ipython",
    "version": 2
   },
   "file_extension": ".py",
   "mimetype": "text/x-python",
   "name": "python",
   "nbconvert_exporter": "python",
   "pygments_lexer": "ipython2",
   "version": "2.7.12"
  }
 },
 "nbformat": 4,
 "nbformat_minor": 2
}
