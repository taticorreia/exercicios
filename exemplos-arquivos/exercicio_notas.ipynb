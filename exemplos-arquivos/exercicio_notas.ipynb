{
 "cells": [
  {
   "cell_type": "markdown",
   "metadata": {},
   "source": [
    "### Solução 1:\n",
    "\n",
    "Solução curta e eficiente (faz um único loop e não usa estruturas complexas)."
   ]
  },
  {
   "cell_type": "code",
   "execution_count": 1,
   "metadata": {},
   "outputs": [
    {
     "name": "stdout",
     "output_type": "stream",
     "text": [
      "Aluno: jose\n",
      "Aluno: suzana\n",
      "Aluno: joao\n"
     ]
    }
   ],
   "source": [
    "arquivo = open('notas.txt', 'r') # ler dados do arquivo\n",
    "for i in arquivo: # percorrer cada linha do arquivo\n",
    "    nome, n1, n2, n3 = i.split(';') # parser dos dados em variaveis (tudo eh lido como string, inclusive as notas)\n",
    "    if (int(n1) > 0) and (int(n2) > 0) and (int(n3) > 0): # se todas as notas sao maiores que zero\n",
    "        print('Aluno: %s' % (nome)) # imprime nome do aluno"
   ]
  },
  {
   "cell_type": "markdown",
   "metadata": {},
   "source": [
    "### Solução 2:\n",
    "Solução longa, trabalhosa e computacionalmente cara (faz 3 loops e usa estruturas complexas)."
   ]
  },
  {
   "cell_type": "code",
   "execution_count": 31,
   "metadata": {},
   "outputs": [
    {
     "name": "stdout",
     "output_type": "stream",
     "text": [
      "Dicionario gerado:\n",
      "{'jose': ['5', '3', '20\\n'], 'pedro': ['1', '3'], 'suzana': ['10', '9', '8\\n'], 'gisela': ['7', '5'], 'joao': ['10', '3', '1']}\n",
      "\n",
      "Aluno: jose\n",
      "Aluno: suzana\n",
      "Aluno: joao\n"
     ]
    }
   ],
   "source": [
    "def criar_vetor_notas_validas(notas): # funcao que retorna vetor com notas validas (nota > 0)\n",
    "    vetor = [] # cria vetor vazio a ser preenchido\n",
    "    for n in notas: # percorre as notas\n",
    "        if int(n) > 0: vetor.append(n) # se a nota for maior que zero, adiciona no vetor\n",
    "    \n",
    "    return vetor # depois de percorrer todas as notas, retorna o vetor\n",
    "\n",
    "dados = {} # dicionario para armazenar dados\n",
    "arquivo = open('notas.txt', 'r') # ler dados do arquivo\n",
    "for i in arquivo: # percorrer cada linha do arquivo\n",
    "    nome, n1, n2, n3 = i.split(';') # parser dos dados em variaveis\n",
    "    notas_validas = criar_vetor_notas_validas([n1, n2, n3]) # chama funcao que cria vetor com notas > 0\n",
    "    dados[nome] = notas_validas # adiciona vetor de notas validas no dicionario\n",
    "\n",
    "print('Dicionario gerado:\\n{}\\n'.format(dados)) # depois que percorrer todo o arquivo, mostra o dicionario\n",
    "\n",
    "for k in dados.keys(): # percorre cada chave do dicionario\n",
    "    qtde_notas = len(dados[k]) # calcula o tamanho do vetor com notas validas\n",
    "    if qtde_notas == 3: # se o tamanho do vetor eh igual 3 (3 notas validas)\n",
    "        print('Aluno: %s' % (k)) # imprime nome do aluno"
   ]
  },
  {
   "cell_type": "code",
   "execution_count": null,
   "metadata": {},
   "outputs": [],
   "source": []
  }
 ],
 "metadata": {
  "kernelspec": {
   "display_name": "Python 2",
   "language": "python",
   "name": "python2"
  },
  "language_info": {
   "codemirror_mode": {
    "name": "ipython",
    "version": 2
   },
   "file_extension": ".py",
   "mimetype": "text/x-python",
   "name": "python",
   "nbconvert_exporter": "python",
   "pygments_lexer": "ipython2",
   "version": "2.7.12"
  }
 },
 "nbformat": 4,
 "nbformat_minor": 2
}
