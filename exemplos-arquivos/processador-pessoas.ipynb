{
 "cells": [
  {
   "cell_type": "code",
   "execution_count": 1,
   "metadata": {},
   "outputs": [],
   "source": [
    "def apresentar_pessoa(linha):\n",
    "    #print linha.split(';')\n",
    "    #v = linha.split(';')\n",
    "    nome, idade, genero = linha.split(';')\n",
    "    idade = int(idade)\n",
    "    if idade >= 27:\n",
    "        print 'Muito prazer. Meu nome eh %s, tenho %d anos e sou do genero %s' % (nome, idade, genero)"
   ]
  },
  {
   "cell_type": "code",
   "execution_count": 2,
   "metadata": {},
   "outputs": [
    {
     "name": "stdout",
     "output_type": "stream",
     "text": [
      "Muito prazer. Meu nome eh Everton, tenho 33 anos e sou do genero M\n",
      "\n",
      "Muito prazer. Meu nome eh João, tenho 30 anos e sou do genero M\n",
      "\n",
      "Muito prazer. Meu nome eh Marta, tenho 30 anos e sou do genero F\n"
     ]
    }
   ],
   "source": [
    "meu_arquivo = open('pessoas.txt', 'r')\n",
    "for linha in meu_arquivo:\n",
    "    apresentar_pessoa(linha)"
   ]
  },
  {
   "cell_type": "code",
   "execution_count": null,
   "metadata": {},
   "outputs": [],
   "source": []
  }
 ],
 "metadata": {
  "kernelspec": {
   "display_name": "Python 2",
   "language": "python",
   "name": "python2"
  },
  "language_info": {
   "codemirror_mode": {
    "name": "ipython",
    "version": 2
   },
   "file_extension": ".py",
   "mimetype": "text/x-python",
   "name": "python",
   "nbconvert_exporter": "python",
   "pygments_lexer": "ipython2",
   "version": "2.7.12"
  }
 },
 "nbformat": 4,
 "nbformat_minor": 2
}
