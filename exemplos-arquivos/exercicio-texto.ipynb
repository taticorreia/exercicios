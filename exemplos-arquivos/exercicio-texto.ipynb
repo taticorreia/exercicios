{
 "cells": [
  {
   "cell_type": "markdown",
   "metadata": {},
   "source": [
    "### A ACME Inc., uma empresa de 500 funcionários, está tendo problemas de espaço em disco no seu servidor de arquivos. Para tentar resolver este problema, o Administrador de Rede precisa saber qual o espaço ocupado pelos usuários, e identificar os usuários com maior espaço ocupado. Através de um programa, baixado da Internet, ele conseguiu gerar o seguinte arquivo, chamado \"usuarios.txt\":\n",
    "<pre>\n",
    "alexandre       456123789\n",
    "anderson        1245698456\n",
    "antonio         123456456\n",
    "carlos          91257581\n",
    "cesar           987458\n",
    "rosemary        789456125\n",
    "</pre>\n",
    "Neste arquivo, o nome do usuário possui 15 caracteres. A partir deste arquivo, você deve criar um programa que gere um relatório, chamado \"relatório.txt\", no seguinte formato:\n",
    "<pre>\n",
    "ACME Inc.               Uso do espaço em disco pelos usuários\n",
    "------------------------------------------------------------------------\n",
    "Nr.  Usuário        Espaço utilizado     % do uso\n",
    "\n",
    "1    alexandre       434,99 MB             16,85%\n",
    "2    anderson       1187,99 MB             46,02%\n",
    "3    antonio         117,73 MB              4,56%\n",
    "4    carlos           87,03 MB              3,37%\n",
    "5    cesar             0,94 MB              0,04%\n",
    "6    rosemary        752,88 MB             29,16%\n",
    "\n",
    "Espaço total ocupado: 2581,57 MB\n",
    "Espaço médio ocupado: 430,26 MB\n",
    "</pre>\n",
    "O arquivo de entrada deve ser lido uma única vez, e os dados armazenados em memória, caso sejam necessários, de forma a agilizar a execução do programa. A conversão da espaço ocupado em disco, de bytes para megabytes deverá ser feita através de uma função separada, que será chamada pelo programa principal. O cálculo do percentual de uso também deverá ser feito através de uma função, que será chamada pelo programa principal.\n"
   ]
  },
  {
   "cell_type": "code",
   "execution_count": 29,
   "metadata": {},
   "outputs": [],
   "source": [
    "def conhecendo(linha):\n",
    "    codigo, nome, dados, porcentagem = linha.split(';')\n",
    "    codigo = int(codigo)\n",
    "    dados = float(dados)\n",
    "    porcentagem = float(porcentagem)\n",
    "    print('o codigo %d pertencente ao funcionario %s usou %d mb significando %.1f da armazenagem total'% (codigo, nome, dados, porcentagem))"
   ]
  },
  {
   "cell_type": "code",
   "execution_count": 31,
   "metadata": {},
   "outputs": [
    {
     "name": "stdout",
     "output_type": "stream",
     "text": [
      "o codigo 1 pertencente ao funcionario lexandre usou 434 mb significando 16.9 da armazenagem total\n",
      "o codigo 2 pertencente ao funcionario derson usou 1187 mb significando 46.0 da armazenagem total\n",
      "o codigo 3 pertencente ao funcionario Antonio usou 117 mb significando 4.6 da armazenagem total\n",
      "o codigo 4 pertencente ao funcionario carlos usou 87 mb significando 3.4 da armazenagem total\n",
      "o codigo 5 pertencente ao funcionario cesar usou 0 mb significando 0.0 da armazenagem total\n",
      "o codigo 6 pertencente ao funcionario rosemary usou 752 mb significando 29.2 da armazenagem total\n"
     ]
    }
   ],
   "source": [
    "uso_dados = open('empresa.txt', 'r')\n",
    "for linha in uso_dados:\n",
    "    conhecendo(linha)"
   ]
  },
  {
   "cell_type": "code",
   "execution_count": 122,
   "metadata": {},
   "outputs": [
    {
     "name": "stdout",
     "output_type": "stream",
     "text": [
      "o funcionario alexandre usou 456123789 que em mb fica 434.00, a porcentagem desse funcionario eh 100.00 \n",
      "o funcionario anderson usou 1245698456 que em mb fica 1187.00, a porcentagem desse funcionario eh 73.23 \n",
      "o funcionario antonio usou 123456456 que em mb fica 117.00, a porcentagem desse funcionario eh 6.73 \n",
      "o funcionario carlos usou 91257581 que em mb fica 87.00, a porcentagem desse funcionario eh 4.77 \n",
      "o funcionario cesar usou 987458 que em mb fica 0.00, a porcentagem desse funcionario eh 0.00 \n",
      "o funcionario rosemary usou 789456125 que em mb fica 752.00, a porcentagem desse funcionario eh 29.18 \n",
      "o valor total usado de armazenamento eh 2577.0 mb\n"
     ]
    }
   ],
   "source": [
    "a = []\n",
    "ler = open('novo.txt','r')\n",
    "for n in ler:\n",
    "    nome, consumo = n.split(';')\n",
    "    consumo = int(consumo)\n",
    "    c = consumo / 1024\n",
    "    mb = c / 1024\n",
    " \n",
    "\n",
    "    if mb > 0:\n",
    "        a.append(mb)\n",
    "    \n",
    "    soma = 0\n",
    "    for i in (a):\n",
    "        if i > 0:\n",
    "            soma = soma + i \n",
    "            \n",
    "        porcentagem = (float(mb) / float(soma))*100\n",
    "          \n",
    "\n",
    "    print('o funcionario %s usou %d que em mb fica %.2f, a porcentagem desse funcionario eh %.2f '% (nome, consumo, mb, porcentagem))\n",
    "print('o valor total usado de armazenamento eh %.1f mb'% (soma))\n"
   ]
  },
  {
   "cell_type": "code",
   "execution_count": 82,
   "metadata": {},
   "outputs": [
    {
     "name": "stdout",
     "output_type": "stream",
     "text": [
      "2577\n"
     ]
    }
   ],
   "source": [
    "soma = 0\n",
    "for i in (a):\n",
    "    if i > 0:\n",
    "        soma = soma + i \n",
    "    \n",
    "print(soma)"
   ]
  },
  {
   "cell_type": "code",
   "execution_count": 119,
   "metadata": {},
   "outputs": [
    {
     "data": {
      "text/plain": [
       "29.181218471090414"
      ]
     },
     "execution_count": 119,
     "metadata": {},
     "output_type": "execute_result"
    }
   ],
   "source": [
    "porcentagem "
   ]
  },
  {
   "cell_type": "code",
   "execution_count": 83,
   "metadata": {},
   "outputs": [
    {
     "name": "stdout",
     "output_type": "stream",
     "text": [
      "[434, 1187, 117, 87, 752]\n"
     ]
    }
   ],
   "source": [
    "print(a)"
   ]
  },
  {
   "cell_type": "code",
   "execution_count": 23,
   "metadata": {},
   "outputs": [
    {
     "name": "stdout",
     "output_type": "stream",
     "text": [
      "{1: {'soma': 7.0, 'item': 'refrigerante', 'valor': 3.5}, 2: {'soma': 16.0, 'item': 'hamburguer', 'valor': 8.0}}\n"
     ]
    }
   ],
   "source": [
    "menu = {}\n",
    "id = 1\n",
    "abrir = open('cardapio.txt','r')\n",
    "for i in abrir:\n",
    "    item, valor = i.split(';')\n",
    " \n",
    "\n",
    "    menu[id] = {}\n",
    "    menu[id]['item'] = str(item)\n",
    "    menu[id]['valor'] = float(valor)\n",
    "    \n",
    "    id = id + 1\n",
    "    \n",
    "    for k in menu.keys():\n",
    "        menu[k]['soma'] = float(menu[k]['valor'] + menu[k]['valor'])\n",
    "        \n",
    "    \n",
    "print(menu)\n",
    "    "
   ]
  },
  {
   "cell_type": "code",
   "execution_count": 31,
   "metadata": {},
   "outputs": [
    {
     "ename": "SyntaxError",
     "evalue": "invalid syntax (<ipython-input-31-dc8836b5e579>, line 25)",
     "output_type": "error",
     "traceback": [
      "\u001b[0;36m  File \u001b[0;32m\"<ipython-input-31-dc8836b5e579>\"\u001b[0;36m, line \u001b[0;32m25\u001b[0m\n\u001b[0;31m    print('%s\\t%s\\t%f\\t%s\\t%.2f'%(k, uso[k]['nome'], uso[k]['consumo'], uso[k]['mega'], uso[k]['percentual']))\u001b[0m\n\u001b[0m        ^\u001b[0m\n\u001b[0;31mSyntaxError\u001b[0m\u001b[0;31m:\u001b[0m invalid syntax\n"
     ]
    }
   ],
   "source": [
    "print('id\\tnome\\tuso\\tdados') \n",
    "uso = {}\n",
    "id = 1\n",
    "abrir = open('empresa.txt','r')\n",
    "for l in abrir:\n",
    "    nome, consumo = l.split(';')\n",
    "    \n",
    "    uso[id] = {}\n",
    "    uso[id]['nome'] = nome\n",
    "    uso[id]['consumo'] = float(consumo)\n",
    "    \n",
    "    id = id + 1\n",
    "    \n",
    "    for k in uso.keys():\n",
    "        uso[k]['mega'] = ('%.2f' %(((uso[k]['consumo']) / 1024) / 1024))\n",
    "    \n",
    "    soma = float(0)\n",
    "    for k in uso.keys():\n",
    "        soma = soma + float(uso[k]['mega'])\n",
    "        \n",
    "    for k in uso.keys():\n",
    "        uso[k]['percentual'] = (float(uso[k]['mega'] / float(soma) * 100)\n",
    "\n",
    "\n",
    "    print('%s\\t%s\\t%f\\t%s\\t%.2f'%(k, uso[k]['nome'], uso[k]['consumo'], uso[k]['mega'], uso[k]['percentual']))\n",
    "    "
   ]
  },
  {
   "cell_type": "code",
   "execution_count": null,
   "metadata": {},
   "outputs": [],
   "source": []
  }
 ],
 "metadata": {
  "kernelspec": {
   "display_name": "Python 2",
   "language": "python",
   "name": "python2"
  },
  "language_info": {
   "codemirror_mode": {
    "name": "ipython",
    "version": 2
   },
   "file_extension": ".py",
   "mimetype": "text/x-python",
   "name": "python",
   "nbconvert_exporter": "python",
   "pygments_lexer": "ipython2",
   "version": "2.7.12"
  }
 },
 "nbformat": 4,
 "nbformat_minor": 2
}
