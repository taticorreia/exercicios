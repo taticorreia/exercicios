{
 "cells": [
  {
   "cell_type": "markdown",
   "metadata": {},
   "source": [
    "https://www.portalgsti.com.br/2018/04/manipulando-arquivos-de-texto-em-python.html"
   ]
  },
  {
   "cell_type": "markdown",
   "metadata": {},
   "source": [
    "http://www.devfuria.com.br/python/manipulando-arquivos-de-texto/"
   ]
  },
  {
   "cell_type": "markdown",
   "metadata": {},
   "source": [
    "https://panda.ime.usp.br/pensepy/static/pensepy/10-Arquivos/files.html"
   ]
  },
  {
   "cell_type": "code",
   "execution_count": 2,
   "metadata": {},
   "outputs": [],
   "source": [
    "arquivo = open(\"arquivo.txt\", \"w\")\n",
    "\n",
    "arquivo.write(\"Essa é a primeira linha escrita por nós. \\n\")\n",
    "arquivo.write(\"Essa é a nossa segunda linha.\")\n",
    "arquivo.write(\"Essa deveria ser a terceira linha porém ainda é a segunda. \\n\")\n",
    "arquivo.write(\"Essa sim é a terceira.\")\n",
    "\n",
    "arquivo.close()"
   ]
  },
  {
   "cell_type": "code",
   "execution_count": 3,
   "metadata": {},
   "outputs": [
    {
     "name": "stdout",
     "output_type": "stream",
     "text": [
      "Essa é a primeira linha escrita por nós. \n",
      "Essa é a nossa segunda linha.Essa deveria ser a terceira linha porém ainda é a segunda. \n",
      "Essa sim é a terceira.\n"
     ]
    }
   ],
   "source": [
    "arquivo = open(\"arquivo.txt\",\"r\")\n",
    "\n",
    "print arquivo.read()\n",
    "\n",
    "arquivo.close()"
   ]
  },
  {
   "cell_type": "markdown",
   "metadata": {},
   "source": [
    "novo exemplo\n"
   ]
  },
  {
   "cell_type": "code",
   "execution_count": 11,
   "metadata": {},
   "outputs": [
    {
     "name": "stdout",
     "output_type": "stream",
     "text": [
      "primeira linha\n",
      "\n",
      "segunda linha\n",
      "\n",
      "terceira linha\n",
      "\n",
      "quarta linha\n",
      "\n",
      "quinta linha\n"
     ]
    }
   ],
   "source": [
    "f = open('seu-arquivo.txt', 'r')\n",
    "for line in f:\n",
    "    print line"
   ]
  },
  {
   "cell_type": "code",
   "execution_count": 14,
   "metadata": {},
   "outputs": [
    {
     "data": {
      "text/plain": [
       "'primeira linha\\nsegunda linha\\nterceira linha\\nquarta linha\\nquinta linha'"
      ]
     },
     "execution_count": 14,
     "metadata": {},
     "output_type": "execute_result"
    }
   ],
   "source": [
    "f = open('seu-arquivo.txt', 'r')\n",
    "f.read()\n"
   ]
  },
  {
   "cell_type": "code",
   "execution_count": null,
   "metadata": {},
   "outputs": [],
   "source": []
  }
 ],
 "metadata": {
  "kernelspec": {
   "display_name": "Python 2",
   "language": "python",
   "name": "python2"
  },
  "language_info": {
   "codemirror_mode": {
    "name": "ipython",
    "version": 2
   },
   "file_extension": ".py",
   "mimetype": "text/x-python",
   "name": "python",
   "nbconvert_exporter": "python",
   "pygments_lexer": "ipython2",
   "version": "2.7.12"
  }
 },
 "nbformat": 4,
 "nbformat_minor": 2
}
