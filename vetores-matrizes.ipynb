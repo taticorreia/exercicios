{
 "cells": [
  {
   "cell_type": "markdown",
   "metadata": {},
   "source": [
    "# Vetores e Matrizes"
   ]
  },
  {
   "cell_type": "markdown",
   "metadata": {},
   "source": [
    "<div style=\"text-align:justify\">\n",
    "Vetores e matrizes são estruturas de dados que permitem armazenar e manipular valores. Estas estruturas possibilitam resolver diversos problemas e trazem muitas aplicações. A seguir, alguns dos problemas que podem ser resolvidos com vetores e matrizes:\n",
    "</div>"
   ]
  },
  {
   "cell_type": "markdown",
   "metadata": {},
   "source": [
    "- Facilita a ordenação de valores numéricos\n",
    "- Permite armazenar listas de dados\n",
    "- Muito útil para operações matemática (e para IA)"
   ]
  },
  {
   "cell_type": "markdown",
   "metadata": {},
   "source": [
    "## Vetor"
   ]
  },
  {
   "cell_type": "markdown",
   "metadata": {},
   "source": [
    "Declarando um vetor com valores:"
   ]
  },
  {
   "cell_type": "code",
   "execution_count": 2,
   "metadata": {},
   "outputs": [
    {
     "name": "stdout",
     "output_type": "stream",
     "text": [
      "[17, -2, 22, 11]\n"
     ]
    }
   ],
   "source": [
    "v = [17, -2, 22, 11]\n",
    "print(v)"
   ]
  },
  {
   "cell_type": "markdown",
   "metadata": {},
   "source": [
    "A seguir, usamos a função `len()` para calcular a quantidade de elementos do vetor:"
   ]
  },
  {
   "cell_type": "code",
   "execution_count": 3,
   "metadata": {},
   "outputs": [
    {
     "name": "stdout",
     "output_type": "stream",
     "text": [
      "4\n"
     ]
    }
   ],
   "source": [
    "tamanho = len(v)\n",
    "print(tamanho)"
   ]
  },
  {
   "cell_type": "markdown",
   "metadata": {},
   "source": [
    "### Percorrendo Vetor"
   ]
  },
  {
   "cell_type": "markdown",
   "metadata": {},
   "source": [
    "Método trabalhos (item a item):"
   ]
  },
  {
   "cell_type": "code",
   "execution_count": 7,
   "metadata": {},
   "outputs": [
    {
     "name": "stdout",
     "output_type": "stream",
     "text": [
      "Valor: 17\n",
      "Valor: -2\n",
      "Valor: 22\n",
      "Valor: 11\n"
     ]
    }
   ],
   "source": [
    "print('Valor: %d' % (v[0]))\n",
    "print('Valor: %d' % (v[1]))\n",
    "print('Valor: %d' % (v[2]))\n",
    "print('Valor: %d' % (v[3]))"
   ]
  },
  {
   "cell_type": "markdown",
   "metadata": {},
   "source": [
    "Usando um loop while:"
   ]
  },
  {
   "cell_type": "code",
   "execution_count": 9,
   "metadata": {},
   "outputs": [
    {
     "name": "stdout",
     "output_type": "stream",
     "text": [
      "Valor: 17\n",
      "Valor: -2\n",
      "Valor: 22\n",
      "Valor: 11\n"
     ]
    }
   ],
   "source": [
    "posicao = 0 # variável contadora\n",
    "\n",
    "while posicao < len(v): # loop começa em 0 e vai até o tamanho do vetor\n",
    "    print('Valor: %d' % (v[posicao]))\n",
    "    posicao = posicao + 1"
   ]
  },
  {
   "cell_type": "markdown",
   "metadata": {},
   "source": [
    "Usando um loop for:"
   ]
  },
  {
   "cell_type": "code",
   "execution_count": 10,
   "metadata": {},
   "outputs": [
    {
     "name": "stdout",
     "output_type": "stream",
     "text": [
      "Valor: 17\n",
      "Valor: -2\n",
      "Valor: 22\n",
      "Valor: 11\n"
     ]
    }
   ],
   "source": [
    "for posicao in range(len(v)):\n",
    "    print('Valor: %d' % (v[posicao]))"
   ]
  },
  {
   "cell_type": "markdown",
   "metadata": {},
   "source": [
    "Iterando diretamente sobre os valores:"
   ]
  },
  {
   "cell_type": "code",
   "execution_count": 12,
   "metadata": {},
   "outputs": [
    {
     "name": "stdout",
     "output_type": "stream",
     "text": [
      "Valor: 17\n",
      "Valor: -2\n",
      "Valor: 22\n",
      "Valor: 11\n"
     ]
    }
   ],
   "source": [
    "for valor in v:\n",
    "    print('Valor: %d' % (valor))"
   ]
  },
  {
   "cell_type": "markdown",
   "metadata": {},
   "source": [
    "## Matrizes"
   ]
  },
  {
   "cell_type": "markdown",
   "metadata": {},
   "source": [
    "Declarando uma matriz"
   ]
  },
  {
   "cell_type": "code",
   "execution_count": 3,
   "metadata": {},
   "outputs": [
    {
     "name": "stdout",
     "output_type": "stream",
     "text": [
      "[[10, -4, 22], [11, 12, 19]]\n"
     ]
    }
   ],
   "source": [
    "m = [\n",
    "    [10, -4, 22],\n",
    "    [11, 12, 19]\n",
    "]\n",
    "\n",
    "print(m)"
   ]
  },
  {
   "cell_type": "markdown",
   "metadata": {},
   "source": [
    "`m` é uma matriz de duas linhas e três colunas.\n",
    "\n",
    "A seguir, veremos como obter o tamanho de uma matriz:"
   ]
  },
  {
   "cell_type": "code",
   "execution_count": null,
   "metadata": {},
   "outputs": [],
   "source": []
  },
  {
   "cell_type": "code",
   "execution_count": 3,
   "metadata": {},
   "outputs": [
    {
     "name": "stdout",
     "output_type": "stream",
     "text": [
      "Matriz: 2 x 3\n"
     ]
    }
   ],
   "source": [
    "linhas = len(m)\n",
    "colunas = len(m[0])\n",
    "\n",
    "print('Matriz: %d x %d' % (linhas, colunas))"
   ]
  },
  {
   "cell_type": "markdown",
   "metadata": {},
   "source": [
    "### Percorrendo Matriz"
   ]
  },
  {
   "cell_type": "markdown",
   "metadata": {},
   "source": [
    "Modelo trabalhoso (item a item):"
   ]
  },
  {
   "cell_type": "code",
   "execution_count": 4,
   "metadata": {},
   "outputs": [
    {
     "name": "stdout",
     "output_type": "stream",
     "text": [
      "Valor: 10\n",
      "Valor: -4\n",
      "Valor: 22\n",
      "Valor: 11\n",
      "Valor: 12\n",
      "Valor: 19\n"
     ]
    }
   ],
   "source": [
    "# linha 1\n",
    "print('Valor: %d' % (m[0][0]))\n",
    "print('Valor: %d' % (m[0][1]))\n",
    "print('Valor: %d' % (m[0][2]))\n",
    "# linha 2\n",
    "print('Valor: %d' % (m[1][0]))\n",
    "print('Valor: %d' % (m[1][1]))\n",
    "print('Valor: %d' % (m[1][2]))"
   ]
  },
  {
   "cell_type": "markdown",
   "metadata": {},
   "source": [
    "Usando um loop while:"
   ]
  },
  {
   "cell_type": "code",
   "execution_count": 5,
   "metadata": {},
   "outputs": [
    {
     "name": "stdout",
     "output_type": "stream",
     "text": [
      "Valor: 10\n",
      "Valor: -4\n",
      "Valor: 22\n",
      "Valor: 11\n",
      "Valor: 12\n",
      "Valor: 19\n"
     ]
    }
   ],
   "source": [
    "linha = 0\n",
    "while linha < len(m):\n",
    "    coluna = 0\n",
    "    \n",
    "    while coluna < len(m[0]):\n",
    "        print('Valor: %d' % (m[linha][coluna]))\n",
    "        coluna = coluna + 1\n",
    "\n",
    "    linha = linha + 1\n",
    "\n",
    "    "
   ]
  },
  {
   "cell_type": "markdown",
   "metadata": {},
   "source": [
    "Usando loop for:"
   ]
  },
  {
   "cell_type": "code",
   "execution_count": 6,
   "metadata": {},
   "outputs": [
    {
     "name": "stdout",
     "output_type": "stream",
     "text": [
      "Valor: 10\n",
      "Valor: -4\n",
      "Valor: 22\n",
      "Valor: 11\n",
      "Valor: 12\n",
      "Valor: 19\n"
     ]
    }
   ],
   "source": [
    "for linha in range(len(m)):\n",
    "    for coluna in range(len(m[0])):\n",
    "        print('Valor: %d' % (m[linha][coluna]))"
   ]
  },
  {
   "cell_type": "markdown",
   "metadata": {},
   "source": [
    "Iteração diretamente sobre os valores:"
   ]
  },
  {
   "cell_type": "code",
   "execution_count": 27,
   "metadata": {},
   "outputs": [
    {
     "name": "stdout",
     "output_type": "stream",
     "text": [
      "Valor: 10\n",
      "Valor: -4\n",
      "Valor: 22\n",
      "Valor: 11\n",
      "Valor: 12\n",
      "Valor: 19\n"
     ]
    }
   ],
   "source": [
    "for vetor_linha in m:\n",
    "    for valor_coluna in vetor_linha:\n",
    "        print('Valor: %d' % (valor_coluna))"
   ]
  },
  {
   "cell_type": "markdown",
   "metadata": {},
   "source": [
    "## Exercícios"
   ]
  },
  {
   "cell_type": "markdown",
   "metadata": {},
   "source": [
    "Escreve um algoritmo que calcula a transposta da matriz `a` a seguir e armazene em uma matriz `b`. Imprima a matriz `b` ao final.\n",
    "\n",
    "<pre>\n",
    "[\n",
    "    [10, -1, 14],\n",
    "    [15, 10, -3]\n",
    "]\n",
    "</pre>"
   ]
  },
  {
   "cell_type": "markdown",
   "metadata": {},
   "source": [
    "Escreva um algoritmo que multiplique as matrizes `a` e `b` a seguir e armazene o resultado na matriz `c`. Imprima a matriz `c` no final.\n",
    "\n",
    "<pre>\n",
    "\n",
    "a:\n",
    "[\n",
    "    [10, -1, 14],\n",
    "    [15, 10, -3]\n",
    "]\n",
    "\n",
    "b:\n",
    "[\n",
    "    [-2, 20],\n",
    "    [15, 17],\n",
    "    [-4, 10]\n",
    "]\n",
    "</pre>"
   ]
  },
  {
   "cell_type": "markdown",
   "metadata": {},
   "source": [
    "#### Observação:\n",
    "\n",
    "Cada exercicio deve ser feito usando `while` e `for range`."
   ]
  },
  {
   "cell_type": "code",
   "execution_count": null,
   "metadata": {},
   "outputs": [],
   "source": []
  }
 ],
 "metadata": {
  "kernelspec": {
   "display_name": "Python 2",
   "language": "python",
   "name": "python2"
  },
  "language_info": {
   "codemirror_mode": {
    "name": "ipython",
    "version": 2
   },
   "file_extension": ".py",
   "mimetype": "text/x-python",
   "name": "python",
   "nbconvert_exporter": "python",
   "pygments_lexer": "ipython2",
   "version": "2.7.12"
  }
 },
 "nbformat": 4,
 "nbformat_minor": 2
}
