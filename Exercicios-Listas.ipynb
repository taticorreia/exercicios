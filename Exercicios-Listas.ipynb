{
 "cells": [
  {
   "cell_type": "markdown",
   "metadata": {},
   "source": [
    "https://wiki.python.org.br/ExerciciosListas"
   ]
  },
  {
   "cell_type": "markdown",
   "metadata": {},
   "source": [
    "## Faça um Programa que leia um vetor de 5 números inteiros e mostre-os."
   ]
  },
  {
   "cell_type": "code",
   "execution_count": 1,
   "metadata": {},
   "outputs": [
    {
     "name": "stdout",
     "output_type": "stream",
     "text": [
      "1\n",
      "3\n",
      "4\n",
      "5\n",
      "6\n"
     ]
    }
   ],
   "source": [
    "n = [1,3,4,5,6]\n",
    "\n",
    "for i in n:\n",
    "    print i"
   ]
  },
  {
   "cell_type": "markdown",
   "metadata": {},
   "source": [
    "### Faça um Programa que leia um vetor de 10 números reais e mostre-os na ordem inversa."
   ]
  },
  {
   "cell_type": "code",
   "execution_count": 82,
   "metadata": {},
   "outputs": [
    {
     "name": "stdout",
     "output_type": "stream",
     "text": [
      "[10, 9, 8, 7, 6, 5, 4, 3, 2, 1]\n"
     ]
    }
   ],
   "source": [
    "o = [1,2,3,4,5,6,7,8,9,10]\n",
    "ord = sorted(o)\n",
    "print ord[9::-1]\n",
    "    \n",
    "    \n"
   ]
  },
  {
   "cell_type": "markdown",
   "metadata": {},
   "source": [
    "### Faça um Programa que leia 4 notas, mostre as notas e a média na tela."
   ]
  },
  {
   "cell_type": "code",
   "execution_count": 91,
   "metadata": {},
   "outputs": [
    {
     "name": "stdout",
     "output_type": "stream",
     "text": [
      "informe uma nota:4\n",
      "informe uma nota:5\n",
      "informe uma nota:6\n",
      "informe uma nota:3\n",
      "suas notas foram [4, 5, 6, 3], ficando com uma media de 4.50\n"
     ]
    }
   ],
   "source": [
    "v = []\n",
    "soma = float(0)\n",
    "for i in range(4):\n",
    "    nota = int(input('informe uma nota:'))\n",
    "    v.append(nota)\n",
    "    soma = soma + nota\n",
    "    media = soma / float(4)\n",
    "    \n",
    "    \n",
    "    \n",
    "print('suas notas foram %s, ficando com uma media de %.2f' % (v, media))\n",
    "    "
   ]
  },
  {
   "cell_type": "markdown",
   "metadata": {},
   "source": [
    "### Faça um Programa que leia um vetor de 10 caracteres, e diga quantas consoantes foram lidas. Imprima as consoantes."
   ]
  },
  {
   "cell_type": "code",
   "execution_count": null,
   "metadata": {},
   "outputs": [],
   "source": []
  },
  {
   "cell_type": "markdown",
   "metadata": {},
   "source": [
    "### Faça um Programa que peça as quatro notas de 5 alunos, calcule e armazene num vetor a média de cada aluno, imprima o número de alunos com média maior ou igual a 7.0.\\\n"
   ]
  },
  {
   "cell_type": "code",
   "execution_count": 49,
   "metadata": {},
   "outputs": [
    {
     "name": "stdout",
     "output_type": "stream",
     "text": [
      "informe sua nota: 5\n",
      "informe sua nota: 6\n",
      "informe sua nota: 7\n",
      "informe sua nota: 4\n",
      "[5.5]\n",
      "informe sua nota: 7\n",
      "informe sua nota: 8\n",
      "informe sua nota: 9\n",
      "informe sua nota: 12\n",
      "[5.5, 9.0]\n",
      "informe sua nota: 12\n",
      "informe sua nota: 3\n",
      "informe sua nota: 4\n",
      "informe sua nota: 6\n",
      "[5.5, 9.0, 6.25]\n",
      "informe sua nota: 7\n",
      "informe sua nota: 7\n",
      "informe sua nota: 7\n",
      "informe sua nota: 7\n",
      "[5.5, 9.0, 6.25, 7.0]\n",
      "informe sua nota: 8\n",
      "informe sua nota: 8\n",
      "informe sua nota: 8\n",
      "informe sua nota: 8\n",
      "[5.5, 9.0, 6.25, 7.0, 8.0]\n",
      "A quantidade de alunos a tirar media maior que 7 sao: 3\n"
     ]
    }
   ],
   "source": [
    "v_media = []\n",
    "for i in range(5):\n",
    "    soma = 0\n",
    "    for n in range(4):\n",
    "        nota = float(input('informe sua nota: '))\n",
    "        soma = soma + nota\n",
    "        \n",
    "    media_aluno = soma / 4\n",
    "    \n",
    "    v_media.append(media_aluno)\n",
    "    \n",
    "    print(v_media)\n",
    "\n",
    "c = []\n",
    "\n",
    "for i in v_media:\n",
    "    if i >= 7:\n",
    "        c.append(i)\n",
    "        \n",
    "    \n",
    "print('A quantidade de alunos a tirar media maior que 7 sao: %d'%(len(c)))\n",
    "    \n",
    "    \n",
    "    "
   ]
  },
  {
   "cell_type": "markdown",
   "metadata": {},
   "source": [
    "### Faça um Programa que leia um vetor de 5 números inteiros, mostre a soma, a multiplicação e os números."
   ]
  },
  {
   "cell_type": "code",
   "execution_count": 63,
   "metadata": {},
   "outputs": [
    {
     "name": "stdout",
     "output_type": "stream",
     "text": [
      "('Os numeros do vetor c sao', [12, 5, 6, 2, 4])\n",
      "a soma do vetor c sera 29\n",
      "a multiplicacao do vetor c sera 2880\n"
     ]
    }
   ],
   "source": [
    "c = [12,5,6,2,4]\n",
    "multiplicacao = 1\n",
    "soma = 0\n",
    "for i in (c):\n",
    "    soma = soma + i\n",
    "    multiplicacao = multiplicacao * i\n",
    "    \n",
    "print('Os numeros do vetor c sao',c)    \n",
    "print('a soma do vetor c sera %d'% (soma))\n",
    "print('a multiplicacao do vetor c sera %d' % (multiplicacao))\n",
    "\n"
   ]
  },
  {
   "cell_type": "markdown",
   "metadata": {},
   "source": [
    "## Faça um Programa que peça a idade e a altura de 5 pessoas, armazene cada informação no seu respectivo vetor. Imprima a idade e a altura na ordem inversa a ordem lida."
   ]
  },
  {
   "cell_type": "code",
   "execution_count": 99,
   "metadata": {},
   "outputs": [
    {
     "name": "stdout",
     "output_type": "stream",
     "text": [
      "itat\n"
     ]
    }
   ],
   "source": [
    "palavra = 'tati'\n",
    "inverso = ''\n",
    "cont = len(palavra) -1\n",
    "while cont > -1:\n",
    "    \n",
    "    inverso = inverso + palavra[cont]\n",
    "    \n",
    "    cont = cont - 1\n",
    "print inverso      "
   ]
  },
  {
   "cell_type": "code",
   "execution_count": 104,
   "metadata": {},
   "outputs": [
    {
     "name": "stdout",
     "output_type": "stream",
     "text": [
      "informe sua idade: 48\n",
      "informe sua altura: 1.2\n",
      "informe sua idade: 49\n",
      "informe sua altura: 1.3\n",
      "[49, 48]\n",
      "[1.3, 1.2]\n"
     ]
    }
   ],
   "source": [
    "li = []\n",
    "la = []\n",
    "for i in range(2):\n",
    "    idade = int(input('informe sua idade: '))\n",
    "    altura = float(input('informe sua altura: '))\n",
    "    li = li + [idade]\n",
    "    la = la + [altura]\n",
    "    \n",
    "print(li[::-1])\n",
    "print(la[::-1])"
   ]
  },
  {
   "cell_type": "markdown",
   "metadata": {},
   "source": [
    "### Foram anotadas as idades e alturas de 5 alunos. Faça um Programa que determine quantos alunos com mais de 13 anos possuem altura inferior à média de altura desses alunos."
   ]
  },
  {
   "cell_type": "code",
   "execution_count": 165,
   "metadata": {},
   "outputs": [
    {
     "name": "stdout",
     "output_type": "stream",
     "text": [
      "a media de altura dos 5 alunos eh: 1.67\n",
      "a quantidade de alunos acima de 13 anos fora da media 1.67 de altura sao: 1\n"
     ]
    }
   ],
   "source": [
    "\n",
    "def media(altura):\n",
    "    \n",
    "    soma = float(0)\n",
    "    for i in altura:\n",
    "        soma = soma + i\n",
    "        media = soma / len(altura)\n",
    "    return(media)\n",
    "\n",
    "\n",
    "idade = [13,16,12,11,13]\n",
    "altura = [1.63,1.76,1.65,1.54,1.79]\n",
    "\n",
    "media_altura = media(altura)\n",
    "print ('a media de altura dos 5 alunos eh: %.2f' % (media_altura))\n",
    "\n",
    "a = float(0)\n",
    "for k in range (len(idade)):\n",
    "    if idade[k] >= 13 and altura[k]< media_altura:\n",
    "        a = a + 1\n",
    "\n",
    "print('a quantidade de alunos acima de 13 anos fora da media %.2f de altura sao: %d'% (media_altura, a))\n",
    "        \n",
    "\n",
    "\n",
    "        "
   ]
  },
  {
   "cell_type": "code",
   "execution_count": 193,
   "metadata": {},
   "outputs": [
    {
     "name": "stdout",
     "output_type": "stream",
     "text": [
      "[13, 16, 13]\n"
     ]
    }
   ],
   "source": [
    "a = []\n",
    "idade = [13,16,12,11,13]\n",
    "for i in range(len(idade)):\n",
    "    if idade[i] >= 13:\n",
    "        a.append(idade[i])\n",
    "print(a)"
   ]
  },
  {
   "cell_type": "markdown",
   "metadata": {},
   "source": [
    "### Faça um programa que receba a temperatura média de cada mês do ano e armazene-as em uma lista. Após isto, calcule a média anual das temperaturas e mostre todas as temperaturas acima da média anual, e em que mês elas ocorreram (mostrar o mês por extenso: 1 – Janeiro, 2 – Fevereiro, . . . ).\n",
    "        "
   ]
  },
  {
   "cell_type": "code",
   "execution_count": 22,
   "metadata": {},
   "outputs": [
    {
     "name": "stdout",
     "output_type": "stream",
     "text": [
      "informe a temperatura do mes: 37\n",
      "informe a temperatura do mes: 32\n",
      "informe a temperatura do mes: 24\n",
      "informe a temperatura do mes: 15\n",
      " a temperaura media eh 27\n",
      "('as temperaturas acima da media sao:', [37.0, 32.0])\n"
     ]
    }
   ],
   "source": [
    "def media(temperatura):\n",
    "    soma = float(0)\n",
    "    for j in temperatura:\n",
    "        soma = soma + j\n",
    "    media = soma / len(temperatura)\n",
    "    return media\n",
    "    \n",
    "m = []\n",
    "for i in range(4):\n",
    "    mes = float(input('informe a temperatura do mes: '))\n",
    "    m.append(mes)\n",
    "    \n",
    "media = media(m)\n",
    "\n",
    "a = []\n",
    "for j in range(len(m)):\n",
    "    if m[j] >= media:\n",
    "        a.append(m[j])\n",
    "        \n",
    "print(' a temperaura media eh %2.f'% (media))\n",
    "print('as temperaturas acima da media sao:', a)\n"
   ]
  },
  {
   "cell_type": "markdown",
   "metadata": {},
   "source": [
    "#### "
   ]
  },
  {
   "cell_type": "code",
   "execution_count": 29,
   "metadata": {},
   "outputs": [
    {
     "name": "stdout",
     "output_type": "stream",
     "text": [
      "informe a temperatura do mes: Janeiro4\n",
      "informe a temperatura do mes: Fevereiro4\n",
      "informe a temperatura do mes: Marco4\n",
      "informe a temperatura do mes: Abril4\n",
      "informe a temperatura do mes: Maio5\n",
      "informe a temperatura do mes: Junho63\n",
      "informe a temperatura do mes: Julho5\n",
      "informe a temperatura do mes: Agosto6\n",
      "informe a temperatura do mes: Setembro6\n",
      "informe a temperatura do mes: Outubro6\n",
      "informe a temperatura do mes: Novembro6\n",
      "informe a temperatura do mes: Dezembro6\n",
      " a temperaura media eh: 10 \n",
      "as temperaturas acima da media sao: {'Junho': 63.0} \n"
     ]
    }
   ],
   "source": [
    "def media(temperatura):\n",
    "    soma = float(0)\n",
    "    for j in temperatura:\n",
    "        soma = soma + j\n",
    "    media = soma / len(temperatura)\n",
    "    return media\n",
    "\n",
    "meses = ['Janeiro','Fevereiro','Marco','Abril', 'Maio', 'Junho', 'Julho', 'Agosto', 'Setembro', 'Outubro', 'Novembro', 'Dezembro']\n",
    "m = []\n",
    "for i in range(len(meses)):\n",
    "    m.append(float(input('informe a temperatura do mes: '+ meses[i])))\n",
    "    \n",
    "media = media(m)\n",
    "\n",
    "a = {}\n",
    "for j in range(len(meses)):\n",
    "    if m[j] > media:\n",
    "        a.update({meses[j] : m[j]})\n",
    "        \n",
    "print(' a temperaura media eh: %2.f ' %(media))\n",
    "print('as temperaturas acima da media sao: %s '%(a))"
   ]
  },
  {
   "cell_type": "markdown",
   "metadata": {},
   "source": [
    "### Utilizando listas faça um programa que faça 5 perguntas para uma pessoa sobre um crime. As perguntas são:\n",
    "\"Telefonou para a vítima?\"\n",
    "\"Esteve no local do crime?\"\n",
    "\"Mora perto da vítima?\"\n",
    "\"Devia para a vítima?\"\n",
    "\"Já trabalhou com a vítima?\" O programa deve no final emitir uma classificação sobre a participação da pessoa no crime. Se a pessoa responder positivamente a 2 questões ela deve ser classificada como \"Suspeita\", entre 3 e 4 como \"Cúmplice\" e 5 como \"Assassino\". Caso contrário, ele será classificado como \"Inocente\"."
   ]
  },
  {
   "cell_type": "code",
   "execution_count": 1,
   "metadata": {},
   "outputs": [
    {
     "name": "stdout",
     "output_type": "stream",
     "text": [
      "Telefonou para a vitima?: sim\n",
      "Esteve no local do crime?: sim\n",
      "Mora perto da vitima?: sim\n",
      "Devia para a vitima?: sim\n",
      "Ja trabalhou com a vitima?: sim\n",
      "Assassino\n"
     ]
    }
   ],
   "source": [
    "a = []\n",
    "telefonou = a.append(raw_input('Telefonou para a vitima?: '))\n",
    "local = a.append(raw_input('Esteve no local do crime?: '))\n",
    "moradia = a.append(raw_input('Mora perto da vitima?: '))\n",
    "divida = a.append(raw_input('Devia para a vitima?: '))\n",
    "trabalho = a.append(raw_input('Ja trabalhou com a vitima?: '))\n",
    "\n",
    "sim = 0\n",
    "nao = 0\n",
    "for j in range(len(a)):\n",
    "    if a[j] == str('sim'):\n",
    "        sim = sim + 1\n",
    "    if a[j] == str('nao'):\n",
    "        nao = nao + 1\n",
    "if sim == 2:\n",
    "    print('Suspeita')\n",
    "    \n",
    "if sim == 3:\n",
    "    print('Cumplice')\n",
    "    \n",
    "if sim == 4:\n",
    "    print('Cumplice')\n",
    "\n",
    "if sim == 5:\n",
    "    print('Assassino')\n",
    "    \n",
    "if sim == 1:\n",
    "    print('Inocente')\n",
    "\n",
    "    "
   ]
  },
  {
   "cell_type": "markdown",
   "metadata": {},
   "source": [
    "### Faça um programa que receba a temperatura média de cada mês do ano e armazene-as em uma lista. Após isto, calcule a média anual das temperaturas e mostre todas as temperaturas acima da média anual, e em que mês elas ocorreram (mostrar o mês por extenso: 1 – Janeiro, 2 – Fevereiro, . . . )."
   ]
  },
  {
   "cell_type": "code",
   "execution_count": 1,
   "metadata": {},
   "outputs": [
    {
     "name": "stdout",
     "output_type": "stream",
     "text": [
      "Temperatura de janeiro34\n",
      "Temperatura de fevereiro4\n",
      "Temperatura de marco5\n",
      "Temperatura de abril3\n",
      "Temperatura de maio2\n",
      "Temperatura de junho4\n",
      "Temperatura de julho5\n",
      "Temperatura de agosto65\n",
      "Temperatura de setembro4\n",
      "Temperatura de outubro3\n",
      "Temperatura de novembro6\n",
      "Temperatura de dezembro7\n",
      "{'novembro': 6.0, 'marco': 5.0, 'fevereiro': 4.0, 'junho': 4.0, 'julho': 5.0, 'janeiro': 34.0, 'abril': 3.0, 'maio': 2.0, 'outubro': 3.0, 'setembro': 4.0, 'agosto': 65.0, 'dezembro': 7.0}\n"
     ]
    }
   ],
   "source": [
    "def media(temperatura):\n",
    "    soma = float(0)\n",
    "    for i in temperatura:\n",
    "        soma = soma + i\n",
    "    \n",
    "    media = soma / len(temperatura)\n",
    "    \n",
    "    return media\n",
    "\n",
    "a = []\n",
    "mes = ['janeiro','fevereiro','marco','abril','maio','junho','julho','agosto','setembro','outubro','novembro','dezembro']\n",
    "for i in range(len(mes)):\n",
    "    temperatura = a.append(float(input('Temperatura de '+ mes[i])))\n",
    "media = media(a)\n",
    "    \n",
    "dic = {}\n",
    "for j in range(len(a)):\n",
    "    dic.update({mes[j]:a[j]})\n",
    "    \n",
    "\n",
    "print(dic)\n",
    "        "
   ]
  },
  {
   "cell_type": "markdown",
   "metadata": {},
   "source": [
    "### Faça um programa que leia um número indeterminado de valores, correspondentes a notas, encerrando a entrada de dados quando for informado um valor igual a -1 (que não deve ser armazenado). Após esta entrada de dados, faça:\n",
    "Mostre a quantidade de valores que foram lidos;\n",
    "Exiba todos os valores na ordem em que foram informados, um ao lado do outro;\n",
    "Exiba todos os valores na ordem inversa à que foram informados, um abaixo do outro;\n",
    "Calcule e mostre a soma dos valores;\n",
    "Calcule e mostre a média dos valores;\n",
    "Calcule e mostre a quantidade de valores acima da média calculada;\n",
    "Calcule e mostre a quantidade de valores abaixo de sete;\n",
    "Encerre o programa com uma mensagem;"
   ]
  },
  {
   "cell_type": "code",
   "execution_count": 14,
   "metadata": {},
   "outputs": [
    {
     "name": "stdout",
     "output_type": "stream",
     "text": [
      "informe um numero ou -1 para finalizar: 45\n",
      "informe um numero ou -1 para finalizar: 2\n",
      "informe um numero ou -1 para finalizar: 3\n",
      "informe um numero ou -1 para finalizar: 98\n",
      "informe um numero ou -1 para finalizar: 4\n",
      "informe um numero ou -1 para finalizar: -1\n",
      "a soma dos numero digitados sao 152\n",
      "a media dos numero digitados sao 30\n",
      "('a ordem inversa dos numeros digitados sao:', [4.0, 98.0, 3.0, 2.0, 45.0])\n",
      "('a quantidade de valores acima da media eh: ', 2)\n",
      "('a quantidade de valores abaixo de 7 sao: ', 3)\n"
     ]
    }
   ],
   "source": [
    "numero = float(input('informe um numero ou -1 para finalizar: '))\n",
    "a = []\n",
    "soma = float(0)\n",
    "while numero != -1:\n",
    "    soma = soma + numero\n",
    "    a.append(numero)\n",
    "    numero = float(input('informe um numero ou -1 para finalizar: '))\n",
    "\n",
    "media = float(soma) / len(a)\n",
    "acima = []   \n",
    "abaixo = []\n",
    "for i in range(len(a)):\n",
    "    if a[i] > media:\n",
    "        acima.append(a[i])\n",
    "    if a[i] < 7:\n",
    "        abaixo.append(a[i])\n",
    "        \n",
    "print ('a soma dos numero digitados sao %d'%(soma))\n",
    "print ('a media dos numero digitados sao %2.f'% (media))\n",
    "print('a ordem inversa dos numeros digitados sao:', a[::-1])\n",
    "print('a quantidade de valores acima da media eh: ', len(acima))\n",
    "print('a quantidade de valores abaixo de 7 sao: ', len(abaixo))\n",
    "\n",
    "\n",
    "\n",
    "   "
   ]
  },
  {
   "cell_type": "code",
   "execution_count": 15,
   "metadata": {},
   "outputs": [
    {
     "name": "stdout",
     "output_type": "stream",
     "text": [
      "seu nome:tati\n",
      "itat\n"
     ]
    }
   ],
   "source": [
    "def inverso(palavra):\n",
    "    inversa = ''\n",
    "    cont = len(palavra) -1\n",
    "    while cont >= 0:\n",
    "        inversa = inversa + palavra[cont]\n",
    "        \n",
    "        cont = cont - 1\n",
    "    return inversa\n",
    "\n",
    "palavra = raw_input('seu nome:')\n",
    "inverso = inverso(palavra)\n",
    "\n",
    "print(inverso)"
   ]
  },
  {
   "cell_type": "markdown",
   "metadata": {},
   "source": [
    "<pre>\n",
    "Utilize uma lista para resolver o problema a seguir. Uma empresa paga seus vendedores com base em comissões. O vendedor recebe $200 por semana mais 9 por cento de suas vendas brutas daquela semana. Por exemplo, um vendedor que teve vendas brutas de $3000 em uma semana recebe $200 mais 9 por cento de $3000, ou seja, um total de $470. Escreva um programa (usando um array de contadores) que determine quantos vendedores receberam salários nos seguintes intervalos de valores:\n",
    "$200 - $299\n",
    "$300 - $399\n",
    "$400 - $499\n",
    "$500 - $599\n",
    "$600 - $699\n",
    "$700 - $799\n",
    "$800 - $899\n",
    "$900 - $999\n",
    "$1000 em diante\n",
    "Desafio: Crie ma fórmula para chegar na posição da lista a partir do salário, sem fazer vários ifs aninhados.\n",
    "</pre>"
   ]
  },
  {
   "cell_type": "code",
   "execution_count": 15,
   "metadata": {},
   "outputs": [
    {
     "ename": "NameError",
     "evalue": "name 'uuuuuuuuu' is not defined",
     "output_type": "error",
     "traceback": [
      "\u001b[0;31m---------------------------------------------------------------------------\u001b[0m",
      "\u001b[0;31mNameError\u001b[0m                                 Traceback (most recent call last)",
      "\u001b[0;32m<ipython-input-15-10c43ca9a21c>\u001b[0m in \u001b[0;36m<module>\u001b[0;34m()\u001b[0m\n\u001b[0;32m----> 1\u001b[0;31m \u001b[0muuuuuuuuu\u001b[0m\u001b[0;34m\u001b[0m\u001b[0m\n\u001b[0m",
      "\u001b[0;31mNameError\u001b[0m: name 'uuuuuuuuu' is not defined"
     ]
    }
   ],
   "source": [
    "uuuuuuuuu"
   ]
  },
  {
   "cell_type": "markdown",
   "metadata": {},
   "source": [
    "\n",
    "### Em uma competição de salto em distância cada atleta tem direito a cinco saltos. O resultado do atleta será determinado pela média dos cinco valores restantes. Você deve fazer um programa que receba o nome e as cinco distâncias alcançadas pelo atleta em seus saltos e depois informe o nome, os saltos e a média dos saltos. O programa deve ser encerrado quando não for informado o nome do atleta. A saída do programa deve ser conforme o exemplo abaixo:\n",
    "\n",
    "<pre>Atleta: Rodrigo Curvêllo\n",
    " \n",
    "Primeiro Salto: 6.5 m\n",
    "Segundo Salto: 6.1 m\n",
    "Terceiro Salto: 6.2 m\n",
    "Quarto Salto: 5.4 m\n",
    "Quinto Salto: 5.3 m\n",
    "\n",
    "Resultado final:\n",
    "Atleta: Rodrigo Curvêllo\n",
    "Saltos: 6.5 - 6.1 - 6.2 - 5.4 - 5.3\n",
    "Média dos saltos: 5.9 m </pre>"
   ]
  },
  {
   "cell_type": "code",
   "execution_count": 28,
   "metadata": {},
   "outputs": [
    {
     "name": "stdout",
     "output_type": "stream",
     "text": [
      "Resultado final:\n",
      "Atleta: Tatiane\n",
      "primeiro salto6.5\n",
      "segundo salto6.1\n",
      "terceiro salto6.2\n",
      "quarto salto5.4\n",
      "quinto salto5.3\n",
      "('Saltos: ', [6.5, 6.1, 6.2, 5.4, 5.3])\n",
      "('Media dos Saltos: ', 5.9)\n"
     ]
    }
   ],
   "source": [
    "a = ['primeiro salto','segundo salto','terceiro salto','quarto salto','quinto salto']\n",
    "print('Resultado final:')\n",
    "nome_atleta = raw_input('Atleta: ')\n",
    "saltos = []\n",
    "for i in range(len(a)):\n",
    "    saltos.append(float(input('' + a[i])))\n",
    "    \n",
    "soma = 0\n",
    "for n in range(len(saltos)):\n",
    "    soma = soma + saltos[n]\n",
    "\n",
    "media = soma / len(a)\n",
    "    \n",
    "print('Saltos: ',saltos)\n",
    "print('Media dos Saltos: ',media)\n",
    "    "
   ]
  },
  {
   "cell_type": "markdown",
   "metadata": {},
   "source": [
    "### Uma grande emissora de televisão quer fazer uma enquete entre os seus telespectadores para saber qual o melhor jogador após cada jogo. Para isto, faz-se necessário o desenvolvimento de um programa, que será utilizado pelas telefonistas, para a computação dos votos. Sua equipe foi contratada para desenvolver este programa, utilizando a linguagem de programação C++. Para computar cada voto, a telefonista digitará um número, entre 1 e 23, correspondente ao número da camisa do jogador. Um número de jogador igual zero, indica que a votação foi encerrada. Se um número inválido for digitado, o programa deve ignorá-lo, mostrando uma breve mensagem de aviso, e voltando a pedir outro número. Após o final da votação, o programa deverá exibir:\n",
    "<pre>O total de votos computados;\n",
    "Os númeos e respectivos votos de todos os jogadores que receberam votos;\n",
    "O percentual de votos de cada um destes jogadores;\n",
    "O número do jogador escolhido como o melhor jogador da partida, juntamente com o número de votos e o percentual de votos dados a ele.\n",
    "Observe que os votos inválidos e o zero final não devem ser computados como votos. O resultado aparece ordenado pelo número do jogador. O programa deve fazer uso de arrays. O programa deverá executar o cálculo do percentual de cada jogador através de uma função. Esta função receberá dois parâmetros: o número de votos de um jogador e o total de votos. A função calculará o percentual e retornará o valor calculado. Abaixo segue uma tela de exemplo. O disposição das informações deve ser o mais próxima possível ao exemplo. Os dados são fictícios e podem mudar a cada execução do programa. Ao final, o programa deve ainda gravar os dados referentes ao resultado da votação em um arquivo texto no disco, obedecendo a mesma disposição apresentada na tela.\n",
    "Enquete: Quem foi o melhor jogador?\n",
    "\n",
    "Número do jogador (0=fim): 9\n",
    "Número do jogador (0=fim): 10\n",
    "Número do jogador (0=fim): 9\n",
    "Número do jogador (0=fim): 10\n",
    "Número do jogador (0=fim): 11\n",
    "Número do jogador (0=fim): 10\n",
    "Número do jogador (0=fim): 50\n",
    "Informe um valor entre 1 e 23 ou 0 para sair!\n",
    "Número do jogador (0=fim): 9\n",
    "Número do jogador (0=fim): 9\n",
    "Número do jogador (0=fim): 0\n",
    "\n",
    "Resultado da votação:\n",
    "\n",
    "Foram computados 8 votos.\n",
    "\n",
    "Jogador Votos           %\n",
    "9               4               50,0%\n",
    "10              3               37,5%\n",
    "11              1               12,5%\n",
    "O melhor jogador foi o número 9, com 4 votos, correspondendo a 50% do total de votos.</pre>"
   ]
  },
  {
   "cell_type": "markdown",
   "metadata": {},
   "source": [
    "## Uma empresa de pesquisas precisa tabular os resultados da seguinte enquete feita a um grande quantidade de organizações:\n",
    "<pre>\"Qual o melhor Sistema Operacional para uso em servidores?\"\n",
    "\n",
    "As possíveis respostas são:\n",
    "\n",
    "1- Windows Server\n",
    "2- Unix\n",
    "3- Linux\n",
    "4- Netware\n",
    "5- Mac OS\n",
    "6- Outro\n",
    "Você foi contratado para desenvolver um programa que leia o resultado da enquete e informe ao final o resultado da mesma. O programa deverá ler os valores até ser informado o valor 0, que encerra a entrada dos dados. Não deverão ser aceitos valores além dos válidos para o programa (0 a 6). Os valores referentes a cada uma das opções devem ser armazenados num vetor. Após os dados terem sido completamente informados, o programa deverá calcular a percentual de cada um dos concorrentes e informar o vencedor da enquete. O formato da saída foi dado pela empresa, e é o seguinte:\n",
    "Sistema Operacional     Votos   %\n",
    "-------------------     -----   ---\n",
    "Windows Server           1500   17%\n",
    "Unix                     3500   40%\n",
    "Linux                    3000   34%\n",
    "Netware                   500    5%\n",
    "Mac OS                    150    2%\n",
    "Outro                     150    2%\n",
    "-------------------     -----\n",
    "Total                    8800\n",
    "\n",
    "O Sistema Operacional mais votado foi o Unix, com 3500 votos, correspondendo a 40% dos votos.\n",
    "</pre>"
   ]
  },
  {
   "cell_type": "code",
   "execution_count": 109,
   "metadata": {},
   "outputs": [
    {
     "name": "stdout",
     "output_type": "stream",
     "text": [
      "informe um numero ou -1 para finalizar: 1\n",
      "informe um numero ou -1 para finalizar: 2\n",
      "informe um numero ou -1 para finalizar: 3\n",
      "informe um numero ou -1 para finalizar: 5\n",
      "informe um numero ou -1 para finalizar: 5\n",
      "informe um numero ou -1 para finalizar: 5\n",
      "informe um numero ou -1 para finalizar: 5\n",
      "informe um numero ou -1 para finalizar: 6\n",
      "informe um numero ou -1 para finalizar: 6\n",
      "informe um numero ou -1 para finalizar: 3\n",
      "informe um numero ou -1 para finalizar: 3\n",
      "informe um numero ou -1 para finalizar: 2\n",
      "informe um numero ou -1 para finalizar: 1\n",
      "informe um numero ou -1 para finalizar: 1\n",
      "informe um numero ou -1 para finalizar: 1\n",
      "informe um numero ou -1 para finalizar: 3\n",
      "informe um numero ou -1 para finalizar: 3\n",
      "informe um numero ou -1 para finalizar: 3\n",
      "informe um numero ou -1 para finalizar: 3\n",
      "informe um numero ou -1 para finalizar: -1\n",
      "{'porcentagem': 21.052631578947366, 'unix': 2, 'netware': 0, 'linux': 7, 'windows': 4, 'mac Os': 4, 'outro': 2}\n",
      "19.0\n"
     ]
    }
   ],
   "source": [
    "dic = ['windows','unix','linux','netware','mac Os','outro'] \n",
    "\n",
    "windows = []\n",
    "unix = []\n",
    "linux = []\n",
    "netware = []\n",
    "mac_os = []\n",
    "outro = []\n",
    "soma = float(0)\n",
    "\n",
    "sistema = float(input('informe um numero ou -1 para finalizar: '))\n",
    "    \n",
    "while sistema != -1:\n",
    "   \n",
    "    \n",
    "    if sistema == 1:\n",
    "        windows.append(1)\n",
    "        soma = soma + 1\n",
    "        \n",
    "    if sistema == 2:\n",
    "        unix.append(1)\n",
    "        soma = soma + 1\n",
    "        \n",
    "    if sistema == 3:\n",
    "        linux.append(1)\n",
    "        soma = soma + 1\n",
    "        \n",
    "    if sistema == 4:\n",
    "        netware.append(1) \n",
    "        soma = soma + 1\n",
    "        \n",
    "    if sistema == 5:\n",
    "        mac_os.append(1) \n",
    "        soma = soma + 1\n",
    "        \n",
    "    if sistema == 6:\n",
    "        outro.append(1) \n",
    "        soma = soma + 1\n",
    "        \n",
    "    sistema = float(input('informe um numero ou -1 para finalizar: '))\n",
    "        \n",
    "lista = {}\n",
    "for j in range(len(dic)):\n",
    "    \n",
    "    lista.update({dic[0]: len(windows), 'porcentagem': len(windows) / soma)})\n",
    "    lista.update({dic[1]:len(unix)})\n",
    "    lista.update({dic[2]: len(linux)})\n",
    "    lista.update({dic[3]:len(netware)})\n",
    "    lista.update({dic[4]: len(mac_os)})\n",
    "    lista.update({dic[5]:len(outro)})\n",
    "        \n",
    "print(lista)\n",
    "print(soma)\n",
    "    "
   ]
  },
  {
   "cell_type": "markdown",
   "metadata": {},
   "source": []
  },
  {
   "cell_type": "code",
   "execution_count": 11,
   "metadata": {},
   "outputs": [
    {
     "name": "stdout",
     "output_type": "stream",
     "text": [
      "informe um numero ou -1 para finalizar: 1\n",
      "informe um numero ou -1 para finalizar: 2\n",
      "informe um numero ou -1 para finalizar: 3\n",
      "informe um numero ou -1 para finalizar: 3\n",
      "informe um numero ou -1 para finalizar: 3\n",
      "informe um numero ou -1 para finalizar: 4\n",
      "informe um numero ou -1 para finalizar: -1\n",
      "windows = 1\n",
      "unix = 1\n",
      "linux = 3\n",
      "netware = 1\n",
      "mac os = 0\n",
      "bono = 0\n"
     ]
    }
   ],
   "source": [
    "os = ['windows','unix','linux','netware','mac os','bono']\n",
    "counts = [0] * len(os)\n",
    "sistema = int(input('informe um numero ou -1 para finalizar: '))\n",
    "    \n",
    "while sistema != -1:\n",
    "    p = sistema - 1\n",
    "    counts[p] = counts[p] + 1\n",
    "    sistema = int(input('informe um numero ou -1 para finalizar: '))\n",
    "\n",
    "for o, c in zip(os, counts):\n",
    "    print '%s = %d' % (o, c)\n",
    "    \n",
    "#for i in range(6):\n",
    "#    print '%s = %d' % (os[i], counts[i])"
   ]
  },
  {
   "cell_type": "code",
   "execution_count": 9,
   "metadata": {},
   "outputs": [
    {
     "name": "stdout",
     "output_type": "stream",
     "text": [
      "a 1\n",
      "b 2\n",
      "c 3\n"
     ]
    }
   ],
   "source": [
    "v1 = ['a', 'b', 'c']\n",
    "v2 = [1, 2, 3]\n",
    "\n",
    "for x, y in zip(v1, v2):\n",
    "    print x, y"
   ]
  },
  {
   "cell_type": "code",
   "execution_count": null,
   "metadata": {},
   "outputs": [],
   "source": []
  }
 ],
 "metadata": {
  "kernelspec": {
   "display_name": "Python 2",
   "language": "python",
   "name": "python2"
  },
  "language_info": {
   "codemirror_mode": {
    "name": "ipython",
    "version": 2
   },
   "file_extension": ".py",
   "mimetype": "text/x-python",
   "name": "python",
   "nbconvert_exporter": "python",
   "pygments_lexer": "ipython2",
   "version": "2.7.12"
  }
 },
 "nbformat": 4,
 "nbformat_minor": 2
}
