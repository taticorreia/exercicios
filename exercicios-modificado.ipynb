{
 "cells": [
  {
   "cell_type": "markdown",
   "metadata": {},
   "source": [
    "### Exercício 1\n",
    "Escreva um algoritmo que mostre todos os números ímpares de 1 até 100"
   ]
  },
  {
   "cell_type": "code",
   "execution_count": 29,
   "metadata": {},
   "outputs": [
    {
     "name": "stdout",
     "output_type": "stream",
     "text": [
      "[1, 3, 5, 7, 9, 11, 13, 15, 17, 19, 21, 23, 25, 27, 29, 31, 33, 35, 37, 39, 41, 43, 45, 47, 49, 51, 53, 55, 57, 59, 61, 63, 65, 67, 69, 71, 73, 75, 77, 79, 81, 83, 85, 87, 89, 91, 93, 95, 97, 99]\n"
     ]
    }
   ],
   "source": [
    "m = []\n",
    "contador = 1\n",
    "while contador <= 100:\n",
    "    if contador % 2 == 1:\n",
    "        m.append(contador)    \n",
    "       \n",
    "    contador = contador + 1\n",
    "    \n",
    "print(m)\n"
   ]
  },
  {
   "cell_type": "markdown",
   "metadata": {},
   "source": [
    "### Exercício 2\n",
    "Escreva um programa que pergunte ao usuário quantos alunos tem na sala dele. Em seguida,\n",
    "através de um laço while, pede ao usuário para que entre com as notas de todos os alunos da\n",
    "sala, um por vez. Por fim, o programa deve mostrar a média da turma.\n"
   ]
  },
  {
   "cell_type": "code",
   "execution_count": 45,
   "metadata": {},
   "outputs": [
    {
     "name": "stdout",
     "output_type": "stream",
     "text": [
      "quantidade de aluno: 3\n",
      "valor da nota: 5\n",
      "valor da nota: 7\n",
      "valor da nota: 4\n",
      "A media da turma sera: 5\n"
     ]
    }
   ],
   "source": [
    "m = None\n",
    "\n",
    "alunos = int(input('quantidade de aluno: '))\n",
    "contador = 1\n",
    "while contador <= alunos:\n",
    "    nota = int(input('valor da nota: '))\n",
    "    \n",
    "    if m == None:\n",
    "        m = nota\n",
    "    if m == None:\n",
    "        m = m + (nota / alunos)\n",
    "                      \n",
    "    contador = contador + 1\n",
    "    \n",
    "                                  \n",
    "print('A media da turma sera: %d' %(m))\n",
    "        "
   ]
  },
  {
   "cell_type": "markdown",
   "metadata": {},
   "source": [
    "### Exercício 3\n",
    "Escreva um programa que solicita 10 números ao usuário, através de um laço while, e ao\n",
    "final mostre qual destes números é o maior"
   ]
  },
  {
   "cell_type": "code",
   "execution_count": 52,
   "metadata": {},
   "outputs": [
    {
     "name": "stdout",
     "output_type": "stream",
     "text": [
      "Insira um numero:345\n",
      "Insira um numero:4\n",
      "Insira um numero:5\n",
      "Insira um numero:6\n",
      "Insira um numero:7\n",
      "Insira um numero:8\n",
      "Insira um numero:34\n",
      "Insira um numero:29\n",
      "Insira um numero:3\n",
      "Insira um numero:2\n",
      "O maior numero e: 345\n"
     ]
    }
   ],
   "source": [
    "m = None\n",
    "contador = 1\n",
    "while contador <= 10:\n",
    "    n = int(input('Insira um numero:'))\n",
    "             \n",
    "    if n > m:\n",
    "        m = n\n",
    "    \n",
    "    contador = contador + 1\n",
    "    \n",
    "print('O maior numero e: %d' % (m))"
   ]
  },
  {
   "cell_type": "markdown",
   "metadata": {},
   "source": [
    "### Exercício 4\n",
    "Escreva um programa que solicita 10 números ao usuário, através de um laço while, e ao\n",
    "final mostre qual destes números é o maior e o menor."
   ]
  },
  {
   "cell_type": "code",
   "execution_count": 1,
   "metadata": {},
   "outputs": [
    {
     "name": "stdout",
     "output_type": "stream",
     "text": [
      "insira um numero:65\n",
      "insira um numero:876\n",
      "insira um numero:1\n",
      "insira um numero:98\n",
      "insira um numero:64\n",
      "o maior sera 876 e o menor 1\n"
     ]
    }
   ],
   "source": [
    "m = None\n",
    "k = None\n",
    "contador = 1\n",
    "while contador <= 5:\n",
    "    n = int(input('insira um numero:'))\n",
    "    \n",
    "    if m == None:\n",
    "        m = n\n",
    "    \n",
    "    if n > m:\n",
    "        m = n\n",
    "    \n",
    "    if k == None:\n",
    "        k = n\n",
    "        \n",
    "    if n < k:\n",
    "        k = n\n",
    "           \n",
    "    contador = contador + 1\n",
    "\n",
    "print('o maior sera %d e o menor %d' % (m,k))"
   ]
  },
  {
   "cell_type": "markdown",
   "metadata": {},
   "source": [
    "### Exercício 5\n",
    "\n",
    "Escreva um programa que solicita 10 números ao usuário, através de um laço while, e ao\n",
    "final mostre os dois maiores números digitados pelo usuário."
   ]
  },
  {
   "cell_type": "code",
   "execution_count": 9,
   "metadata": {},
   "outputs": [
    {
     "name": "stdout",
     "output_type": "stream",
     "text": [
      "insira um numero:45\n",
      "insira um numero:67\n",
      "insira um numero:32\n",
      "insira um numero:578\n",
      "insira um numero:876\n",
      "insira um numero:2\n",
      "insira um numero:3\n",
      "insira um numero:5\n",
      "insira um numero:7\n",
      "insira um numero:8\n",
      "[578, 876]\n"
     ]
    }
   ],
   "source": [
    "m = []\n",
    "\n",
    "contador = 1\n",
    "while contador <= 10:\n",
    "    n = int(input('insira um numero:'))\n",
    "    \n",
    "    if n > 0:\n",
    "        m.append(n)\n",
    "    contador = contador + 1\n",
    "    \n",
    "ord = sorted(m)\n",
    "\n",
    "print(ord [8:10])\n"
   ]
  },
  {
   "cell_type": "markdown",
   "metadata": {},
   "source": [
    "## Exercício 6\n",
    "\n",
    "Escreva um programa que pergunta um número ao usuário, e mostra sua tabuada completa\n",
    "de 1 esse número (tabuada de 1 a 10)."
   ]
  },
  {
   "cell_type": "code",
   "execution_count": 53,
   "metadata": {},
   "outputs": [
    {
     "name": "stdout",
     "output_type": "stream",
     "text": [
      "insira um numero:4\n",
      "4 * 1 = 4\n",
      "4 * 2 = 8\n",
      "4 * 3 = 12\n",
      "4 * 4 = 16\n",
      "4 * 5 = 20\n",
      "4 * 6 = 24\n",
      "4 * 7 = 28\n",
      "4 * 8 = 32\n",
      "4 * 9 = 36\n",
      "4 * 10 = 40\n"
     ]
    }
   ],
   "source": [
    "n = int(input('insira um numero:'))\n",
    "contador = 1\n",
    "while contador <= 10:\n",
    "    \n",
    "    resultado = n * contador \n",
    "    \n",
    "    print('%d * %d = %d' % (n, contador, resultado))\n",
    "    \n",
    "    contador = contador + 1\n",
    "\n",
    "    "
   ]
  },
  {
   "cell_type": "markdown",
   "metadata": {},
   "source": [
    "### Exercício 7\n",
    "Faça um algoritmo que imprima todas as tabuadas do 1 ao 10."
   ]
  },
  {
   "cell_type": "code",
   "execution_count": 13,
   "metadata": {
    "scrolled": false
   },
   "outputs": [
    {
     "name": "stdout",
     "output_type": "stream",
     "text": [
      "\n",
      "\n",
      "Imprimindo a tabuada do 1\n",
      "1 * 1 = 1\n",
      "1 * 2 = 2\n",
      "1 * 3 = 3\n",
      "1 * 4 = 4\n",
      "1 * 5 = 5\n",
      "1 * 6 = 6\n",
      "1 * 7 = 7\n",
      "1 * 8 = 8\n",
      "1 * 9 = 9\n",
      "1 * 10 = 10\n",
      "\n",
      "\n",
      "Imprimindo a tabuada do 2\n",
      "2 * 1 = 2\n",
      "2 * 2 = 4\n",
      "2 * 3 = 6\n",
      "2 * 4 = 8\n",
      "2 * 5 = 10\n",
      "2 * 6 = 12\n",
      "2 * 7 = 14\n",
      "2 * 8 = 16\n",
      "2 * 9 = 18\n",
      "2 * 10 = 20\n",
      "\n",
      "\n",
      "Imprimindo a tabuada do 3\n",
      "3 * 1 = 3\n",
      "3 * 2 = 6\n",
      "3 * 3 = 9\n",
      "3 * 4 = 12\n",
      "3 * 5 = 15\n",
      "3 * 6 = 18\n",
      "3 * 7 = 21\n",
      "3 * 8 = 24\n",
      "3 * 9 = 27\n",
      "3 * 10 = 30\n",
      "\n",
      "\n",
      "Imprimindo a tabuada do 4\n",
      "4 * 1 = 4\n",
      "4 * 2 = 8\n",
      "4 * 3 = 12\n",
      "4 * 4 = 16\n",
      "4 * 5 = 20\n",
      "4 * 6 = 24\n",
      "4 * 7 = 28\n",
      "4 * 8 = 32\n",
      "4 * 9 = 36\n",
      "4 * 10 = 40\n",
      "\n",
      "\n",
      "Imprimindo a tabuada do 5\n",
      "5 * 1 = 5\n",
      "5 * 2 = 10\n",
      "5 * 3 = 15\n",
      "5 * 4 = 20\n",
      "5 * 5 = 25\n",
      "5 * 6 = 30\n",
      "5 * 7 = 35\n",
      "5 * 8 = 40\n",
      "5 * 9 = 45\n",
      "5 * 10 = 50\n",
      "\n",
      "\n",
      "Imprimindo a tabuada do 6\n",
      "6 * 1 = 6\n",
      "6 * 2 = 12\n",
      "6 * 3 = 18\n",
      "6 * 4 = 24\n",
      "6 * 5 = 30\n",
      "6 * 6 = 36\n",
      "6 * 7 = 42\n",
      "6 * 8 = 48\n",
      "6 * 9 = 54\n",
      "6 * 10 = 60\n",
      "\n",
      "\n",
      "Imprimindo a tabuada do 7\n",
      "7 * 1 = 7\n",
      "7 * 2 = 14\n",
      "7 * 3 = 21\n",
      "7 * 4 = 28\n",
      "7 * 5 = 35\n",
      "7 * 6 = 42\n",
      "7 * 7 = 49\n",
      "7 * 8 = 56\n",
      "7 * 9 = 63\n",
      "7 * 10 = 70\n",
      "\n",
      "\n",
      "Imprimindo a tabuada do 8\n",
      "8 * 1 = 8\n",
      "8 * 2 = 16\n",
      "8 * 3 = 24\n",
      "8 * 4 = 32\n",
      "8 * 5 = 40\n",
      "8 * 6 = 48\n",
      "8 * 7 = 56\n",
      "8 * 8 = 64\n",
      "8 * 9 = 72\n",
      "8 * 10 = 80\n",
      "\n",
      "\n",
      "Imprimindo a tabuada do 9\n",
      "9 * 1 = 9\n",
      "9 * 2 = 18\n",
      "9 * 3 = 27\n",
      "9 * 4 = 36\n",
      "9 * 5 = 45\n",
      "9 * 6 = 54\n",
      "9 * 7 = 63\n",
      "9 * 8 = 72\n",
      "9 * 9 = 81\n",
      "9 * 10 = 90\n",
      "\n",
      "\n",
      "Imprimindo a tabuada do 10\n",
      "10 * 1 = 10\n",
      "10 * 2 = 20\n",
      "10 * 3 = 30\n",
      "10 * 4 = 40\n",
      "10 * 5 = 50\n",
      "10 * 6 = 60\n",
      "10 * 7 = 70\n",
      "10 * 8 = 80\n",
      "10 * 9 = 90\n",
      "10 * 10 = 100\n"
     ]
    }
   ],
   "source": [
    "contador1 = 1\n",
    "while contador1 <= 10:\n",
    "    \n",
    "    print('\\n') # pulando uma linha\n",
    "    print('Imprimindo a tabuada do %d' % (contador1))\n",
    "    \n",
    "    contador2 = 1\n",
    "    while contador2 <= 10:\n",
    "\n",
    "        resultado = contador1 * contador2 \n",
    "        print('%d * %d = %d' % (contador1, contador2, resultado))\n",
    "        contador2 = contador2 + 1\n",
    "        \n",
    "    contador1 = contador1 + 1 # incrementando contador para fazer a próxima tabuada"
   ]
  },
  {
   "cell_type": "markdown",
   "metadata": {},
   "source": [
    "### Exercicio 8\n",
    "\n",
    "Faça novamente o exercicio anterior usando `for`.\n",
    "\n",
    "Exemplo:<br><br>\n",
    "`\n",
    "for contador in range(1, 11):\n",
    "    print(contador)\n",
    "`"
   ]
  },
  {
   "cell_type": "code",
   "execution_count": 1,
   "metadata": {},
   "outputs": [
    {
     "name": "stdout",
     "output_type": "stream",
     "text": [
      "\n",
      "\n",
      "tabuada do: 1\n",
      "1 * 1 = 1\n",
      "1 * 2 = 2\n",
      "1 * 3 = 3\n",
      "1 * 4 = 4\n",
      "1 * 5 = 5\n",
      "1 * 6 = 6\n",
      "1 * 7 = 7\n",
      "1 * 8 = 8\n",
      "1 * 9 = 9\n",
      "1 * 10 = 10\n",
      "\n",
      "\n",
      "tabuada do: 2\n",
      "2 * 1 = 2\n",
      "2 * 2 = 4\n",
      "2 * 3 = 6\n",
      "2 * 4 = 8\n",
      "2 * 5 = 10\n",
      "2 * 6 = 12\n",
      "2 * 7 = 14\n",
      "2 * 8 = 16\n",
      "2 * 9 = 18\n",
      "2 * 10 = 20\n",
      "\n",
      "\n",
      "tabuada do: 3\n",
      "3 * 1 = 3\n",
      "3 * 2 = 6\n",
      "3 * 3 = 9\n",
      "3 * 4 = 12\n",
      "3 * 5 = 15\n",
      "3 * 6 = 18\n",
      "3 * 7 = 21\n",
      "3 * 8 = 24\n",
      "3 * 9 = 27\n",
      "3 * 10 = 30\n",
      "\n",
      "\n",
      "tabuada do: 4\n",
      "4 * 1 = 4\n",
      "4 * 2 = 8\n",
      "4 * 3 = 12\n",
      "4 * 4 = 16\n",
      "4 * 5 = 20\n",
      "4 * 6 = 24\n",
      "4 * 7 = 28\n",
      "4 * 8 = 32\n",
      "4 * 9 = 36\n",
      "4 * 10 = 40\n",
      "\n",
      "\n",
      "tabuada do: 5\n",
      "5 * 1 = 5\n",
      "5 * 2 = 10\n",
      "5 * 3 = 15\n",
      "5 * 4 = 20\n",
      "5 * 5 = 25\n",
      "5 * 6 = 30\n",
      "5 * 7 = 35\n",
      "5 * 8 = 40\n",
      "5 * 9 = 45\n",
      "5 * 10 = 50\n",
      "\n",
      "\n",
      "tabuada do: 6\n",
      "6 * 1 = 6\n",
      "6 * 2 = 12\n",
      "6 * 3 = 18\n",
      "6 * 4 = 24\n",
      "6 * 5 = 30\n",
      "6 * 6 = 36\n",
      "6 * 7 = 42\n",
      "6 * 8 = 48\n",
      "6 * 9 = 54\n",
      "6 * 10 = 60\n",
      "\n",
      "\n",
      "tabuada do: 7\n",
      "7 * 1 = 7\n",
      "7 * 2 = 14\n",
      "7 * 3 = 21\n",
      "7 * 4 = 28\n",
      "7 * 5 = 35\n",
      "7 * 6 = 42\n",
      "7 * 7 = 49\n",
      "7 * 8 = 56\n",
      "7 * 9 = 63\n",
      "7 * 10 = 70\n",
      "\n",
      "\n",
      "tabuada do: 8\n",
      "8 * 1 = 8\n",
      "8 * 2 = 16\n",
      "8 * 3 = 24\n",
      "8 * 4 = 32\n",
      "8 * 5 = 40\n",
      "8 * 6 = 48\n",
      "8 * 7 = 56\n",
      "8 * 8 = 64\n",
      "8 * 9 = 72\n",
      "8 * 10 = 80\n",
      "\n",
      "\n",
      "tabuada do: 9\n",
      "9 * 1 = 9\n",
      "9 * 2 = 18\n",
      "9 * 3 = 27\n",
      "9 * 4 = 36\n",
      "9 * 5 = 45\n",
      "9 * 6 = 54\n",
      "9 * 7 = 63\n",
      "9 * 8 = 72\n",
      "9 * 9 = 81\n",
      "9 * 10 = 90\n",
      "\n",
      "\n",
      "tabuada do: 10\n",
      "10 * 1 = 10\n",
      "10 * 2 = 20\n",
      "10 * 3 = 30\n",
      "10 * 4 = 40\n",
      "10 * 5 = 50\n",
      "10 * 6 = 60\n",
      "10 * 7 = 70\n",
      "10 * 8 = 80\n",
      "10 * 9 = 90\n",
      "10 * 10 = 100\n"
     ]
    }
   ],
   "source": [
    "for contador in range(1, 11):\n",
    "    print('\\n') \n",
    "    print('tabuada do: %d' % (contador))\n",
    "        \n",
    "    for contador2 in range(1, 11):\n",
    "        \n",
    "        resultado = contador * contador2\n",
    "    \n",
    "        print('%d * %d = %d' % (contador, contador2, resultado))"
   ]
  },
  {
   "cell_type": "markdown",
   "metadata": {},
   "source": [
    "### EXERCÍCIO\n",
    "\n",
    "Escreve um algoritmo que calcula a transposta da matriz a a seguir e armazene em uma matriz b. Imprima a matriz b ao final.\n",
    "\n",
    "a = [\n",
    "    [10, -1, 14],\n",
    "    [15, 10, -3]\n",
    "    \n",
    "]"
   ]
  },
  {
   "cell_type": "code",
   "execution_count": null,
   "metadata": {},
   "outputs": [],
   "source": []
  },
  {
   "cell_type": "markdown",
   "metadata": {},
   "source": []
  },
  {
   "cell_type": "code",
   "execution_count": 4,
   "metadata": {},
   "outputs": [
    {
     "name": "stdout",
     "output_type": "stream",
     "text": [
      "Valor: 10\n",
      "Valor: -1\n",
      "Valor: 14\n",
      "Valor: 15\n",
      "Valor: 10\n",
      "Valor: -3\n"
     ]
    }
   ],
   "source": [
    "b = [\n",
    "    [10, -1, 14],\n",
    "    [15, 10, -3]\n",
    "]\n",
    "\n",
    "\n",
    "linha = 0\n",
    "while linha < len(b):\n",
    "    coluna = 0\n",
    "   \n",
    "    while coluna < len(b[0]):\n",
    "         \n",
    "        print('Valor: %d'% (b[linha][coluna]))\n",
    "    \n",
    "        coluna = coluna + 1\n",
    "    linha = linha + 1"
   ]
  },
  {
   "cell_type": "code",
   "execution_count": 14,
   "metadata": {},
   "outputs": [
    {
     "name": "stdout",
     "output_type": "stream",
     "text": [
      "[[10, 15], [-1, 10], [14, -3]]\n"
     ]
    }
   ],
   "source": [
    "b = [\n",
    "    [10, -1, 14],\n",
    "    [15, 10, -3]\n",
    "]\n",
    "\n",
    "num_linhas = len(b)\n",
    "num_colunas = len(b[0])\n",
    "\n",
    "c = [\n",
    "    [0, 0],\n",
    "    [0, 0],\n",
    "    [0, 0]\n",
    "]\n",
    "\n",
    "linha = 0\n",
    "while linha < num_linhas:\n",
    "\n",
    "    coluna = 0\n",
    "    \n",
    "    while coluna < num_colunas:\n",
    "\n",
    "        c[coluna][linha] = b[linha][coluna]\n",
    "        coluna = coluna + 1\n",
    "        \n",
    "    linha = linha + 1\n",
    "\n",
    "print(c)"
   ]
  },
  {
   "cell_type": "code",
   "execution_count": 15,
   "metadata": {},
   "outputs": [
    {
     "data": {
      "text/plain": [
       "matrix([[10, 15],\n",
       "        [-1, 10],\n",
       "        [14, -3]])"
      ]
     },
     "execution_count": 15,
     "metadata": {},
     "output_type": "execute_result"
    }
   ],
   "source": [
    "# jeito malandro\n",
    "\n",
    "import numpy\n",
    "\n",
    "numpy.mat(b).T"
   ]
  },
  {
   "cell_type": "markdown",
   "metadata": {},
   "source": [
    "### Exercício\n",
    "\n",
    "Escreva um algoritmo que multiplique as matrizes `a` e `b` a seguir e armazene o resultado na matriz `c`. Imprima a matriz `c` no final.\n",
    "\n",
    "<pre>\n",
    "\n",
    "a:\n",
    "[\n",
    "    [10, -1, 14],\n",
    "    [15, 10, -3]\n",
    "]\n",
    "\n",
    "b:\n",
    "[\n",
    "    [-2, 20],\n",
    "    [15, 17],\n",
    "    [-4, 10]\n",
    "]\n",
    "</pre>"
   ]
  },
  {
   "cell_type": "code",
   "execution_count": 3,
   "metadata": {},
   "outputs": [
    {
     "name": "stdout",
     "output_type": "stream",
     "text": [
      "[[-20, -15, -56], [300, 170, -30]]\n"
     ]
    }
   ],
   "source": [
    "\n",
    "a = [\n",
    "    [10, -1, 14],\n",
    "    [15, 10, -3]\n",
    "]\n",
    "\n",
    "b = [\n",
    "    [-2, 20],\n",
    "    [15, 17],\n",
    "    [-4, 10]\n",
    "]\n",
    "\n",
    "l = len(a)\n",
    "c = len(a[0])\n",
    "\n",
    "\"\"\"\n",
    "Note que a matriz B já está transposta, em relação a matriz A. Não é\n",
    "necessário transpor novamente.\n",
    "\n",
    "b1 = [\n",
    "    [0, 0, 0],\n",
    "    [0, 0, 0]\n",
    "]\n",
    "\"\"\"\n",
    "\n",
    "# matriz resultado\n",
    "r = [\n",
    "    [0, 0, 0],\n",
    "    [0, 0, 0]\n",
    "]\n",
    "\n",
    "linha = 0\n",
    "while linha < l:\n",
    "    \n",
    "    coluna = 0\n",
    "    while coluna < c:\n",
    "        \n",
    "        r[linha][coluna] = b[coluna][linha] * a[linha][coluna]\n",
    "        coluna = coluna + 1\n",
    "        \n",
    "    linha = linha + 1\n",
    "    \n",
    "    \n",
    "print(r)"
   ]
  },
  {
   "cell_type": "code",
   "execution_count": 33,
   "metadata": {},
   "outputs": [
    {
     "name": "stdout",
     "output_type": "stream",
     "text": [
      "[[-20, -15, -56], [300, 170, -30]]\n"
     ]
    }
   ],
   "source": [
    "\n",
    "a = [\n",
    "    [10, -1, 14],\n",
    "    [15, 10, -3]\n",
    "]\n",
    "\n",
    "b = [\n",
    "    [-2, 20],\n",
    "    [15, 17],\n",
    "    [-4, 10]\n",
    "]\n",
    "\n",
    "r = [\n",
    "    [0, 0, 0],\n",
    "    [0, 0, 0]\n",
    "]\n",
    "\n",
    "\n",
    "for linha in range(len(a)):\n",
    "    for coluna in range(len(a[0])):       \n",
    "            \n",
    "            \n",
    "        r[linha][coluna] = a[linha][coluna] * b[coluna][linha]\n",
    "    \n",
    "print(r)"
   ]
  },
  {
   "cell_type": "code",
   "execution_count": null,
   "metadata": {},
   "outputs": [],
   "source": []
  },
  {
   "cell_type": "code",
   "execution_count": null,
   "metadata": {},
   "outputs": [],
   "source": []
  }
 ],
 "metadata": {
  "kernelspec": {
   "display_name": "Python 2",
   "language": "python",
   "name": "python2"
  },
  "language_info": {
   "codemirror_mode": {
    "name": "ipython",
    "version": 2
   },
   "file_extension": ".py",
   "mimetype": "text/x-python",
   "name": "python",
   "nbconvert_exporter": "python",
   "pygments_lexer": "ipython2",
   "version": "2.7.12"
  }
 },
 "nbformat": 4,
 "nbformat_minor": 2
}
